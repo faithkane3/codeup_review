{
 "cells": [
  {
   "cell_type": "markdown",
   "metadata": {
    "toc": true
   },
   "source": [
    "<h1>Table of Contents<span class=\"tocSkip\"></span></h1>\n",
    "<div class=\"toc\"><ul class=\"toc-item\"><li><span><a href=\"#Class-Lesson\" data-toc-modified-id=\"Class-Lesson-1\"><span class=\"toc-item-num\">1&nbsp;&nbsp;</span>Class Lesson</a></span><ul class=\"toc-item\"><li><span><a href=\"#How-many-numbers-match-the-mask?\" data-toc-modified-id=\"How-many-numbers-match-the-mask?-1.1\"><span class=\"toc-item-num\">1.1&nbsp;&nbsp;</span>How many numbers match the mask?</a></span></li><li><span><a href=\"#Sum-all-the-numbers-that-match-the-mask-(x->-950)\" data-toc-modified-id=\"Sum-all-the-numbers-that-match-the-mask-(x->-950)-1.2\"><span class=\"toc-item-num\">1.2&nbsp;&nbsp;</span>Sum all the numbers that match the mask (x &gt; 950)</a></span></li></ul></li><li><span><a href=\"#Exercises\" data-toc-modified-id=\"Exercises-2\"><span class=\"toc-item-num\">2&nbsp;&nbsp;</span>Exercises</a></span><ul class=\"toc-item\"><li><span><a href=\"#How-many-negative-numbers-are-there?\" data-toc-modified-id=\"How-many-negative-numbers-are-there?-2.1\"><span class=\"toc-item-num\">2.1&nbsp;&nbsp;</span>How many negative numbers are there?</a></span></li><li><span><a href=\"#How-many-positive-numbers-are-there?\" data-toc-modified-id=\"How-many-positive-numbers-are-there?-2.2\"><span class=\"toc-item-num\">2.2&nbsp;&nbsp;</span>How many positive numbers are there?</a></span></li><li><span><a href=\"#How-many-even-positive-numbers-are-there?\" data-toc-modified-id=\"How-many-even-positive-numbers-are-there?-2.3\"><span class=\"toc-item-num\">2.3&nbsp;&nbsp;</span>How many even positive numbers are there?</a></span></li><li><span><a href=\"#If-you-were-to-add-3-to-each-data-point,-how-many-positive-numbers-would-there-be?\" data-toc-modified-id=\"If-you-were-to-add-3-to-each-data-point,-how-many-positive-numbers-would-there-be?-2.4\"><span class=\"toc-item-num\">2.4&nbsp;&nbsp;</span>If you were to add 3 to each data point, how many positive numbers would there be?</a></span></li><li><span><a href=\"#If-you-squared-each-number,-what-would-the-new-mean-and-standard-deviation-be?\" data-toc-modified-id=\"If-you-squared-each-number,-what-would-the-new-mean-and-standard-deviation-be?-2.5\"><span class=\"toc-item-num\">2.5&nbsp;&nbsp;</span>If you squared each number, what would the new mean and standard deviation be?</a></span></li><li><span><a href=\"#A-common-statistical-operation-on-a-dataset-is-centering.-This-means-to-adjust-the-data-such-that-the-center-of-the-data-is-at-0.-This-is-done-by-subtracting-the-mean-from-each-data-point.-Center-the-data-set.\" data-toc-modified-id=\"A-common-statistical-operation-on-a-dataset-is-centering.-This-means-to-adjust-the-data-such-that-the-center-of-the-data-is-at-0.-This-is-done-by-subtracting-the-mean-from-each-data-point.-Center-the-data-set.-2.6\"><span class=\"toc-item-num\">2.6&nbsp;&nbsp;</span>A common statistical operation on a dataset is centering. This means to adjust the data such that the center of the data is at 0. This is done by subtracting the mean from each data point. Center the data set.</a></span></li><li><span><a href=\"#Calculate-the-z-score-for-each-data-point.-Recall-that-the-z-score-is-given-by:\" data-toc-modified-id=\"Calculate-the-z-score-for-each-data-point.-Recall-that-the-z-score-is-given-by:-2.7\"><span class=\"toc-item-num\">2.7&nbsp;&nbsp;</span>Calculate the z-score for each data point. Recall that the z-score is given by:</a></span></li></ul></li><li><span><a href=\"#More-Exercises\" data-toc-modified-id=\"More-Exercises-3\"><span class=\"toc-item-num\">3&nbsp;&nbsp;</span>More Exercises</a></span><ul class=\"toc-item\"><li><span><a href=\"#Exercise-1---Make-a-variable-called-sum_of_a-to-hold-the-sum-of-all-the-numbers-in-above-list.\" data-toc-modified-id=\"Exercise-1---Make-a-variable-called-sum_of_a-to-hold-the-sum-of-all-the-numbers-in-above-list.-3.1\"><span class=\"toc-item-num\">3.1&nbsp;&nbsp;</span>Exercise 1 - Make a variable called sum_of_a to hold the sum of all the numbers in above list.</a></span><ul class=\"toc-item\"><li><span><a href=\"#Using-numpy-.sum()\" data-toc-modified-id=\"Using-numpy-.sum()-3.1.1\"><span class=\"toc-item-num\">3.1.1&nbsp;&nbsp;</span>Using numpy <code>.sum()</code></a></span></li></ul></li><li><span><a href=\"#Exercise-2---Make-a-variable-named-min_of_a-to-hold-the-minimum-of-all-the-numbers-in-the-above-list.\" data-toc-modified-id=\"Exercise-2---Make-a-variable-named-min_of_a-to-hold-the-minimum-of-all-the-numbers-in-the-above-list.-3.2\"><span class=\"toc-item-num\">3.2&nbsp;&nbsp;</span>Exercise 2 - Make a variable named min_of_a to hold the minimum of all the numbers in the above list.</a></span></li><li><span><a href=\"#Exercise-3---Make-a-variable-named-max_of_a-to-hold-the-max-number-of-all-the-numbers-in-the-above-list\" data-toc-modified-id=\"Exercise-3---Make-a-variable-named-max_of_a-to-hold-the-max-number-of-all-the-numbers-in-the-above-list-3.3\"><span class=\"toc-item-num\">3.3&nbsp;&nbsp;</span>Exercise 3 - Make a variable named max_of_a to hold the max number of all the numbers in the above list</a></span><ul class=\"toc-item\"><li><span><a href=\"#Using-numpy-.max()\" data-toc-modified-id=\"Using-numpy-.max()-3.3.1\"><span class=\"toc-item-num\">3.3.1&nbsp;&nbsp;</span>Using numpy .max()</a></span></li></ul></li><li><span><a href=\"#Exercise-4---Make-a-variable-named-mean_of_a-to-hold-the-average-of-all-the-numbers-in-the-above-list.\" data-toc-modified-id=\"Exercise-4---Make-a-variable-named-mean_of_a-to-hold-the-average-of-all-the-numbers-in-the-above-list.-3.4\"><span class=\"toc-item-num\">3.4&nbsp;&nbsp;</span>Exercise 4 - Make a variable named mean_of_a to hold the average of all the numbers in the above list.</a></span><ul class=\"toc-item\"><li><span><a href=\"#Using-numpy-.mean()\" data-toc-modified-id=\"Using-numpy-.mean()-3.4.1\"><span class=\"toc-item-num\">3.4.1&nbsp;&nbsp;</span>Using numpy .mean()</a></span></li></ul></li><li><span><a href=\"#Exercise-5---Make-a-variable-named-product_of_a-to-hold-the-product-of-multiplying-all-the-numbers-in-the-above-list-together.\" data-toc-modified-id=\"Exercise-5---Make-a-variable-named-product_of_a-to-hold-the-product-of-multiplying-all-the-numbers-in-the-above-list-together.-3.5\"><span class=\"toc-item-num\">3.5&nbsp;&nbsp;</span>Exercise 5 - Make a variable named product_of_a to hold the product of multiplying all the numbers in the above list together.</a></span><ul class=\"toc-item\"><li><span><a href=\"#Using-a-List-Comprehension\" data-toc-modified-id=\"Using-a-List-Comprehension-3.5.1\"><span class=\"toc-item-num\">3.5.1&nbsp;&nbsp;</span>Using a List Comprehension</a></span></li><li><span><a href=\"#Using-numpy-.prod()\" data-toc-modified-id=\"Using-numpy-.prod()-3.5.2\"><span class=\"toc-item-num\">3.5.2&nbsp;&nbsp;</span>Using numpy .prod()</a></span></li></ul></li><li><span><a href=\"#Exercise-6---Make-a-variable-named-squares_of_a.-It-should-hold-each-number-in-a-squared-like-[1,-4,-9,-16,-25...]\" data-toc-modified-id=\"Exercise-6---Make-a-variable-named-squares_of_a.-It-should-hold-each-number-in-a-squared-like-[1,-4,-9,-16,-25...]-3.6\"><span class=\"toc-item-num\">3.6&nbsp;&nbsp;</span>Exercise 6 - Make a variable named squares_of_a. It should hold each number in a squared like [1, 4, 9, 16, 25...]</a></span><ul class=\"toc-item\"><li><span><a href=\"#Using-a-List-Comprehension\" data-toc-modified-id=\"Using-a-List-Comprehension-3.6.1\"><span class=\"toc-item-num\">3.6.1&nbsp;&nbsp;</span>Using a List Comprehension</a></span></li><li><span><a href=\"#Using-numpy\" data-toc-modified-id=\"Using-numpy-3.6.2\"><span class=\"toc-item-num\">3.6.2&nbsp;&nbsp;</span>Using numpy</a></span></li></ul></li><li><span><a href=\"#Exercise-7---Make-a-variable-named-odds_in_a.-It-should-hold-only-the-odd-numbers.\" data-toc-modified-id=\"Exercise-7---Make-a-variable-named-odds_in_a.-It-should-hold-only-the-odd-numbers.-3.7\"><span class=\"toc-item-num\">3.7&nbsp;&nbsp;</span>Exercise 7 - Make a variable named odds_in_a. It should hold only the odd numbers.</a></span><ul class=\"toc-item\"><li><span><a href=\"#Using-List-Comprehension\" data-toc-modified-id=\"Using-List-Comprehension-3.7.1\"><span class=\"toc-item-num\">3.7.1&nbsp;&nbsp;</span>Using List Comprehension</a></span></li><li><span><a href=\"#Using-numpy\" data-toc-modified-id=\"Using-numpy-3.7.2\"><span class=\"toc-item-num\">3.7.2&nbsp;&nbsp;</span>Using numpy</a></span></li></ul></li><li><span><a href=\"#Exercise-8---Make-a-variable-named-evens_in_a.-It-should-hold-only-the-evens.\" data-toc-modified-id=\"Exercise-8---Make-a-variable-named-evens_in_a.-It-should-hold-only-the-evens.-3.8\"><span class=\"toc-item-num\">3.8&nbsp;&nbsp;</span>Exercise 8 - Make a variable named evens_in_a. It should hold only the evens.</a></span><ul class=\"toc-item\"><li><span><a href=\"#Using-numpy\" data-toc-modified-id=\"Using-numpy-3.8.1\"><span class=\"toc-item-num\">3.8.1&nbsp;&nbsp;</span>Using numpy</a></span></li></ul></li></ul></li><li><span><a href=\"#Setup-B\" data-toc-modified-id=\"Setup-B-4\"><span class=\"toc-item-num\">4&nbsp;&nbsp;</span>Setup B</a></span><ul class=\"toc-item\"><li><span><a href=\"#Exercise-9---print-out-the-shape-of-the-array-b.\" data-toc-modified-id=\"Exercise-9---print-out-the-shape-of-the-array-b.-4.1\"><span class=\"toc-item-num\">4.1&nbsp;&nbsp;</span>Exercise 9 - print out the shape of the array b.</a></span></li><li><span><a href=\"#Exercise-10---transpose-the-array-b.\" data-toc-modified-id=\"Exercise-10---transpose-the-array-b.-4.2\"><span class=\"toc-item-num\">4.2&nbsp;&nbsp;</span>Exercise 10 - transpose the array b.</a></span></li><li><span><a href=\"#Exercise-11---reshape-the-array-b-to-be-a-single-list-of-6-numbers.-(1-x-6)\" data-toc-modified-id=\"Exercise-11---reshape-the-array-b-to-be-a-single-list-of-6-numbers.-(1-x-6)-4.3\"><span class=\"toc-item-num\">4.3&nbsp;&nbsp;</span>Exercise 11 - reshape the array b to be a single list of 6 numbers. (1 x 6)</a></span></li><li><span><a href=\"#Exercise-12---reshape-the-array-b-to-be-a-list-of-6-lists,-each-containing-only-1-number-(6-x-1)\" data-toc-modified-id=\"Exercise-12---reshape-the-array-b-to-be-a-list-of-6-lists,-each-containing-only-1-number-(6-x-1)-4.4\"><span class=\"toc-item-num\">4.4&nbsp;&nbsp;</span>Exercise 12 - reshape the array b to be a list of 6 lists, each containing only 1 number (6 x 1)</a></span></li></ul></li><li><span><a href=\"#Setup-c\" data-toc-modified-id=\"Setup-c-5\"><span class=\"toc-item-num\">5&nbsp;&nbsp;</span>Setup c</a></span><ul class=\"toc-item\"><li><span><a href=\"#Exercise-1---Find-the-min,-max,-sum,-and-product-of-c\" data-toc-modified-id=\"Exercise-1---Find-the-min,-max,-sum,-and-product-of-c-5.1\"><span class=\"toc-item-num\">5.1&nbsp;&nbsp;</span>Exercise 1 - Find the min, max, sum, and product of c</a></span></li><li><span><a href=\"#Exercise-2---Determine-the-standard-deviation-of-c.\" data-toc-modified-id=\"Exercise-2---Determine-the-standard-deviation-of-c.-5.2\"><span class=\"toc-item-num\">5.2&nbsp;&nbsp;</span>Exercise 2 - Determine the standard deviation of c.</a></span></li><li><span><a href=\"#Exercise-4---Print-out-the-shape-of-the-array-c\" data-toc-modified-id=\"Exercise-4---Print-out-the-shape-of-the-array-c-5.3\"><span class=\"toc-item-num\">5.3&nbsp;&nbsp;</span>Exercise 4 - Print out the shape of the array c</a></span></li><li><span><a href=\"#Exercise-5---Transpose-c-and-print-out-transposed-result.\" data-toc-modified-id=\"Exercise-5---Transpose-c-and-print-out-transposed-result.-5.4\"><span class=\"toc-item-num\">5.4&nbsp;&nbsp;</span>Exercise 5 - Transpose c and print out transposed result.</a></span></li><li><span><a href=\"#Exercise-6---Get-the-dot-product-of-the-array-c-with-c.\" data-toc-modified-id=\"Exercise-6---Get-the-dot-product-of-the-array-c-with-c.-5.5\"><span class=\"toc-item-num\">5.5&nbsp;&nbsp;</span>Exercise 6 - Get the dot product of the array c with c.</a></span></li><li><span><a href=\"#Exercise-7---Write-the-code-necessary-to-sum-up-the-result-of-c-times-c-transposed.-Answer-should-be-261\" data-toc-modified-id=\"Exercise-7---Write-the-code-necessary-to-sum-up-the-result-of-c-times-c-transposed.-Answer-should-be-261-5.6\"><span class=\"toc-item-num\">5.6&nbsp;&nbsp;</span>Exercise 7 - Write the code necessary to sum up the result of c times c transposed. Answer should be 261</a></span></li><li><span><a href=\"#Exercise-8---Write-the-code-necessary-to-determine-the-product-of-c-times-c-transposed.-Answer-should-be-131681894400.\" data-toc-modified-id=\"Exercise-8---Write-the-code-necessary-to-determine-the-product-of-c-times-c-transposed.-Answer-should-be-131681894400.-5.7\"><span class=\"toc-item-num\">5.7&nbsp;&nbsp;</span>Exercise 8 - Write the code necessary to determine the product of c times c transposed. Answer should be 131681894400.</a></span></li></ul></li><li><span><a href=\"#Setup-d\" data-toc-modified-id=\"Setup-d-6\"><span class=\"toc-item-num\">6&nbsp;&nbsp;</span>Setup d</a></span><ul class=\"toc-item\"><li><span><a href=\"#Exercise-1---Find-the-sine-of-all-the-numbers-in-d\" data-toc-modified-id=\"Exercise-1---Find-the-sine-of-all-the-numbers-in-d-6.1\"><span class=\"toc-item-num\">6.1&nbsp;&nbsp;</span>Exercise 1 - Find the sine of all the numbers in d</a></span></li><li><span><a href=\"#Exercise-2---Find-the-cosine-of-all-the-numbers-in-d\" data-toc-modified-id=\"Exercise-2---Find-the-cosine-of-all-the-numbers-in-d-6.2\"><span class=\"toc-item-num\">6.2&nbsp;&nbsp;</span>Exercise 2 - Find the cosine of all the numbers in d</a></span></li><li><span><a href=\"#Exercise-3---Find-the-tangent-of-all-the-numbers-in-d\" data-toc-modified-id=\"Exercise-3---Find-the-tangent-of-all-the-numbers-in-d-6.3\"><span class=\"toc-item-num\">6.3&nbsp;&nbsp;</span>Exercise 3 - Find the tangent of all the numbers in d</a></span></li><li><span><a href=\"#Exercise-4---Find-all-the-negative-numbers-in-d\" data-toc-modified-id=\"Exercise-4---Find-all-the-negative-numbers-in-d-6.4\"><span class=\"toc-item-num\">6.4&nbsp;&nbsp;</span>Exercise 4 - Find all the negative numbers in d</a></span></li><li><span><a href=\"#Exercise-5---Find-all-the-positive-numbers-in-d\" data-toc-modified-id=\"Exercise-5---Find-all-the-positive-numbers-in-d-6.5\"><span class=\"toc-item-num\">6.5&nbsp;&nbsp;</span>Exercise 5 - Find all the positive numbers in d</a></span></li><li><span><a href=\"#Exercise-6---Return-an-array-of-only-the-unique-numbers-in-d.\" data-toc-modified-id=\"Exercise-6---Return-an-array-of-only-the-unique-numbers-in-d.-6.6\"><span class=\"toc-item-num\">6.6&nbsp;&nbsp;</span>Exercise 6 - Return an array of only the unique numbers in d.</a></span></li><li><span><a href=\"#Exercise-7---Determine-how-many-unique-numbers-there-are-in-d.\" data-toc-modified-id=\"Exercise-7---Determine-how-many-unique-numbers-there-are-in-d.-6.7\"><span class=\"toc-item-num\">6.7&nbsp;&nbsp;</span>Exercise 7 - Determine how many unique numbers there are in d.</a></span></li><li><span><a href=\"#Exercise-8---Print-out-the-shape-of-d.\" data-toc-modified-id=\"Exercise-8---Print-out-the-shape-of-d.-6.8\"><span class=\"toc-item-num\">6.8&nbsp;&nbsp;</span>Exercise 8 - Print out the shape of d.</a></span></li><li><span><a href=\"#Exercise-9---Transpose-and-then-print-out-the-shape-of-d.\" data-toc-modified-id=\"Exercise-9---Transpose-and-then-print-out-the-shape-of-d.-6.9\"><span class=\"toc-item-num\">6.9&nbsp;&nbsp;</span>Exercise 9 - Transpose and then print out the shape of d.</a></span></li></ul></li></ul></div>"
   ]
  },
  {
   "cell_type": "code",
   "execution_count": 2,
   "metadata": {},
   "outputs": [],
   "source": [
    "import pandas as pd\n",
    "import numpy as np\n",
    "\n",
    "import matplotlib.pyplot as plt\n",
    "%matplotlib inline\n",
    "\n",
    "from pydataset import data\n",
    "\n",
    "import warnings\n",
    "warnings.filterwarnings('ignore')"
   ]
  },
  {
   "cell_type": "markdown",
   "metadata": {},
   "source": [
    "## Class Lesson"
   ]
  },
  {
   "cell_type": "code",
   "execution_count": 3,
   "metadata": {},
   "outputs": [],
   "source": [
    "x = np.arange(-1000, 1000)"
   ]
  },
  {
   "cell_type": "code",
   "execution_count": 4,
   "metadata": {},
   "outputs": [],
   "source": [
    "mask = x > 950"
   ]
  },
  {
   "cell_type": "code",
   "execution_count": 5,
   "metadata": {},
   "outputs": [
    {
     "data": {
      "text/plain": [
       "array([False, False, False, ...,  True,  True,  True])"
      ]
     },
     "execution_count": 5,
     "metadata": {},
     "output_type": "execute_result"
    }
   ],
   "source": [
    "mask"
   ]
  },
  {
   "cell_type": "code",
   "execution_count": 6,
   "metadata": {},
   "outputs": [
    {
     "data": {
      "text/plain": [
       "array([951, 952, 953, 954, 955, 956, 957, 958, 959, 960, 961, 962, 963,\n",
       "       964, 965, 966, 967, 968, 969, 970, 971, 972, 973, 974, 975, 976,\n",
       "       977, 978, 979, 980, 981, 982, 983, 984, 985, 986, 987, 988, 989,\n",
       "       990, 991, 992, 993, 994, 995, 996, 997, 998, 999])"
      ]
     },
     "execution_count": 6,
     "metadata": {},
     "output_type": "execute_result"
    }
   ],
   "source": [
    "x[mask]"
   ]
  },
  {
   "cell_type": "markdown",
   "metadata": {},
   "source": [
    "### How many numbers match the mask?"
   ]
  },
  {
   "cell_type": "code",
   "execution_count": 7,
   "metadata": {},
   "outputs": [
    {
     "data": {
      "text/plain": [
       "49"
      ]
     },
     "execution_count": 7,
     "metadata": {},
     "output_type": "execute_result"
    }
   ],
   "source": [
    "mask.sum()"
   ]
  },
  {
   "cell_type": "markdown",
   "metadata": {},
   "source": [
    "### Sum all the numbers that match the mask (x > 950)"
   ]
  },
  {
   "cell_type": "code",
   "execution_count": 8,
   "metadata": {},
   "outputs": [
    {
     "data": {
      "text/plain": [
       "47775"
      ]
     },
     "execution_count": 8,
     "metadata": {},
     "output_type": "execute_result"
    }
   ],
   "source": [
    "x[mask].sum()"
   ]
  },
  {
   "cell_type": "code",
   "execution_count": 9,
   "metadata": {},
   "outputs": [
    {
     "data": {
      "text/plain": [
       "975.0"
      ]
     },
     "execution_count": 9,
     "metadata": {},
     "output_type": "execute_result"
    }
   ],
   "source": [
    "x[mask].mean()"
   ]
  },
  {
   "cell_type": "code",
   "execution_count": 10,
   "metadata": {},
   "outputs": [],
   "source": [
    "higher_than_950 = x[mask]"
   ]
  },
  {
   "cell_type": "code",
   "execution_count": 11,
   "metadata": {},
   "outputs": [
    {
     "data": {
      "text/plain": [
       "951"
      ]
     },
     "execution_count": 11,
     "metadata": {},
     "output_type": "execute_result"
    }
   ],
   "source": [
    "higher_than_950.min()"
   ]
  },
  {
   "cell_type": "code",
   "execution_count": 12,
   "metadata": {},
   "outputs": [
    {
     "data": {
      "text/plain": [
       "999"
      ]
     },
     "execution_count": 12,
     "metadata": {},
     "output_type": "execute_result"
    }
   ],
   "source": [
    "higher_than_950.max()"
   ]
  },
  {
   "cell_type": "code",
   "execution_count": 13,
   "metadata": {},
   "outputs": [
    {
     "data": {
      "text/plain": [
       "48"
      ]
     },
     "execution_count": 13,
     "metadata": {},
     "output_type": "execute_result"
    }
   ],
   "source": [
    "# returns the index of the highest number\n",
    "\n",
    "higher_than_950.argmax()"
   ]
  },
  {
   "cell_type": "code",
   "execution_count": 14,
   "metadata": {},
   "outputs": [
    {
     "data": {
      "text/plain": [
       "999"
      ]
     },
     "execution_count": 14,
     "metadata": {},
     "output_type": "execute_result"
    }
   ],
   "source": [
    "higher_than_950[higher_than_950.argmax()]"
   ]
  },
  {
   "cell_type": "code",
   "execution_count": 15,
   "metadata": {
    "scrolled": true
   },
   "outputs": [
    {
     "data": {
      "text/plain": [
       "pandas.core.series.Series"
      ]
     },
     "execution_count": 15,
     "metadata": {},
     "output_type": "execute_result"
    }
   ],
   "source": [
    "# convert array to a Pandas Series to use .iloc indexer\n",
    "\n",
    "higher_series = pd.Series(higher_than_950)\n",
    "type(higher_series)"
   ]
  },
  {
   "cell_type": "code",
   "execution_count": 16,
   "metadata": {},
   "outputs": [
    {
     "data": {
      "text/plain": [
       "999"
      ]
     },
     "execution_count": 16,
     "metadata": {},
     "output_type": "execute_result"
    }
   ],
   "source": [
    "# return the value at the index of higher_than_950.argmax()\n",
    "\n",
    "higher_series.iloc[higher_than_950.argmax()]"
   ]
  },
  {
   "cell_type": "markdown",
   "metadata": {},
   "source": [
    "## Exercises"
   ]
  },
  {
   "cell_type": "code",
   "execution_count": 65,
   "metadata": {},
   "outputs": [],
   "source": [
    "a = np.array([4, 10, 12, 23, -2, -1, 0, 0, 0, -6, 3, -7])"
   ]
  },
  {
   "cell_type": "markdown",
   "metadata": {},
   "source": [
    "### How many negative numbers are there?"
   ]
  },
  {
   "cell_type": "code",
   "execution_count": 66,
   "metadata": {},
   "outputs": [
    {
     "data": {
      "text/plain": [
       "array([False, False, False, False,  True,  True, False, False, False,\n",
       "        True, False,  True])"
      ]
     },
     "execution_count": 66,
     "metadata": {},
     "output_type": "execute_result"
    }
   ],
   "source": [
    "neg_bool = a < 0\n",
    "neg_bool"
   ]
  },
  {
   "cell_type": "code",
   "execution_count": 67,
   "metadata": {},
   "outputs": [
    {
     "data": {
      "text/plain": [
       "4"
      ]
     },
     "execution_count": 67,
     "metadata": {},
     "output_type": "execute_result"
    }
   ],
   "source": [
    "neg_bool.sum()"
   ]
  },
  {
   "cell_type": "markdown",
   "metadata": {},
   "source": [
    "### How many positive numbers are there?\n",
    "\n"
   ]
  },
  {
   "cell_type": "code",
   "execution_count": 68,
   "metadata": {},
   "outputs": [
    {
     "data": {
      "text/plain": [
       "array([ True,  True,  True,  True, False, False, False, False, False,\n",
       "       False,  True, False])"
      ]
     },
     "execution_count": 68,
     "metadata": {},
     "output_type": "execute_result"
    }
   ],
   "source": [
    "pos_bool = a > 0\n",
    "pos_bool"
   ]
  },
  {
   "cell_type": "code",
   "execution_count": 69,
   "metadata": {},
   "outputs": [
    {
     "data": {
      "text/plain": [
       "5"
      ]
     },
     "execution_count": 69,
     "metadata": {},
     "output_type": "execute_result"
    }
   ],
   "source": [
    "pos_bool.sum()"
   ]
  },
  {
   "cell_type": "markdown",
   "metadata": {},
   "source": [
    "### How many even positive numbers are there?"
   ]
  },
  {
   "cell_type": "code",
   "execution_count": 70,
   "metadata": {},
   "outputs": [
    {
     "data": {
      "text/plain": [
       "array([ True,  True,  True, False,  True, False,  True,  True,  True,\n",
       "        True, False, False])"
      ]
     },
     "execution_count": 70,
     "metadata": {},
     "output_type": "execute_result"
    }
   ],
   "source": [
    "even_bool = a % 2 == 0\n",
    "even_bool"
   ]
  },
  {
   "cell_type": "code",
   "execution_count": 72,
   "metadata": {},
   "outputs": [],
   "source": [
    "even_pos_bool = even_bool & pos_bool"
   ]
  },
  {
   "cell_type": "code",
   "execution_count": 73,
   "metadata": {},
   "outputs": [
    {
     "data": {
      "text/plain": [
       "3"
      ]
     },
     "execution_count": 73,
     "metadata": {},
     "output_type": "execute_result"
    }
   ],
   "source": [
    "even_pos_bool.sum()"
   ]
  },
  {
   "cell_type": "markdown",
   "metadata": {},
   "source": [
    "### If you were to add 3 to each data point, how many positive numbers would there be?"
   ]
  },
  {
   "cell_type": "code",
   "execution_count": 26,
   "metadata": {},
   "outputs": [
    {
     "data": {
      "text/plain": [
       "10"
      ]
     },
     "execution_count": 26,
     "metadata": {},
     "output_type": "execute_result"
    }
   ],
   "source": [
    "new_a = a + 3\n",
    "pos_new_a = new_a > 0\n",
    "pos_new_a.sum()"
   ]
  },
  {
   "cell_type": "markdown",
   "metadata": {},
   "source": [
    "### If you squared each number, what would the new mean and standard deviation be?"
   ]
  },
  {
   "cell_type": "code",
   "execution_count": 29,
   "metadata": {},
   "outputs": [
    {
     "data": {
      "text/plain": [
       "74.0"
      ]
     },
     "execution_count": 29,
     "metadata": {},
     "output_type": "execute_result"
    }
   ],
   "source": [
    "squared_a = a ** 2\n",
    "new_mean = squared_a.mean()\n",
    "new_mean"
   ]
  },
  {
   "cell_type": "code",
   "execution_count": 30,
   "metadata": {},
   "outputs": [
    {
     "data": {
      "text/plain": [
       "144.0243035046516"
      ]
     },
     "execution_count": 30,
     "metadata": {},
     "output_type": "execute_result"
    }
   ],
   "source": [
    "new_std = squared_a.std()\n",
    "new_std"
   ]
  },
  {
   "cell_type": "markdown",
   "metadata": {},
   "source": [
    "### A common statistical operation on a dataset is centering. This means to adjust the data such that the center of the data is at 0. This is done by subtracting the mean from each data point. Center the data set."
   ]
  },
  {
   "cell_type": "code",
   "execution_count": 34,
   "metadata": {},
   "outputs": [
    {
     "data": {
      "text/plain": [
       "array([  1.,   7.,   9.,  20.,  -5.,  -4.,  -3.,  -3.,  -3.,  -9.,   0.,\n",
       "       -10.])"
      ]
     },
     "execution_count": 34,
     "metadata": {},
     "output_type": "execute_result"
    }
   ],
   "source": [
    "a_mean = a.mean()\n",
    "centered_data = a - a_mean\n",
    "centered_data"
   ]
  },
  {
   "cell_type": "markdown",
   "metadata": {},
   "source": [
    "### Calculate the z-score for each data point. Recall that the z-score is given by:\n",
    "\n"
   ]
  },
  {
   "cell_type": "code",
   "execution_count": 36,
   "metadata": {},
   "outputs": [
    {
     "data": {
      "text/plain": [
       "array([ 0.12403473,  0.86824314,  1.11631261,  2.48069469, -0.62017367,\n",
       "       -0.49613894, -0.3721042 , -0.3721042 , -0.3721042 , -1.11631261,\n",
       "        0.        , -1.24034735])"
      ]
     },
     "execution_count": 36,
     "metadata": {},
     "output_type": "execute_result"
    }
   ],
   "source": [
    "z_score = centered_data / a.std()\n",
    "z_score"
   ]
  },
  {
   "cell_type": "markdown",
   "metadata": {},
   "source": [
    "## More Exercises"
   ]
  },
  {
   "cell_type": "code",
   "execution_count": 127,
   "metadata": {},
   "outputs": [],
   "source": [
    "a = [1, 2, 3, 4, 5, 6, 7, 8, 9, 10]"
   ]
  },
  {
   "cell_type": "markdown",
   "metadata": {},
   "source": [
    "### Exercise 1 - Make a variable called sum_of_a to hold the sum of all the numbers in above list."
   ]
  },
  {
   "cell_type": "code",
   "execution_count": 128,
   "metadata": {},
   "outputs": [
    {
     "name": "stdout",
     "output_type": "stream",
     "text": [
      "55\n"
     ]
    }
   ],
   "source": [
    "total = 0\n",
    "for ele in range(0, len(a)):\n",
    "    total = total + a[ele]\n",
    "print(total)"
   ]
  },
  {
   "cell_type": "code",
   "execution_count": 129,
   "metadata": {},
   "outputs": [
    {
     "data": {
      "text/plain": [
       "array([ 1,  2,  3,  4,  5,  6,  7,  8,  9, 10])"
      ]
     },
     "execution_count": 129,
     "metadata": {},
     "output_type": "execute_result"
    }
   ],
   "source": [
    "array_a = np.array(a)\n",
    "array_a"
   ]
  },
  {
   "cell_type": "markdown",
   "metadata": {},
   "source": [
    "#### Using numpy `.sum()`"
   ]
  },
  {
   "cell_type": "code",
   "execution_count": 130,
   "metadata": {},
   "outputs": [
    {
     "data": {
      "text/plain": [
       "55"
      ]
     },
     "execution_count": 130,
     "metadata": {},
     "output_type": "execute_result"
    }
   ],
   "source": [
    "array_a.sum()"
   ]
  },
  {
   "cell_type": "markdown",
   "metadata": {},
   "source": [
    "### Exercise 2 - Make a variable named min_of_a to hold the minimum of all the numbers in the above list."
   ]
  },
  {
   "cell_type": "code",
   "execution_count": 131,
   "metadata": {},
   "outputs": [
    {
     "data": {
      "text/plain": [
       "1"
      ]
     },
     "execution_count": 131,
     "metadata": {},
     "output_type": "execute_result"
    }
   ],
   "source": [
    "a.sort()\n",
    "min_of_a = a[0]\n",
    "min_of_a"
   ]
  },
  {
   "cell_type": "markdown",
   "metadata": {},
   "source": [
    "### Exercise 3 - Make a variable named max_of_a to hold the max number of all the numbers in the above list\n"
   ]
  },
  {
   "cell_type": "code",
   "execution_count": 132,
   "metadata": {},
   "outputs": [
    {
     "data": {
      "text/plain": [
       "10"
      ]
     },
     "execution_count": 132,
     "metadata": {},
     "output_type": "execute_result"
    }
   ],
   "source": [
    "a.sort(reverse=True)\n",
    "max_of_a = a[0]\n",
    "max_of_a"
   ]
  },
  {
   "cell_type": "markdown",
   "metadata": {},
   "source": [
    "#### Using numpy .max()"
   ]
  },
  {
   "cell_type": "code",
   "execution_count": 133,
   "metadata": {},
   "outputs": [
    {
     "data": {
      "text/plain": [
       "10"
      ]
     },
     "execution_count": 133,
     "metadata": {},
     "output_type": "execute_result"
    }
   ],
   "source": [
    "array_a.max()"
   ]
  },
  {
   "cell_type": "markdown",
   "metadata": {},
   "source": [
    "### Exercise 4 - Make a variable named mean_of_a to hold the average of all the numbers in the above list."
   ]
  },
  {
   "cell_type": "code",
   "execution_count": 134,
   "metadata": {},
   "outputs": [
    {
     "data": {
      "text/plain": [
       "5.5"
      ]
     },
     "execution_count": 134,
     "metadata": {},
     "output_type": "execute_result"
    }
   ],
   "source": [
    "total = 0\n",
    "for ele in range(0, len(a)):\n",
    "    total = total + a[ele]\n",
    "length = len(a)\n",
    "mean_of_a = total / length\n",
    "\n",
    "mean_of_a"
   ]
  },
  {
   "cell_type": "markdown",
   "metadata": {},
   "source": [
    "#### Using numpy .mean()"
   ]
  },
  {
   "cell_type": "code",
   "execution_count": 135,
   "metadata": {},
   "outputs": [
    {
     "data": {
      "text/plain": [
       "5.5"
      ]
     },
     "execution_count": 135,
     "metadata": {},
     "output_type": "execute_result"
    }
   ],
   "source": [
    "array_a.mean()"
   ]
  },
  {
   "cell_type": "markdown",
   "metadata": {},
   "source": [
    "### Exercise 5 - Make a variable named product_of_a to hold the product of multiplying all the numbers in the above list together."
   ]
  },
  {
   "cell_type": "code",
   "execution_count": 136,
   "metadata": {},
   "outputs": [
    {
     "data": {
      "text/plain": [
       "3628800"
      ]
     },
     "execution_count": 136,
     "metadata": {},
     "output_type": "execute_result"
    }
   ],
   "source": [
    "prod = 1\n",
    "for ele in range(0, len(a)):\n",
    "    prod = prod * a[ele]\n",
    "product_of_a = prod\n",
    "product_of_a"
   ]
  },
  {
   "cell_type": "markdown",
   "metadata": {},
   "source": [
    "#### Using a List Comprehension"
   ]
  },
  {
   "cell_type": "code",
   "execution_count": null,
   "metadata": {},
   "outputs": [],
   "source": []
  },
  {
   "cell_type": "markdown",
   "metadata": {},
   "source": [
    "#### Using numpy .prod()"
   ]
  },
  {
   "cell_type": "code",
   "execution_count": 137,
   "metadata": {},
   "outputs": [
    {
     "data": {
      "text/plain": [
       "3628800"
      ]
     },
     "execution_count": 137,
     "metadata": {},
     "output_type": "execute_result"
    }
   ],
   "source": [
    "product_of_a = array_a.prod()\n",
    "product_of_a"
   ]
  },
  {
   "cell_type": "markdown",
   "metadata": {},
   "source": [
    "### Exercise 6 - Make a variable named squares_of_a. It should hold each number in a squared like [1, 4, 9, 16, 25...]"
   ]
  },
  {
   "cell_type": "code",
   "execution_count": 143,
   "metadata": {},
   "outputs": [
    {
     "data": {
      "text/plain": [
       "[1, 4, 9, 16, 25, 36, 49, 64, 81, 100]"
      ]
     },
     "execution_count": 143,
     "metadata": {},
     "output_type": "execute_result"
    }
   ],
   "source": [
    "a = [1, 2, 3, 4, 5, 6, 7, 8, 9, 10]\n",
    "\n",
    "squares_of_a = []\n",
    "\n",
    "for ele in range(0, len(a)):\n",
    "    squares_of_a.append(a[ele] ** 2)\n",
    "\n",
    "squares_of_a"
   ]
  },
  {
   "cell_type": "markdown",
   "metadata": {},
   "source": [
    "#### Using a List Comprehension"
   ]
  },
  {
   "cell_type": "code",
   "execution_count": 153,
   "metadata": {},
   "outputs": [
    {
     "data": {
      "text/plain": [
       "[1, 4, 9, 16, 25, 36, 49, 64, 81, 100]"
      ]
     },
     "execution_count": 153,
     "metadata": {},
     "output_type": "execute_result"
    }
   ],
   "source": [
    "squares_of_a = [a[ele] ** 2 for ele in range(0, len(a))]\n",
    "squares_of_a"
   ]
  },
  {
   "cell_type": "markdown",
   "metadata": {},
   "source": [
    "#### Using numpy"
   ]
  },
  {
   "cell_type": "code",
   "execution_count": 139,
   "metadata": {},
   "outputs": [
    {
     "data": {
      "text/plain": [
       "array([  1,   4,   9,  16,  25,  36,  49,  64,  81, 100])"
      ]
     },
     "execution_count": 139,
     "metadata": {},
     "output_type": "execute_result"
    }
   ],
   "source": [
    "squares_of_a = array_a**2\n",
    "squares_of_a"
   ]
  },
  {
   "cell_type": "markdown",
   "metadata": {},
   "source": [
    "### Exercise 7 - Make a variable named odds_in_a. It should hold only the odd numbers."
   ]
  },
  {
   "cell_type": "code",
   "execution_count": 144,
   "metadata": {},
   "outputs": [
    {
     "data": {
      "text/plain": [
       "[1, 3, 5, 7, 9]"
      ]
     },
     "execution_count": 144,
     "metadata": {},
     "output_type": "execute_result"
    }
   ],
   "source": [
    "odds_of_a = []\n",
    "for ele in range(0, len(a)):\n",
    "    if a[ele] % 2 != 0:\n",
    "        odds_of_a.append(a[ele])\n",
    "odds_of_a"
   ]
  },
  {
   "cell_type": "markdown",
   "metadata": {},
   "source": [
    "#### Using List Comprehension"
   ]
  },
  {
   "cell_type": "code",
   "execution_count": 151,
   "metadata": {},
   "outputs": [
    {
     "data": {
      "text/plain": [
       "[1, 3, 5, 7, 9]"
      ]
     },
     "execution_count": 151,
     "metadata": {},
     "output_type": "execute_result"
    }
   ],
   "source": [
    "odds_in_a = [a[ele] for ele in range(0, len(a)) if a[ele] % 2 != 0]\n",
    "odds_in_a"
   ]
  },
  {
   "cell_type": "markdown",
   "metadata": {},
   "source": [
    "#### Using numpy"
   ]
  },
  {
   "cell_type": "code",
   "execution_count": 147,
   "metadata": {},
   "outputs": [
    {
     "data": {
      "text/plain": [
       "array([1, 3, 5, 7, 9])"
      ]
     },
     "execution_count": 147,
     "metadata": {},
     "output_type": "execute_result"
    }
   ],
   "source": [
    "odds_of_a = array_a[array_a % 2 != 0]\n",
    "odds_of_a"
   ]
  },
  {
   "cell_type": "markdown",
   "metadata": {},
   "source": [
    "### Exercise 8 - Make a variable named evens_in_a. It should hold only the evens."
   ]
  },
  {
   "cell_type": "code",
   "execution_count": 149,
   "metadata": {},
   "outputs": [
    {
     "data": {
      "text/plain": [
       "[2, 4, 6, 8, 10]"
      ]
     },
     "execution_count": 149,
     "metadata": {},
     "output_type": "execute_result"
    }
   ],
   "source": [
    "evens_in_a = [a[ele] for ele in range(0, len(a)) if a[ele] % 2 == 0]"
   ]
  },
  {
   "cell_type": "markdown",
   "metadata": {},
   "source": [
    "#### Using numpy"
   ]
  },
  {
   "cell_type": "code",
   "execution_count": 148,
   "metadata": {},
   "outputs": [
    {
     "data": {
      "text/plain": [
       "array([ 2,  4,  6,  8, 10])"
      ]
     },
     "execution_count": 148,
     "metadata": {},
     "output_type": "execute_result"
    }
   ],
   "source": [
    "evens_in_a = array_a[array_a % 2 == 0]\n",
    "evens_in_a"
   ]
  },
  {
   "cell_type": "markdown",
   "metadata": {},
   "source": [
    "## Setup B"
   ]
  },
  {
   "cell_type": "code",
   "execution_count": 169,
   "metadata": {},
   "outputs": [
    {
     "data": {
      "text/plain": [
       "array([[3, 4, 5],\n",
       "       [6, 7, 8]])"
      ]
     },
     "execution_count": 169,
     "metadata": {},
     "output_type": "execute_result"
    }
   ],
   "source": [
    "b = [[3, 4, 5], \n",
    "    [6, 7, 8]]\n",
    "\n",
    "array_b = np.array(b)\n",
    "array_b"
   ]
  },
  {
   "cell_type": "markdown",
   "metadata": {},
   "source": [
    "### Exercise 9 - print out the shape of the array b."
   ]
  },
  {
   "cell_type": "code",
   "execution_count": 170,
   "metadata": {},
   "outputs": [
    {
     "data": {
      "text/plain": [
       "(2, 3)"
      ]
     },
     "execution_count": 170,
     "metadata": {},
     "output_type": "execute_result"
    }
   ],
   "source": [
    "array_b.shape"
   ]
  },
  {
   "cell_type": "markdown",
   "metadata": {},
   "source": [
    "### Exercise 10 - transpose the array b."
   ]
  },
  {
   "cell_type": "code",
   "execution_count": 171,
   "metadata": {},
   "outputs": [
    {
     "data": {
      "text/plain": [
       "array([[3, 6],\n",
       "       [4, 7],\n",
       "       [5, 8]])"
      ]
     },
     "execution_count": 171,
     "metadata": {},
     "output_type": "execute_result"
    }
   ],
   "source": [
    "array_b.T"
   ]
  },
  {
   "cell_type": "markdown",
   "metadata": {},
   "source": [
    "### Exercise 11 - reshape the array b to be a single list of 6 numbers. (1 x 6)"
   ]
  },
  {
   "cell_type": "code",
   "execution_count": 172,
   "metadata": {},
   "outputs": [
    {
     "data": {
      "text/plain": [
       "array([[3, 4, 5, 6, 7, 8]])"
      ]
     },
     "execution_count": 172,
     "metadata": {},
     "output_type": "execute_result"
    }
   ],
   "source": [
    "array_b.reshape(1,6)"
   ]
  },
  {
   "cell_type": "markdown",
   "metadata": {},
   "source": [
    "### Exercise 12 - reshape the array b to be a list of 6 lists, each containing only 1 number (6 x 1)"
   ]
  },
  {
   "cell_type": "code",
   "execution_count": 173,
   "metadata": {},
   "outputs": [
    {
     "data": {
      "text/plain": [
       "array([[3],\n",
       "       [4],\n",
       "       [5],\n",
       "       [6],\n",
       "       [7],\n",
       "       [8]])"
      ]
     },
     "execution_count": 173,
     "metadata": {},
     "output_type": "execute_result"
    }
   ],
   "source": [
    "array_b.reshape(6, 1)"
   ]
  },
  {
   "cell_type": "markdown",
   "metadata": {},
   "source": [
    "## Setup c"
   ]
  },
  {
   "cell_type": "code",
   "execution_count": 176,
   "metadata": {},
   "outputs": [
    {
     "data": {
      "text/plain": [
       "array([[1, 2, 3],\n",
       "       [4, 5, 6],\n",
       "       [7, 8, 9]])"
      ]
     },
     "execution_count": 176,
     "metadata": {},
     "output_type": "execute_result"
    }
   ],
   "source": [
    "c = [\n",
    "    [1, 2, 3],\n",
    "    [4, 5, 6],\n",
    "    [7, 8, 9]\n",
    "]\n",
    "array_c = np.array(c)\n",
    "array_c"
   ]
  },
  {
   "cell_type": "markdown",
   "metadata": {},
   "source": [
    "### Exercise 1 - Find the min, max, sum, and product of c"
   ]
  },
  {
   "cell_type": "code",
   "execution_count": 177,
   "metadata": {},
   "outputs": [
    {
     "data": {
      "text/plain": [
       "1"
      ]
     },
     "execution_count": 177,
     "metadata": {},
     "output_type": "execute_result"
    }
   ],
   "source": [
    "array_c.min()"
   ]
  },
  {
   "cell_type": "code",
   "execution_count": 178,
   "metadata": {},
   "outputs": [
    {
     "data": {
      "text/plain": [
       "9"
      ]
     },
     "execution_count": 178,
     "metadata": {},
     "output_type": "execute_result"
    }
   ],
   "source": [
    "array_c.max()"
   ]
  },
  {
   "cell_type": "code",
   "execution_count": 179,
   "metadata": {},
   "outputs": [
    {
     "data": {
      "text/plain": [
       "45"
      ]
     },
     "execution_count": 179,
     "metadata": {},
     "output_type": "execute_result"
    }
   ],
   "source": [
    "array_c.sum()"
   ]
  },
  {
   "cell_type": "code",
   "execution_count": 180,
   "metadata": {},
   "outputs": [
    {
     "data": {
      "text/plain": [
       "362880"
      ]
     },
     "execution_count": 180,
     "metadata": {},
     "output_type": "execute_result"
    }
   ],
   "source": [
    "array_c.prod()"
   ]
  },
  {
   "cell_type": "markdown",
   "metadata": {},
   "source": [
    "### Exercise 2 - Determine the standard deviation of c."
   ]
  },
  {
   "cell_type": "code",
   "execution_count": 181,
   "metadata": {},
   "outputs": [
    {
     "data": {
      "text/plain": [
       "2.581988897471611"
      ]
     },
     "execution_count": 181,
     "metadata": {},
     "output_type": "execute_result"
    }
   ],
   "source": [
    "array_c.std()"
   ]
  },
  {
   "cell_type": "code",
   "execution_count": 182,
   "metadata": {},
   "outputs": [
    {
     "data": {
      "text/plain": [
       "6.666666666666667"
      ]
     },
     "execution_count": 182,
     "metadata": {},
     "output_type": "execute_result"
    }
   ],
   "source": [
    "array_c.var()"
   ]
  },
  {
   "cell_type": "markdown",
   "metadata": {},
   "source": [
    "### Exercise 4 - Print out the shape of the array c"
   ]
  },
  {
   "cell_type": "code",
   "execution_count": 183,
   "metadata": {},
   "outputs": [
    {
     "data": {
      "text/plain": [
       "(3, 3)"
      ]
     },
     "execution_count": 183,
     "metadata": {},
     "output_type": "execute_result"
    }
   ],
   "source": [
    "array_c.shape"
   ]
  },
  {
   "cell_type": "markdown",
   "metadata": {},
   "source": [
    "### Exercise 5 - Transpose c and print out transposed result."
   ]
  },
  {
   "cell_type": "code",
   "execution_count": 185,
   "metadata": {},
   "outputs": [
    {
     "name": "stdout",
     "output_type": "stream",
     "text": [
      "[[1 4 7]\n",
      " [2 5 8]\n",
      " [3 6 9]]\n"
     ]
    }
   ],
   "source": [
    "print(array_c.T)"
   ]
  },
  {
   "cell_type": "markdown",
   "metadata": {},
   "source": [
    "### Exercise 6 - Get the dot product of the array c with c. "
   ]
  },
  {
   "cell_type": "code",
   "execution_count": 190,
   "metadata": {},
   "outputs": [
    {
     "data": {
      "text/plain": [
       "array([[ 30,  36,  42],\n",
       "       [ 66,  81,  96],\n",
       "       [102, 126, 150]])"
      ]
     },
     "execution_count": 190,
     "metadata": {},
     "output_type": "execute_result"
    }
   ],
   "source": [
    "np.dot(array_c, array_c)"
   ]
  },
  {
   "cell_type": "markdown",
   "metadata": {},
   "source": [
    "### Exercise 7 - Write the code necessary to sum up the result of c times c transposed. Answer should be 261"
   ]
  },
  {
   "cell_type": "code",
   "execution_count": 191,
   "metadata": {},
   "outputs": [
    {
     "data": {
      "text/plain": [
       "261"
      ]
     },
     "execution_count": 191,
     "metadata": {},
     "output_type": "execute_result"
    }
   ],
   "source": [
    "(array_c * array_c.T).sum()"
   ]
  },
  {
   "cell_type": "markdown",
   "metadata": {},
   "source": [
    "### Exercise 8 - Write the code necessary to determine the product of c times c transposed. Answer should be 131681894400."
   ]
  },
  {
   "cell_type": "code",
   "execution_count": 192,
   "metadata": {},
   "outputs": [
    {
     "data": {
      "text/plain": [
       "131681894400"
      ]
     },
     "execution_count": 192,
     "metadata": {},
     "output_type": "execute_result"
    }
   ],
   "source": [
    "(array_c * array_c.T).prod()"
   ]
  },
  {
   "cell_type": "markdown",
   "metadata": {},
   "source": [
    "## Setup d"
   ]
  },
  {
   "cell_type": "code",
   "execution_count": 201,
   "metadata": {},
   "outputs": [],
   "source": [
    "d = [\n",
    "    [90, 30, 45, 0, 120, 180],\n",
    "    [45, -90, -30, 270, 90, 0],\n",
    "    [60, 45, -45, 90, -45, 180]\n",
    "]\n",
    "array_d = np.array(d)"
   ]
  },
  {
   "cell_type": "markdown",
   "metadata": {},
   "source": [
    "### Exercise 1 - Find the sine of all the numbers in d"
   ]
  },
  {
   "cell_type": "code",
   "execution_count": 202,
   "metadata": {},
   "outputs": [
    {
     "data": {
      "text/plain": [
       "array([[ 0.89399666, -0.98803162,  0.85090352,  0.        ,  0.58061118,\n",
       "        -0.80115264],\n",
       "       [ 0.85090352, -0.89399666,  0.98803162, -0.17604595,  0.89399666,\n",
       "         0.        ],\n",
       "       [-0.30481062,  0.85090352, -0.85090352,  0.89399666, -0.85090352,\n",
       "        -0.80115264]])"
      ]
     },
     "execution_count": 202,
     "metadata": {},
     "output_type": "execute_result"
    }
   ],
   "source": [
    "np.sin(array_d)"
   ]
  },
  {
   "cell_type": "markdown",
   "metadata": {},
   "source": [
    "### Exercise 2 - Find the cosine of all the numbers in d\n"
   ]
  },
  {
   "cell_type": "code",
   "execution_count": 203,
   "metadata": {},
   "outputs": [
    {
     "data": {
      "text/plain": [
       "array([[-0.44807362,  0.15425145,  0.52532199,  1.        ,  0.81418097,\n",
       "        -0.59846007],\n",
       "       [ 0.52532199, -0.44807362,  0.15425145,  0.98438195, -0.44807362,\n",
       "         1.        ],\n",
       "       [-0.95241298,  0.52532199,  0.52532199, -0.44807362,  0.52532199,\n",
       "        -0.59846007]])"
      ]
     },
     "execution_count": 203,
     "metadata": {},
     "output_type": "execute_result"
    }
   ],
   "source": [
    "np.cos(array_d)"
   ]
  },
  {
   "cell_type": "markdown",
   "metadata": {},
   "source": [
    "### Exercise 3 - Find the tangent of all the numbers in d"
   ]
  },
  {
   "cell_type": "code",
   "execution_count": 204,
   "metadata": {},
   "outputs": [
    {
     "data": {
      "text/plain": [
       "array([[-1.99520041, -6.4053312 ,  1.61977519,  0.        ,  0.71312301,\n",
       "         1.33869021],\n",
       "       [ 1.61977519,  1.99520041,  6.4053312 , -0.17883906, -1.99520041,\n",
       "         0.        ],\n",
       "       [ 0.32004039,  1.61977519, -1.61977519, -1.99520041, -1.61977519,\n",
       "         1.33869021]])"
      ]
     },
     "execution_count": 204,
     "metadata": {},
     "output_type": "execute_result"
    }
   ],
   "source": [
    "np.tan(array_d)"
   ]
  },
  {
   "cell_type": "markdown",
   "metadata": {},
   "source": [
    "### Exercise 4 - Find all the negative numbers in d"
   ]
  },
  {
   "cell_type": "code",
   "execution_count": 207,
   "metadata": {},
   "outputs": [
    {
     "data": {
      "text/plain": [
       "array([-90, -30, -45, -45])"
      ]
     },
     "execution_count": 207,
     "metadata": {},
     "output_type": "execute_result"
    }
   ],
   "source": [
    "array_d[array_d < 0]"
   ]
  },
  {
   "cell_type": "markdown",
   "metadata": {},
   "source": [
    "### Exercise 5 - Find all the positive numbers in d"
   ]
  },
  {
   "cell_type": "code",
   "execution_count": 208,
   "metadata": {},
   "outputs": [
    {
     "data": {
      "text/plain": [
       "array([ 90,  30,  45, 120, 180,  45, 270,  90,  60,  45,  90, 180])"
      ]
     },
     "execution_count": 208,
     "metadata": {},
     "output_type": "execute_result"
    }
   ],
   "source": [
    "array_d[array_d > 0]"
   ]
  },
  {
   "cell_type": "markdown",
   "metadata": {},
   "source": [
    "### Exercise 6 - Return an array of only the unique numbers in d."
   ]
  },
  {
   "cell_type": "code",
   "execution_count": 211,
   "metadata": {},
   "outputs": [
    {
     "data": {
      "text/plain": [
       "array([-90, -45, -30,   0,  30,  45,  60,  90, 120, 180, 270])"
      ]
     },
     "execution_count": 211,
     "metadata": {},
     "output_type": "execute_result"
    }
   ],
   "source": [
    "np.unique(array_d)"
   ]
  },
  {
   "cell_type": "markdown",
   "metadata": {},
   "source": [
    "### Exercise 7 - Determine how many unique numbers there are in d."
   ]
  },
  {
   "cell_type": "code",
   "execution_count": 212,
   "metadata": {},
   "outputs": [
    {
     "data": {
      "text/plain": [
       "11"
      ]
     },
     "execution_count": 212,
     "metadata": {},
     "output_type": "execute_result"
    }
   ],
   "source": [
    "np.unique(array_d).size"
   ]
  },
  {
   "cell_type": "markdown",
   "metadata": {},
   "source": [
    "### Exercise 8 - Print out the shape of d."
   ]
  },
  {
   "cell_type": "code",
   "execution_count": 213,
   "metadata": {},
   "outputs": [
    {
     "data": {
      "text/plain": [
       "(3, 6)"
      ]
     },
     "execution_count": 213,
     "metadata": {},
     "output_type": "execute_result"
    }
   ],
   "source": [
    "array_d.shape"
   ]
  },
  {
   "cell_type": "markdown",
   "metadata": {},
   "source": [
    "### Exercise 9 - Transpose and then print out the shape of d."
   ]
  },
  {
   "cell_type": "code",
   "execution_count": null,
   "metadata": {},
   "outputs": [],
   "source": []
  }
 ],
 "metadata": {
  "kernelspec": {
   "display_name": "Python 3",
   "language": "python",
   "name": "python3"
  },
  "language_info": {
   "codemirror_mode": {
    "name": "ipython",
    "version": 3
   },
   "file_extension": ".py",
   "mimetype": "text/x-python",
   "name": "python",
   "nbconvert_exporter": "python",
   "pygments_lexer": "ipython3",
   "version": "3.7.4"
  },
  "toc": {
   "base_numbering": 1,
   "nav_menu": {},
   "number_sections": true,
   "sideBar": true,
   "skip_h1_title": true,
   "title_cell": "Table of Contents",
   "title_sidebar": "Contents",
   "toc_cell": true,
   "toc_position": {},
   "toc_section_display": true,
   "toc_window_display": false
  }
 },
 "nbformat": 4,
 "nbformat_minor": 2
}
