{
 "cells": [
  {
   "cell_type": "code",
   "execution_count": 1,
   "metadata": {},
   "outputs": [],
   "source": [
    "import pandas as pd\n",
    "import numpy as np\n",
    "\n",
    "import matplotlib.pyplot as plt\n",
    "%matplotlib inline\n",
    "\n",
    "from pydataset import data\n",
    "\n",
    "import warnings\n",
    "warnings.filterwarnings('ignore')"
   ]
  },
  {
   "cell_type": "code",
   "execution_count": 2,
   "metadata": {},
   "outputs": [
    {
     "data": {
      "text/html": [
       "<div>\n",
       "<style scoped>\n",
       "    .dataframe tbody tr th:only-of-type {\n",
       "        vertical-align: middle;\n",
       "    }\n",
       "\n",
       "    .dataframe tbody tr th {\n",
       "        vertical-align: top;\n",
       "    }\n",
       "\n",
       "    .dataframe thead th {\n",
       "        text-align: right;\n",
       "    }\n",
       "</style>\n",
       "<table border=\"1\" class=\"dataframe\">\n",
       "  <thead>\n",
       "    <tr style=\"text-align: right;\">\n",
       "      <th></th>\n",
       "      <th>dataset_id</th>\n",
       "      <th>title</th>\n",
       "    </tr>\n",
       "  </thead>\n",
       "  <tbody>\n",
       "    <tr>\n",
       "      <td>0</td>\n",
       "      <td>AirPassengers</td>\n",
       "      <td>Monthly Airline Passenger Numbers 1949-1960</td>\n",
       "    </tr>\n",
       "    <tr>\n",
       "      <td>1</td>\n",
       "      <td>BJsales</td>\n",
       "      <td>Sales Data with Leading Indicator</td>\n",
       "    </tr>\n",
       "    <tr>\n",
       "      <td>2</td>\n",
       "      <td>BOD</td>\n",
       "      <td>Biochemical Oxygen Demand</td>\n",
       "    </tr>\n",
       "    <tr>\n",
       "      <td>3</td>\n",
       "      <td>Formaldehyde</td>\n",
       "      <td>Determination of Formaldehyde</td>\n",
       "    </tr>\n",
       "    <tr>\n",
       "      <td>4</td>\n",
       "      <td>HairEyeColor</td>\n",
       "      <td>Hair and Eye Color of Statistics Students</td>\n",
       "    </tr>\n",
       "    <tr>\n",
       "      <td>...</td>\n",
       "      <td>...</td>\n",
       "      <td>...</td>\n",
       "    </tr>\n",
       "    <tr>\n",
       "      <td>752</td>\n",
       "      <td>VerbAgg</td>\n",
       "      <td>Verbal Aggression item responses</td>\n",
       "    </tr>\n",
       "    <tr>\n",
       "      <td>753</td>\n",
       "      <td>cake</td>\n",
       "      <td>Breakage Angle of Chocolate Cakes</td>\n",
       "    </tr>\n",
       "    <tr>\n",
       "      <td>754</td>\n",
       "      <td>cbpp</td>\n",
       "      <td>Contagious bovine pleuropneumonia</td>\n",
       "    </tr>\n",
       "    <tr>\n",
       "      <td>755</td>\n",
       "      <td>grouseticks</td>\n",
       "      <td>Data on red grouse ticks from Elston et al. 2001</td>\n",
       "    </tr>\n",
       "    <tr>\n",
       "      <td>756</td>\n",
       "      <td>sleepstudy</td>\n",
       "      <td>Reaction times in a sleep deprivation study</td>\n",
       "    </tr>\n",
       "  </tbody>\n",
       "</table>\n",
       "<p>757 rows × 2 columns</p>\n",
       "</div>"
      ],
      "text/plain": [
       "        dataset_id                                             title\n",
       "0    AirPassengers       Monthly Airline Passenger Numbers 1949-1960\n",
       "1          BJsales                 Sales Data with Leading Indicator\n",
       "2              BOD                         Biochemical Oxygen Demand\n",
       "3     Formaldehyde                     Determination of Formaldehyde\n",
       "4     HairEyeColor         Hair and Eye Color of Statistics Students\n",
       "..             ...                                               ...\n",
       "752        VerbAgg                  Verbal Aggression item responses\n",
       "753           cake                 Breakage Angle of Chocolate Cakes\n",
       "754           cbpp                 Contagious bovine pleuropneumonia\n",
       "755    grouseticks  Data on red grouse ticks from Elston et al. 2001\n",
       "756     sleepstudy       Reaction times in a sleep deprivation study\n",
       "\n",
       "[757 rows x 2 columns]"
      ]
     },
     "execution_count": 2,
     "metadata": {},
     "output_type": "execute_result"
    }
   ],
   "source": [
    "data()"
   ]
  },
  {
   "cell_type": "code",
   "execution_count": 3,
   "metadata": {},
   "outputs": [],
   "source": [
    "df = data('mpg')"
   ]
  },
  {
   "cell_type": "code",
   "execution_count": 4,
   "metadata": {},
   "outputs": [
    {
     "data": {
      "text/html": [
       "<div>\n",
       "<style scoped>\n",
       "    .dataframe tbody tr th:only-of-type {\n",
       "        vertical-align: middle;\n",
       "    }\n",
       "\n",
       "    .dataframe tbody tr th {\n",
       "        vertical-align: top;\n",
       "    }\n",
       "\n",
       "    .dataframe thead th {\n",
       "        text-align: right;\n",
       "    }\n",
       "</style>\n",
       "<table border=\"1\" class=\"dataframe\">\n",
       "  <thead>\n",
       "    <tr style=\"text-align: right;\">\n",
       "      <th></th>\n",
       "      <th>manufacturer</th>\n",
       "      <th>model</th>\n",
       "      <th>displ</th>\n",
       "      <th>year</th>\n",
       "      <th>cyl</th>\n",
       "      <th>trans</th>\n",
       "      <th>drv</th>\n",
       "      <th>cty</th>\n",
       "      <th>hwy</th>\n",
       "      <th>fl</th>\n",
       "      <th>class</th>\n",
       "    </tr>\n",
       "  </thead>\n",
       "  <tbody>\n",
       "    <tr>\n",
       "      <td>1</td>\n",
       "      <td>audi</td>\n",
       "      <td>a4</td>\n",
       "      <td>1.8</td>\n",
       "      <td>1999</td>\n",
       "      <td>4</td>\n",
       "      <td>auto(l5)</td>\n",
       "      <td>f</td>\n",
       "      <td>18</td>\n",
       "      <td>29</td>\n",
       "      <td>p</td>\n",
       "      <td>compact</td>\n",
       "    </tr>\n",
       "    <tr>\n",
       "      <td>2</td>\n",
       "      <td>audi</td>\n",
       "      <td>a4</td>\n",
       "      <td>1.8</td>\n",
       "      <td>1999</td>\n",
       "      <td>4</td>\n",
       "      <td>manual(m5)</td>\n",
       "      <td>f</td>\n",
       "      <td>21</td>\n",
       "      <td>29</td>\n",
       "      <td>p</td>\n",
       "      <td>compact</td>\n",
       "    </tr>\n",
       "    <tr>\n",
       "      <td>3</td>\n",
       "      <td>audi</td>\n",
       "      <td>a4</td>\n",
       "      <td>2.0</td>\n",
       "      <td>2008</td>\n",
       "      <td>4</td>\n",
       "      <td>manual(m6)</td>\n",
       "      <td>f</td>\n",
       "      <td>20</td>\n",
       "      <td>31</td>\n",
       "      <td>p</td>\n",
       "      <td>compact</td>\n",
       "    </tr>\n",
       "    <tr>\n",
       "      <td>4</td>\n",
       "      <td>audi</td>\n",
       "      <td>a4</td>\n",
       "      <td>2.0</td>\n",
       "      <td>2008</td>\n",
       "      <td>4</td>\n",
       "      <td>auto(av)</td>\n",
       "      <td>f</td>\n",
       "      <td>21</td>\n",
       "      <td>30</td>\n",
       "      <td>p</td>\n",
       "      <td>compact</td>\n",
       "    </tr>\n",
       "    <tr>\n",
       "      <td>5</td>\n",
       "      <td>audi</td>\n",
       "      <td>a4</td>\n",
       "      <td>2.8</td>\n",
       "      <td>1999</td>\n",
       "      <td>6</td>\n",
       "      <td>auto(l5)</td>\n",
       "      <td>f</td>\n",
       "      <td>16</td>\n",
       "      <td>26</td>\n",
       "      <td>p</td>\n",
       "      <td>compact</td>\n",
       "    </tr>\n",
       "  </tbody>\n",
       "</table>\n",
       "</div>"
      ],
      "text/plain": [
       "  manufacturer model  displ  year  cyl       trans drv  cty  hwy fl    class\n",
       "1         audi    a4    1.8  1999    4    auto(l5)   f   18   29  p  compact\n",
       "2         audi    a4    1.8  1999    4  manual(m5)   f   21   29  p  compact\n",
       "3         audi    a4    2.0  2008    4  manual(m6)   f   20   31  p  compact\n",
       "4         audi    a4    2.0  2008    4    auto(av)   f   21   30  p  compact\n",
       "5         audi    a4    2.8  1999    6    auto(l5)   f   16   26  p  compact"
      ]
     },
     "execution_count": 4,
     "metadata": {},
     "output_type": "execute_result"
    }
   ],
   "source": [
    "df.head()"
   ]
  },
  {
   "cell_type": "code",
   "execution_count": 5,
   "metadata": {},
   "outputs": [],
   "source": [
    "series = pd.Series([100, 43, 26, 17])"
   ]
  },
  {
   "cell_type": "code",
   "execution_count": 6,
   "metadata": {},
   "outputs": [
    {
     "data": {
      "text/plain": [
       "0    100\n",
       "1     43\n",
       "2     26\n",
       "3     17\n",
       "dtype: int64"
      ]
     },
     "execution_count": 6,
     "metadata": {},
     "output_type": "execute_result"
    }
   ],
   "source": [
    "series"
   ]
  },
  {
   "cell_type": "code",
   "execution_count": 7,
   "metadata": {},
   "outputs": [],
   "source": [
    "letters = pd.Series(np.random.choice(list('abcdefghijklmnopqrstuvwxyz'), 100))"
   ]
  },
  {
   "cell_type": "code",
   "execution_count": 8,
   "metadata": {},
   "outputs": [],
   "source": [
    "numbers = pd.Series(np.random.choice(np.arange(1, 101), 100))"
   ]
  },
  {
   "cell_type": "code",
   "execution_count": 9,
   "metadata": {},
   "outputs": [
    {
     "data": {
      "text/plain": [
       "RangeIndex(start=0, stop=100, step=1)"
      ]
     },
     "execution_count": 9,
     "metadata": {},
     "output_type": "execute_result"
    }
   ],
   "source": [
    "letters.index"
   ]
  },
  {
   "cell_type": "code",
   "execution_count": 10,
   "metadata": {},
   "outputs": [
    {
     "data": {
      "text/plain": [
       "array(['z', 'h', 'k', 'r', 'p', 'd', 's', 'i', 'v', 'w', 'q', 'p', 'k',\n",
       "       'n', 'r', 'h', 'l', 'q', 'j', 'y', 'p', 's', 'b', 'g', 'd', 'n',\n",
       "       'x', 'u', 'i', 'p', 'h', 'i', 'd', 'r', 'y', 'd', 'f', 'x', 'g',\n",
       "       'e', 'a', 'v', 'o', 'j', 'f', 'j', 'v', 'b', 'j', 'e', 'u', 'w',\n",
       "       'n', 's', 'k', 'b', 's', 'v', 't', 'x', 'f', 'x', 'h', 'x', 'i',\n",
       "       'o', 'p', 'p', 's', 'v', 'm', 'u', 't', 'k', 'n', 'z', 'r', 'w',\n",
       "       'f', 'v', 'b', 'k', 'y', 'h', 'f', 'j', 'v', 'm', 'x', 'e', 'o',\n",
       "       'e', 't', 'w', 'l', 'b', 'd', 'n', 's', 'e'], dtype=object)"
      ]
     },
     "execution_count": 10,
     "metadata": {},
     "output_type": "execute_result"
    }
   ],
   "source": [
    "letters.values"
   ]
  },
  {
   "cell_type": "code",
   "execution_count": 11,
   "metadata": {},
   "outputs": [
    {
     "data": {
      "text/plain": [
       "40    a\n",
       "dtype: object"
      ]
     },
     "execution_count": 11,
     "metadata": {},
     "output_type": "execute_result"
    }
   ],
   "source": [
    "letters[letters == 'a']"
   ]
  },
  {
   "cell_type": "code",
   "execution_count": 12,
   "metadata": {},
   "outputs": [
    {
     "data": {
      "text/plain": [
       "27    u\n",
       "50    u\n",
       "71    u\n",
       "dtype: object"
      ]
     },
     "execution_count": 12,
     "metadata": {},
     "output_type": "execute_result"
    }
   ],
   "source": [
    " letters[letters == 'u']"
   ]
  },
  {
   "cell_type": "code",
   "execution_count": 13,
   "metadata": {
    "scrolled": true
   },
   "outputs": [
    {
     "data": {
      "text/plain": [
       "5     51\n",
       "56    52\n",
       "18    52\n",
       "4     53\n",
       "52    53\n",
       "36    54\n",
       "40    54\n",
       "75    57\n",
       "29    58\n",
       "85    59\n",
       "13    64\n",
       "14    64\n",
       "69    65\n",
       "39    66\n",
       "51    66\n",
       "16    66\n",
       "35    67\n",
       "93    67\n",
       "94    69\n",
       "80    70\n",
       "15    71\n",
       "49    74\n",
       "88    76\n",
       "7     78\n",
       "84    78\n",
       "74    79\n",
       "8     79\n",
       "37    80\n",
       "97    82\n",
       "33    85\n",
       "60    85\n",
       "25    86\n",
       "57    87\n",
       "65    88\n",
       "72    88\n",
       "82    89\n",
       "23    90\n",
       "62    91\n",
       "24    91\n",
       "28    98\n",
       "38    99\n",
       "dtype: int64"
      ]
     },
     "execution_count": 13,
     "metadata": {},
     "output_type": "execute_result"
    }
   ],
   "source": [
    "numbers[numbers > 50].sort_values()"
   ]
  },
  {
   "cell_type": "code",
   "execution_count": 14,
   "metadata": {},
   "outputs": [
    {
     "data": {
      "text/plain": [
       "41"
      ]
     },
     "execution_count": 14,
     "metadata": {},
     "output_type": "execute_result"
    }
   ],
   "source": [
    "numbers[numbers > 50].count()"
   ]
  },
  {
   "cell_type": "code",
   "execution_count": 15,
   "metadata": {},
   "outputs": [
    {
     "data": {
      "text/plain": [
       "11    50\n",
       "12    45\n",
       "19    50\n",
       "23    90\n",
       "31    10\n",
       "33    85\n",
       "37    80\n",
       "41    20\n",
       "53    20\n",
       "58    50\n",
       "60    85\n",
       "63    30\n",
       "69    65\n",
       "76    45\n",
       "80    70\n",
       "86    35\n",
       "dtype: int64"
      ]
     },
     "execution_count": 15,
     "metadata": {},
     "output_type": "execute_result"
    }
   ],
   "source": [
    "numbers[numbers % 5 == 0]"
   ]
  },
  {
   "cell_type": "code",
   "execution_count": 16,
   "metadata": {},
   "outputs": [
    {
     "data": {
      "text/plain": [
       "1     29\n",
       "3     34\n",
       "8     79\n",
       "9     49\n",
       "10    49\n",
       "13    64\n",
       "14    64\n",
       "36    54\n",
       "38    99\n",
       "40    54\n",
       "42    29\n",
       "44    39\n",
       "46    39\n",
       "48    44\n",
       "49    74\n",
       "61    34\n",
       "68    29\n",
       "74    79\n",
       "79    24\n",
       "81    14\n",
       "82    89\n",
       "85    59\n",
       "94    69\n",
       "99    29\n",
       "dtype: int64"
      ]
     },
     "execution_count": 16,
     "metadata": {},
     "output_type": "execute_result"
    }
   ],
   "source": [
    "numbers[~ numbers % 5 == 0]"
   ]
  },
  {
   "cell_type": "code",
   "execution_count": 17,
   "metadata": {},
   "outputs": [],
   "source": [
    "greater_than_50_filt = numbers > 50"
   ]
  },
  {
   "cell_type": "code",
   "execution_count": 18,
   "metadata": {},
   "outputs": [],
   "source": [
    "even_numbers_list = numbers % 2 == 0"
   ]
  },
  {
   "cell_type": "code",
   "execution_count": 19,
   "metadata": {},
   "outputs": [],
   "source": [
    "is_divisible_by_5 = numbers % 5 == 0"
   ]
  },
  {
   "cell_type": "code",
   "execution_count": 20,
   "metadata": {},
   "outputs": [
    {
     "data": {
      "text/plain": [
       "23    90\n",
       "37    80\n",
       "80    70\n",
       "dtype: int64"
      ]
     },
     "execution_count": 20,
     "metadata": {},
     "output_type": "execute_result"
    }
   ],
   "source": [
    "numbers[greater_than_50_filt & even_numbers_list & is_divisible_by_5]"
   ]
  },
  {
   "cell_type": "code",
   "execution_count": 21,
   "metadata": {},
   "outputs": [
    {
     "data": {
      "text/plain": [
       "11    50\n",
       "19    50\n",
       "31    10\n",
       "41    20\n",
       "53    20\n",
       "58    50\n",
       "63    30\n",
       "dtype: int64"
      ]
     },
     "execution_count": 21,
     "metadata": {},
     "output_type": "execute_result"
    }
   ],
   "source": [
    "numbers[~ greater_than_50_filt & even_numbers_list & is_divisible_by_5]"
   ]
  },
  {
   "cell_type": "code",
   "execution_count": 22,
   "metadata": {},
   "outputs": [],
   "source": [
    "vowels = list('aeiou')"
   ]
  },
  {
   "cell_type": "code",
   "execution_count": 23,
   "metadata": {},
   "outputs": [
    {
     "data": {
      "text/plain": [
       "16"
      ]
     },
     "execution_count": 23,
     "metadata": {},
     "output_type": "execute_result"
    }
   ],
   "source": [
    "letters[letters.isin(vowels)].count()"
   ]
  },
  {
   "cell_type": "code",
   "execution_count": 24,
   "metadata": {},
   "outputs": [
    {
     "data": {
      "text/plain": [
       "(16,)"
      ]
     },
     "execution_count": 24,
     "metadata": {},
     "output_type": "execute_result"
    }
   ],
   "source": [
    "letters[letters.isin(vowels)].shape"
   ]
  },
  {
   "cell_type": "code",
   "execution_count": 25,
   "metadata": {},
   "outputs": [
    {
     "data": {
      "text/plain": [
       "16"
      ]
     },
     "execution_count": 25,
     "metadata": {},
     "output_type": "execute_result"
    }
   ],
   "source": [
    "letters[letters.isin(vowels)].size"
   ]
  },
  {
   "cell_type": "code",
   "execution_count": 26,
   "metadata": {},
   "outputs": [],
   "source": [
    "letter_values = letters[letters.isin(vowels)].value_counts()"
   ]
  },
  {
   "cell_type": "code",
   "execution_count": 27,
   "metadata": {},
   "outputs": [],
   "source": [
    "letter_percents = letters[letters.isin(vowels)].value_counts(normalize=True)"
   ]
  },
  {
   "cell_type": "code",
   "execution_count": 28,
   "metadata": {},
   "outputs": [],
   "source": [
    "letter_info = letter_values.to_frame(name = 'count').join(letter_percents.to_frame(name='frequency')) "
   ]
  },
  {
   "cell_type": "code",
   "execution_count": 29,
   "metadata": {},
   "outputs": [
    {
     "data": {
      "text/plain": [
       "pandas.core.frame.DataFrame"
      ]
     },
     "execution_count": 29,
     "metadata": {},
     "output_type": "execute_result"
    }
   ],
   "source": [
    "type(letter_info)"
   ]
  },
  {
   "cell_type": "code",
   "execution_count": 30,
   "metadata": {},
   "outputs": [
    {
     "data": {
      "text/html": [
       "<div>\n",
       "<style scoped>\n",
       "    .dataframe tbody tr th:only-of-type {\n",
       "        vertical-align: middle;\n",
       "    }\n",
       "\n",
       "    .dataframe tbody tr th {\n",
       "        vertical-align: top;\n",
       "    }\n",
       "\n",
       "    .dataframe thead th {\n",
       "        text-align: right;\n",
       "    }\n",
       "</style>\n",
       "<table border=\"1\" class=\"dataframe\">\n",
       "  <thead>\n",
       "    <tr style=\"text-align: right;\">\n",
       "      <th></th>\n",
       "      <th>count</th>\n",
       "      <th>frequency</th>\n",
       "    </tr>\n",
       "  </thead>\n",
       "  <tbody>\n",
       "    <tr>\n",
       "      <td>e</td>\n",
       "      <td>5</td>\n",
       "      <td>0.3125</td>\n",
       "    </tr>\n",
       "    <tr>\n",
       "      <td>i</td>\n",
       "      <td>4</td>\n",
       "      <td>0.2500</td>\n",
       "    </tr>\n",
       "    <tr>\n",
       "      <td>o</td>\n",
       "      <td>3</td>\n",
       "      <td>0.1875</td>\n",
       "    </tr>\n",
       "    <tr>\n",
       "      <td>u</td>\n",
       "      <td>3</td>\n",
       "      <td>0.1875</td>\n",
       "    </tr>\n",
       "    <tr>\n",
       "      <td>a</td>\n",
       "      <td>1</td>\n",
       "      <td>0.0625</td>\n",
       "    </tr>\n",
       "  </tbody>\n",
       "</table>\n",
       "</div>"
      ],
      "text/plain": [
       "   count  frequency\n",
       "e      5     0.3125\n",
       "i      4     0.2500\n",
       "o      3     0.1875\n",
       "u      3     0.1875\n",
       "a      1     0.0625"
      ]
     },
     "execution_count": 30,
     "metadata": {},
     "output_type": "execute_result"
    }
   ],
   "source": [
    "letter_info"
   ]
  },
  {
   "cell_type": "code",
   "execution_count": 31,
   "metadata": {},
   "outputs": [
    {
     "data": {
      "text/html": [
       "<div>\n",
       "<style scoped>\n",
       "    .dataframe tbody tr th:only-of-type {\n",
       "        vertical-align: middle;\n",
       "    }\n",
       "\n",
       "    .dataframe tbody tr th {\n",
       "        vertical-align: top;\n",
       "    }\n",
       "\n",
       "    .dataframe thead th {\n",
       "        text-align: right;\n",
       "    }\n",
       "</style>\n",
       "<table border=\"1\" class=\"dataframe\">\n",
       "  <thead>\n",
       "    <tr style=\"text-align: right;\">\n",
       "      <th></th>\n",
       "      <th>count</th>\n",
       "      <th>frequency</th>\n",
       "    </tr>\n",
       "  </thead>\n",
       "  <tbody>\n",
       "    <tr>\n",
       "      <td>e</td>\n",
       "      <td>5</td>\n",
       "      <td>0.3125</td>\n",
       "    </tr>\n",
       "    <tr>\n",
       "      <td>i</td>\n",
       "      <td>4</td>\n",
       "      <td>0.2500</td>\n",
       "    </tr>\n",
       "    <tr>\n",
       "      <td>o</td>\n",
       "      <td>3</td>\n",
       "      <td>0.1875</td>\n",
       "    </tr>\n",
       "    <tr>\n",
       "      <td>u</td>\n",
       "      <td>3</td>\n",
       "      <td>0.1875</td>\n",
       "    </tr>\n",
       "    <tr>\n",
       "      <td>a</td>\n",
       "      <td>1</td>\n",
       "      <td>0.0625</td>\n",
       "    </tr>\n",
       "  </tbody>\n",
       "</table>\n",
       "</div>"
      ],
      "text/plain": [
       "   count  frequency\n",
       "e      5     0.3125\n",
       "i      4     0.2500\n",
       "o      3     0.1875\n",
       "u      3     0.1875\n",
       "a      1     0.0625"
      ]
     },
     "execution_count": 31,
     "metadata": {},
     "output_type": "execute_result"
    }
   ],
   "source": [
    "pd.DataFrame({'count': letter_values,'frequency':letter_percents})"
   ]
  },
  {
   "cell_type": "code",
   "execution_count": 32,
   "metadata": {},
   "outputs": [],
   "source": [
    "num_summary = numbers.describe()"
   ]
  },
  {
   "cell_type": "code",
   "execution_count": 33,
   "metadata": {},
   "outputs": [
    {
     "data": {
      "text/plain": [
       "38.25"
      ]
     },
     "execution_count": 33,
     "metadata": {},
     "output_type": "execute_result"
    }
   ],
   "source": [
    "iqr = num_summary['75%'] - num_summary['25%']\n",
    "iqr"
   ]
  },
  {
   "cell_type": "markdown",
   "metadata": {},
   "source": [
    "## Functions"
   ]
  },
  {
   "cell_type": "code",
   "execution_count": 34,
   "metadata": {},
   "outputs": [],
   "source": [
    "def is_divisible_by_4(n):\n",
    "    if n % 4 == 0:\n",
    "        return 'Evenly divisible by 4!'\n",
    "    else:\n",
    "        return 'Not evenly divisible by 4 :('"
   ]
  },
  {
   "cell_type": "code",
   "execution_count": 35,
   "metadata": {},
   "outputs": [
    {
     "data": {
      "text/plain": [
       "'Evenly divisible by 4!'"
      ]
     },
     "execution_count": 35,
     "metadata": {},
     "output_type": "execute_result"
    }
   ],
   "source": [
    "is_divisible_by_4(4)"
   ]
  },
  {
   "cell_type": "code",
   "execution_count": 36,
   "metadata": {
    "scrolled": true
   },
   "outputs": [
    {
     "data": {
      "text/plain": [
       "0     Not evenly divisible by 4 :(\n",
       "1     Not evenly divisible by 4 :(\n",
       "2     Not evenly divisible by 4 :(\n",
       "3     Not evenly divisible by 4 :(\n",
       "4     Not evenly divisible by 4 :(\n",
       "5     Not evenly divisible by 4 :(\n",
       "6     Not evenly divisible by 4 :(\n",
       "7     Not evenly divisible by 4 :(\n",
       "8     Not evenly divisible by 4 :(\n",
       "9     Not evenly divisible by 4 :(\n",
       "10    Not evenly divisible by 4 :(\n",
       "11    Not evenly divisible by 4 :(\n",
       "12    Not evenly divisible by 4 :(\n",
       "13          Evenly divisible by 4!\n",
       "14          Evenly divisible by 4!\n",
       "15    Not evenly divisible by 4 :(\n",
       "16    Not evenly divisible by 4 :(\n",
       "17          Evenly divisible by 4!\n",
       "18          Evenly divisible by 4!\n",
       "19    Not evenly divisible by 4 :(\n",
       "20          Evenly divisible by 4!\n",
       "21    Not evenly divisible by 4 :(\n",
       "22    Not evenly divisible by 4 :(\n",
       "23    Not evenly divisible by 4 :(\n",
       "24    Not evenly divisible by 4 :(\n",
       "25    Not evenly divisible by 4 :(\n",
       "26    Not evenly divisible by 4 :(\n",
       "27    Not evenly divisible by 4 :(\n",
       "28    Not evenly divisible by 4 :(\n",
       "29    Not evenly divisible by 4 :(\n",
       "30    Not evenly divisible by 4 :(\n",
       "31    Not evenly divisible by 4 :(\n",
       "32    Not evenly divisible by 4 :(\n",
       "33    Not evenly divisible by 4 :(\n",
       "34          Evenly divisible by 4!\n",
       "35    Not evenly divisible by 4 :(\n",
       "36    Not evenly divisible by 4 :(\n",
       "37          Evenly divisible by 4!\n",
       "38    Not evenly divisible by 4 :(\n",
       "39    Not evenly divisible by 4 :(\n",
       "40    Not evenly divisible by 4 :(\n",
       "41          Evenly divisible by 4!\n",
       "42    Not evenly divisible by 4 :(\n",
       "43    Not evenly divisible by 4 :(\n",
       "44    Not evenly divisible by 4 :(\n",
       "45    Not evenly divisible by 4 :(\n",
       "46    Not evenly divisible by 4 :(\n",
       "47    Not evenly divisible by 4 :(\n",
       "48          Evenly divisible by 4!\n",
       "49    Not evenly divisible by 4 :(\n",
       "50    Not evenly divisible by 4 :(\n",
       "51    Not evenly divisible by 4 :(\n",
       "52    Not evenly divisible by 4 :(\n",
       "53          Evenly divisible by 4!\n",
       "54    Not evenly divisible by 4 :(\n",
       "55    Not evenly divisible by 4 :(\n",
       "56          Evenly divisible by 4!\n",
       "57    Not evenly divisible by 4 :(\n",
       "58    Not evenly divisible by 4 :(\n",
       "59    Not evenly divisible by 4 :(\n",
       "60    Not evenly divisible by 4 :(\n",
       "61    Not evenly divisible by 4 :(\n",
       "62    Not evenly divisible by 4 :(\n",
       "63    Not evenly divisible by 4 :(\n",
       "64    Not evenly divisible by 4 :(\n",
       "65          Evenly divisible by 4!\n",
       "66    Not evenly divisible by 4 :(\n",
       "67    Not evenly divisible by 4 :(\n",
       "68    Not evenly divisible by 4 :(\n",
       "69    Not evenly divisible by 4 :(\n",
       "70          Evenly divisible by 4!\n",
       "71    Not evenly divisible by 4 :(\n",
       "72          Evenly divisible by 4!\n",
       "73    Not evenly divisible by 4 :(\n",
       "74    Not evenly divisible by 4 :(\n",
       "75    Not evenly divisible by 4 :(\n",
       "76    Not evenly divisible by 4 :(\n",
       "77    Not evenly divisible by 4 :(\n",
       "78    Not evenly divisible by 4 :(\n",
       "79          Evenly divisible by 4!\n",
       "80    Not evenly divisible by 4 :(\n",
       "81    Not evenly divisible by 4 :(\n",
       "82    Not evenly divisible by 4 :(\n",
       "83    Not evenly divisible by 4 :(\n",
       "84    Not evenly divisible by 4 :(\n",
       "85    Not evenly divisible by 4 :(\n",
       "86    Not evenly divisible by 4 :(\n",
       "87    Not evenly divisible by 4 :(\n",
       "88          Evenly divisible by 4!\n",
       "89          Evenly divisible by 4!\n",
       "90    Not evenly divisible by 4 :(\n",
       "91    Not evenly divisible by 4 :(\n",
       "92    Not evenly divisible by 4 :(\n",
       "93    Not evenly divisible by 4 :(\n",
       "94    Not evenly divisible by 4 :(\n",
       "95    Not evenly divisible by 4 :(\n",
       "96    Not evenly divisible by 4 :(\n",
       "97    Not evenly divisible by 4 :(\n",
       "98    Not evenly divisible by 4 :(\n",
       "99    Not evenly divisible by 4 :(\n",
       "dtype: object"
      ]
     },
     "execution_count": 36,
     "metadata": {},
     "output_type": "execute_result"
    }
   ],
   "source": [
    "numbers.apply(is_divisible_by_4)"
   ]
  },
  {
   "cell_type": "code",
   "execution_count": 37,
   "metadata": {
    "scrolled": true
   },
   "outputs": [
    {
     "data": {
      "text/plain": [
       "<bound method IndexOpsMixin.value_counts of 0      2\n",
       "1     29\n",
       "2     33\n",
       "3     34\n",
       "4     53\n",
       "5     51\n",
       "6     37\n",
       "7     78\n",
       "8     79\n",
       "9     49\n",
       "10    49\n",
       "11    50\n",
       "12    45\n",
       "13    64\n",
       "14    64\n",
       "15    71\n",
       "16    66\n",
       "17    48\n",
       "18    52\n",
       "19    50\n",
       "20    28\n",
       "21    21\n",
       "22     1\n",
       "23    90\n",
       "24    91\n",
       "25    86\n",
       "26    17\n",
       "27    27\n",
       "28    98\n",
       "29    58\n",
       "30     6\n",
       "31    10\n",
       "32     3\n",
       "33    85\n",
       "34    36\n",
       "35    67\n",
       "36    54\n",
       "37    80\n",
       "38    99\n",
       "39    66\n",
       "40    54\n",
       "41    20\n",
       "42    29\n",
       "43    18\n",
       "44    39\n",
       "45    46\n",
       "46    39\n",
       "47    31\n",
       "48    44\n",
       "49    74\n",
       "50     3\n",
       "51    66\n",
       "52    53\n",
       "53    20\n",
       "54    41\n",
       "55     1\n",
       "56    52\n",
       "57    87\n",
       "58    50\n",
       "59    43\n",
       "60    85\n",
       "61    34\n",
       "62    91\n",
       "63    30\n",
       "64    26\n",
       "65    88\n",
       "66    41\n",
       "67    27\n",
       "68    29\n",
       "69    65\n",
       "70    12\n",
       "71    11\n",
       "72    88\n",
       "73    33\n",
       "74    79\n",
       "75    57\n",
       "76    45\n",
       "77     1\n",
       "78    47\n",
       "79    24\n",
       "80    70\n",
       "81    14\n",
       "82    89\n",
       "83    42\n",
       "84    78\n",
       "85    59\n",
       "86    35\n",
       "87    17\n",
       "88    76\n",
       "89    28\n",
       "90    37\n",
       "91    18\n",
       "92     2\n",
       "93    67\n",
       "94    69\n",
       "95    47\n",
       "96    13\n",
       "97    82\n",
       "98    43\n",
       "99    29\n",
       "dtype: int64>"
      ]
     },
     "execution_count": 37,
     "metadata": {},
     "output_type": "execute_result"
    }
   ],
   "source": [
    "numbers.value_counts"
   ]
  },
  {
   "cell_type": "code",
   "execution_count": 38,
   "metadata": {},
   "outputs": [],
   "source": [
    "def bin_numbers(n):\n",
    "    if n < 25:\n",
    "        return '[0, 25)'\n",
    "    elif n < 50:\n",
    "        return '[25, 50)'\n",
    "    elif n < 75:\n",
    "        return '[50, 75)'\n",
    "    else:\n",
    "        return '[75, 100]'"
   ]
  },
  {
   "cell_type": "code",
   "execution_count": 39,
   "metadata": {},
   "outputs": [
    {
     "data": {
      "text/plain": [
       "'[25, 50)'"
      ]
     },
     "execution_count": 39,
     "metadata": {},
     "output_type": "execute_result"
    }
   ],
   "source": [
    "bin_numbers(40)"
   ]
  },
  {
   "cell_type": "code",
   "execution_count": 40,
   "metadata": {
    "scrolled": true
   },
   "outputs": [
    {
     "data": {
      "text/plain": [
       "0       [0, 25)\n",
       "1      [25, 50)\n",
       "2      [25, 50)\n",
       "3      [25, 50)\n",
       "4      [50, 75)\n",
       "5      [50, 75)\n",
       "6      [25, 50)\n",
       "7     [75, 100]\n",
       "8     [75, 100]\n",
       "9      [25, 50)\n",
       "10     [25, 50)\n",
       "11     [50, 75)\n",
       "12     [25, 50)\n",
       "13     [50, 75)\n",
       "14     [50, 75)\n",
       "15     [50, 75)\n",
       "16     [50, 75)\n",
       "17     [25, 50)\n",
       "18     [50, 75)\n",
       "19     [50, 75)\n",
       "20     [25, 50)\n",
       "21      [0, 25)\n",
       "22      [0, 25)\n",
       "23    [75, 100]\n",
       "24    [75, 100]\n",
       "25    [75, 100]\n",
       "26      [0, 25)\n",
       "27     [25, 50)\n",
       "28    [75, 100]\n",
       "29     [50, 75)\n",
       "30      [0, 25)\n",
       "31      [0, 25)\n",
       "32      [0, 25)\n",
       "33    [75, 100]\n",
       "34     [25, 50)\n",
       "35     [50, 75)\n",
       "36     [50, 75)\n",
       "37    [75, 100]\n",
       "38    [75, 100]\n",
       "39     [50, 75)\n",
       "40     [50, 75)\n",
       "41      [0, 25)\n",
       "42     [25, 50)\n",
       "43      [0, 25)\n",
       "44     [25, 50)\n",
       "45     [25, 50)\n",
       "46     [25, 50)\n",
       "47     [25, 50)\n",
       "48     [25, 50)\n",
       "49     [50, 75)\n",
       "50      [0, 25)\n",
       "51     [50, 75)\n",
       "52     [50, 75)\n",
       "53      [0, 25)\n",
       "54     [25, 50)\n",
       "55      [0, 25)\n",
       "56     [50, 75)\n",
       "57    [75, 100]\n",
       "58     [50, 75)\n",
       "59     [25, 50)\n",
       "60    [75, 100]\n",
       "61     [25, 50)\n",
       "62    [75, 100]\n",
       "63     [25, 50)\n",
       "64     [25, 50)\n",
       "65    [75, 100]\n",
       "66     [25, 50)\n",
       "67     [25, 50)\n",
       "68     [25, 50)\n",
       "69     [50, 75)\n",
       "70      [0, 25)\n",
       "71      [0, 25)\n",
       "72    [75, 100]\n",
       "73     [25, 50)\n",
       "74    [75, 100]\n",
       "75     [50, 75)\n",
       "76     [25, 50)\n",
       "77      [0, 25)\n",
       "78     [25, 50)\n",
       "79      [0, 25)\n",
       "80     [50, 75)\n",
       "81      [0, 25)\n",
       "82    [75, 100]\n",
       "83     [25, 50)\n",
       "84    [75, 100]\n",
       "85     [50, 75)\n",
       "86     [25, 50)\n",
       "87      [0, 25)\n",
       "88    [75, 100]\n",
       "89     [25, 50)\n",
       "90     [25, 50)\n",
       "91      [0, 25)\n",
       "92      [0, 25)\n",
       "93     [50, 75)\n",
       "94     [50, 75)\n",
       "95     [25, 50)\n",
       "96      [0, 25)\n",
       "97    [75, 100]\n",
       "98     [25, 50)\n",
       "99     [25, 50)\n",
       "dtype: object"
      ]
     },
     "execution_count": 40,
     "metadata": {},
     "output_type": "execute_result"
    }
   ],
   "source": [
    "numbers.apply(bin_numbers)"
   ]
  },
  {
   "cell_type": "code",
   "execution_count": 41,
   "metadata": {},
   "outputs": [
    {
     "data": {
      "text/plain": [
       "[0, 25)      21\n",
       "[25, 50)     35\n",
       "[50, 75)     25\n",
       "[75, 100]    19\n",
       "dtype: int64"
      ]
     },
     "execution_count": 41,
     "metadata": {},
     "output_type": "execute_result"
    }
   ],
   "source": [
    "numbers.apply(bin_numbers).value_counts().sort_index()"
   ]
  },
  {
   "cell_type": "code",
   "execution_count": 42,
   "metadata": {},
   "outputs": [
    {
     "data": {
      "text/plain": [
       "pandas.core.series.Series"
      ]
     },
     "execution_count": 42,
     "metadata": {},
     "output_type": "execute_result"
    }
   ],
   "source": [
    "type(numbers.apply(bin_numbers).value_counts())"
   ]
  },
  {
   "cell_type": "code",
   "execution_count": null,
   "metadata": {},
   "outputs": [],
   "source": []
  },
  {
   "cell_type": "markdown",
   "metadata": {},
   "source": [
    "## Binning Data - turns numeric into categorical variable"
   ]
  },
  {
   "cell_type": "code",
   "execution_count": 43,
   "metadata": {},
   "outputs": [
    {
     "data": {
      "text/plain": [
       "(25.5, 50.0]     38\n",
       "(50.0, 74.5]     22\n",
       "(0.901, 25.5]    21\n",
       "(74.5, 99.0]     19\n",
       "dtype: int64"
      ]
     },
     "execution_count": 43,
     "metadata": {},
     "output_type": "execute_result"
    }
   ],
   "source": [
    "numbers.value_counts(bins=4)"
   ]
  },
  {
   "cell_type": "code",
   "execution_count": 44,
   "metadata": {},
   "outputs": [
    {
     "data": {
      "image/png": "[encoded data removed]",
      "text/plain": [
       "<Figure size 432x288 with 1 Axes>"
      ]
     },
     "metadata": {
      "needs_background": "light"
     },
     "output_type": "display_data"
    }
   ],
   "source": [
    "pd.cut(numbers, 4, labels=['very small', 'small', 'large', 'very large']).value_counts().sort_index().plot(kind='bar')\n",
    "plt.show()"
   ]
  },
  {
   "cell_type": "code",
   "execution_count": 45,
   "metadata": {},
   "outputs": [
    {
     "data": {
      "text/plain": [
       "(0.902, 13.25]    12\n",
       "(13.25, 25.5]      9\n",
       "(25.5, 37.75]     19\n",
       "(37.75, 50.0]     19\n",
       "(50.0, 62.25]     10\n",
       "(62.25, 74.5]     12\n",
       "(74.5, 86.75]     10\n",
       "(86.75, 99.0]      9\n",
       "dtype: int64"
      ]
     },
     "execution_count": 45,
     "metadata": {},
     "output_type": "execute_result"
    }
   ],
   "source": [
    "#  pd.cut() creates equal sized bins, but values not distributed equally\n",
    "\n",
    "pd.cut(numbers, 8).value_counts().sort_index()"
   ]
  },
  {
   "cell_type": "code",
   "execution_count": 46,
   "metadata": {},
   "outputs": [
    {
     "data": {
      "text/plain": [
       "(0.999, 15.125]    13\n",
       "(15.125, 28.0]     13\n",
       "(28.0, 36.125]     12\n",
       "(36.125, 45.5]     12\n",
       "(45.5, 52.875]     12\n",
       "(52.875, 66.25]    13\n",
       "(66.25, 81.25]     12\n",
       "(81.25, 99.0]      13\n",
       "dtype: int64"
      ]
     },
     "execution_count": 46,
     "metadata": {},
     "output_type": "execute_result"
    }
   ],
   "source": [
    "#  pd.qcut() distributes values equally throughout the bins\n",
    "\n",
    "pd.qcut(numbers, 8).value_counts().sort_index()"
   ]
  },
  {
   "cell_type": "markdown",
   "metadata": {},
   "source": [
    "## String Manipulations"
   ]
  },
  {
   "cell_type": "code",
   "execution_count": 47,
   "metadata": {
    "scrolled": true
   },
   "outputs": [
    {
     "data": {
      "text/plain": [
       "0     Not \n",
       "1     Not \n",
       "2     Not \n",
       "3     Not \n",
       "4     Not \n",
       "5     Not \n",
       "6     Not \n",
       "7     Not \n",
       "8     Not \n",
       "9     Not \n",
       "10    Not \n",
       "11    Not \n",
       "12    Not \n",
       "13    Even\n",
       "14    Even\n",
       "15    Not \n",
       "16    Not \n",
       "17    Even\n",
       "18    Even\n",
       "19    Not \n",
       "20    Even\n",
       "21    Not \n",
       "22    Not \n",
       "23    Not \n",
       "24    Not \n",
       "25    Not \n",
       "26    Not \n",
       "27    Not \n",
       "28    Not \n",
       "29    Not \n",
       "30    Not \n",
       "31    Not \n",
       "32    Not \n",
       "33    Not \n",
       "34    Even\n",
       "35    Not \n",
       "36    Not \n",
       "37    Even\n",
       "38    Not \n",
       "39    Not \n",
       "40    Not \n",
       "41    Even\n",
       "42    Not \n",
       "43    Not \n",
       "44    Not \n",
       "45    Not \n",
       "46    Not \n",
       "47    Not \n",
       "48    Even\n",
       "49    Not \n",
       "50    Not \n",
       "51    Not \n",
       "52    Not \n",
       "53    Even\n",
       "54    Not \n",
       "55    Not \n",
       "56    Even\n",
       "57    Not \n",
       "58    Not \n",
       "59    Not \n",
       "60    Not \n",
       "61    Not \n",
       "62    Not \n",
       "63    Not \n",
       "64    Not \n",
       "65    Even\n",
       "66    Not \n",
       "67    Not \n",
       "68    Not \n",
       "69    Not \n",
       "70    Even\n",
       "71    Not \n",
       "72    Even\n",
       "73    Not \n",
       "74    Not \n",
       "75    Not \n",
       "76    Not \n",
       "77    Not \n",
       "78    Not \n",
       "79    Even\n",
       "80    Not \n",
       "81    Not \n",
       "82    Not \n",
       "83    Not \n",
       "84    Not \n",
       "85    Not \n",
       "86    Not \n",
       "87    Not \n",
       "88    Even\n",
       "89    Even\n",
       "90    Not \n",
       "91    Not \n",
       "92    Not \n",
       "93    Not \n",
       "94    Not \n",
       "95    Not \n",
       "96    Not \n",
       "97    Not \n",
       "98    Not \n",
       "99    Not \n",
       "dtype: object"
      ]
     },
     "execution_count": 47,
     "metadata": {},
     "output_type": "execute_result"
    }
   ],
   "source": [
    "numbers.apply(is_divisible_by_4).str[:4]"
   ]
  },
  {
   "cell_type": "code",
   "execution_count": 48,
   "metadata": {
    "scrolled": true
   },
   "outputs": [
    {
     "data": {
      "text/plain": [
       "0     not evenly divisible by 4 :(\n",
       "1     not evenly divisible by 4 :(\n",
       "2     not evenly divisible by 4 :(\n",
       "3     not evenly divisible by 4 :(\n",
       "4     not evenly divisible by 4 :(\n",
       "5     not evenly divisible by 4 :(\n",
       "6     not evenly divisible by 4 :(\n",
       "7     not evenly divisible by 4 :(\n",
       "8     not evenly divisible by 4 :(\n",
       "9     not evenly divisible by 4 :(\n",
       "10    not evenly divisible by 4 :(\n",
       "11    not evenly divisible by 4 :(\n",
       "12    not evenly divisible by 4 :(\n",
       "13          evenly divisible by 4!\n",
       "14          evenly divisible by 4!\n",
       "15    not evenly divisible by 4 :(\n",
       "16    not evenly divisible by 4 :(\n",
       "17          evenly divisible by 4!\n",
       "18          evenly divisible by 4!\n",
       "19    not evenly divisible by 4 :(\n",
       "20          evenly divisible by 4!\n",
       "21    not evenly divisible by 4 :(\n",
       "22    not evenly divisible by 4 :(\n",
       "23    not evenly divisible by 4 :(\n",
       "24    not evenly divisible by 4 :(\n",
       "25    not evenly divisible by 4 :(\n",
       "26    not evenly divisible by 4 :(\n",
       "27    not evenly divisible by 4 :(\n",
       "28    not evenly divisible by 4 :(\n",
       "29    not evenly divisible by 4 :(\n",
       "30    not evenly divisible by 4 :(\n",
       "31    not evenly divisible by 4 :(\n",
       "32    not evenly divisible by 4 :(\n",
       "33    not evenly divisible by 4 :(\n",
       "34          evenly divisible by 4!\n",
       "35    not evenly divisible by 4 :(\n",
       "36    not evenly divisible by 4 :(\n",
       "37          evenly divisible by 4!\n",
       "38    not evenly divisible by 4 :(\n",
       "39    not evenly divisible by 4 :(\n",
       "40    not evenly divisible by 4 :(\n",
       "41          evenly divisible by 4!\n",
       "42    not evenly divisible by 4 :(\n",
       "43    not evenly divisible by 4 :(\n",
       "44    not evenly divisible by 4 :(\n",
       "45    not evenly divisible by 4 :(\n",
       "46    not evenly divisible by 4 :(\n",
       "47    not evenly divisible by 4 :(\n",
       "48          evenly divisible by 4!\n",
       "49    not evenly divisible by 4 :(\n",
       "50    not evenly divisible by 4 :(\n",
       "51    not evenly divisible by 4 :(\n",
       "52    not evenly divisible by 4 :(\n",
       "53          evenly divisible by 4!\n",
       "54    not evenly divisible by 4 :(\n",
       "55    not evenly divisible by 4 :(\n",
       "56          evenly divisible by 4!\n",
       "57    not evenly divisible by 4 :(\n",
       "58    not evenly divisible by 4 :(\n",
       "59    not evenly divisible by 4 :(\n",
       "60    not evenly divisible by 4 :(\n",
       "61    not evenly divisible by 4 :(\n",
       "62    not evenly divisible by 4 :(\n",
       "63    not evenly divisible by 4 :(\n",
       "64    not evenly divisible by 4 :(\n",
       "65          evenly divisible by 4!\n",
       "66    not evenly divisible by 4 :(\n",
       "67    not evenly divisible by 4 :(\n",
       "68    not evenly divisible by 4 :(\n",
       "69    not evenly divisible by 4 :(\n",
       "70          evenly divisible by 4!\n",
       "71    not evenly divisible by 4 :(\n",
       "72          evenly divisible by 4!\n",
       "73    not evenly divisible by 4 :(\n",
       "74    not evenly divisible by 4 :(\n",
       "75    not evenly divisible by 4 :(\n",
       "76    not evenly divisible by 4 :(\n",
       "77    not evenly divisible by 4 :(\n",
       "78    not evenly divisible by 4 :(\n",
       "79          evenly divisible by 4!\n",
       "80    not evenly divisible by 4 :(\n",
       "81    not evenly divisible by 4 :(\n",
       "82    not evenly divisible by 4 :(\n",
       "83    not evenly divisible by 4 :(\n",
       "84    not evenly divisible by 4 :(\n",
       "85    not evenly divisible by 4 :(\n",
       "86    not evenly divisible by 4 :(\n",
       "87    not evenly divisible by 4 :(\n",
       "88          evenly divisible by 4!\n",
       "89          evenly divisible by 4!\n",
       "90    not evenly divisible by 4 :(\n",
       "91    not evenly divisible by 4 :(\n",
       "92    not evenly divisible by 4 :(\n",
       "93    not evenly divisible by 4 :(\n",
       "94    not evenly divisible by 4 :(\n",
       "95    not evenly divisible by 4 :(\n",
       "96    not evenly divisible by 4 :(\n",
       "97    not evenly divisible by 4 :(\n",
       "98    not evenly divisible by 4 :(\n",
       "99    not evenly divisible by 4 :(\n",
       "dtype: object"
      ]
     },
     "execution_count": 48,
     "metadata": {},
     "output_type": "execute_result"
    }
   ],
   "source": [
    "numbers.apply(is_divisible_by_4).str.lower()"
   ]
  },
  {
   "cell_type": "markdown",
   "metadata": {},
   "source": [
    "## Plotting\n",
    "\n",
    "- gives each number by index using .plot()\n",
    "\n",
    "- you can use this quick plotting method on Series only"
   ]
  },
  {
   "cell_type": "code",
   "execution_count": 49,
   "metadata": {},
   "outputs": [
    {
     "data": {
      "image/png": "[encoded data removed]",
      "text/plain": [
       "<Figure size 432x288 with 1 Axes>"
      ]
     },
     "metadata": {
      "needs_background": "light"
     },
     "output_type": "display_data"
    }
   ],
   "source": [
    "numbers.plot()\n",
    "plt.title('Number by Index')\n",
    "\n",
    "plt.show()"
   ]
  },
  {
   "cell_type": "code",
   "execution_count": 50,
   "metadata": {},
   "outputs": [
    {
     "data": {
      "image/png": "[encoded data removed]",
      "text/plain": [
       "<Figure size 432x288 with 1 Axes>"
      ]
     },
     "metadata": {
      "needs_background": "light"
     },
     "output_type": "display_data"
    }
   ],
   "source": [
    "numbers.plot.hist()\n",
    "plt.title('Distribution of Numbers')\n",
    "\n",
    "plt.show()"
   ]
  },
  {
   "cell_type": "code",
   "execution_count": 51,
   "metadata": {},
   "outputs": [
    {
     "data": {
      "image/png": "[encoded data removed]",
      "text/plain": [
       "<Figure size 432x288 with 1 Axes>"
      ]
     },
     "metadata": {
      "needs_background": "light"
     },
     "output_type": "display_data"
    }
   ],
   "source": [
    "letters[letters.isin(vowels)].value_counts().plot(kind='bar')\n",
    "plt.xticks(rotation=0)\n",
    "plt.title('Frequency of Vowels')\n",
    "\n",
    "plt.show()"
   ]
  },
  {
   "cell_type": "markdown",
   "metadata": {},
   "source": [
    "## Exercises"
   ]
  },
  {
   "cell_type": "markdown",
   "metadata": {},
   "source": [
    "## Create Series named fruits"
   ]
  },
  {
   "cell_type": "code",
   "execution_count": 52,
   "metadata": {},
   "outputs": [],
   "source": [
    "fruits = pd.Series([\"kiwi\", \"mango\", \"strawberry\", \"pineapple\", \"gala apple\", \"honeycrisp apple\", \"tomato\", \"watermelon\", \"honeydew\", \"kiwi\", \"kiwi\", \"kiwi\", \"mango\", \"blueberry\", \"blackberry\", \"gooseberry\", \"papaya\"]\n",
    ")"
   ]
  },
  {
   "cell_type": "code",
   "execution_count": 53,
   "metadata": {},
   "outputs": [
    {
     "data": {
      "text/plain": [
       "pandas.core.series.Series"
      ]
     },
     "execution_count": 53,
     "metadata": {},
     "output_type": "execute_result"
    }
   ],
   "source": [
    "type(fruits)"
   ]
  },
  {
   "cell_type": "code",
   "execution_count": 185,
   "metadata": {},
   "outputs": [
    {
     "data": {
      "text/plain": [
       "count       17\n",
       "unique      13\n",
       "top       kiwi\n",
       "freq         4\n",
       "dtype: object"
      ]
     },
     "execution_count": 185,
     "metadata": {},
     "output_type": "execute_result"
    }
   ],
   "source": [
    "fruits.describe()"
   ]
  },
  {
   "cell_type": "markdown",
   "metadata": {},
   "source": [
    "### unique fruits only"
   ]
  },
  {
   "cell_type": "code",
   "execution_count": 54,
   "metadata": {},
   "outputs": [
    {
     "data": {
      "text/plain": [
       "array(['kiwi', 'mango', 'strawberry', 'pineapple', 'gala apple',\n",
       "       'honeycrisp apple', 'tomato', 'watermelon', 'honeydew',\n",
       "       'blueberry', 'blackberry', 'gooseberry', 'papaya'], dtype=object)"
      ]
     },
     "execution_count": 54,
     "metadata": {},
     "output_type": "execute_result"
    }
   ],
   "source": [
    "fruits.unique()"
   ]
  },
  {
   "cell_type": "markdown",
   "metadata": {},
   "source": [
    "### number of unique fruits in fruits Series"
   ]
  },
  {
   "cell_type": "code",
   "execution_count": 55,
   "metadata": {},
   "outputs": [
    {
     "data": {
      "text/plain": [
       "13"
      ]
     },
     "execution_count": 55,
     "metadata": {},
     "output_type": "execute_result"
    }
   ],
   "source": [
    "fruits.nunique()"
   ]
  },
  {
   "cell_type": "markdown",
   "metadata": {},
   "source": [
    "### Frequency of fruits"
   ]
  },
  {
   "cell_type": "code",
   "execution_count": 56,
   "metadata": {},
   "outputs": [
    {
     "data": {
      "text/plain": [
       "kiwi                4\n",
       "mango               2\n",
       "tomato              1\n",
       "gooseberry          1\n",
       "gala apple          1\n",
       "blueberry           1\n",
       "papaya              1\n",
       "honeycrisp apple    1\n",
       "strawberry          1\n",
       "watermelon          1\n",
       "honeydew            1\n",
       "pineapple           1\n",
       "blackberry          1\n",
       "dtype: int64"
      ]
     },
     "execution_count": 56,
     "metadata": {},
     "output_type": "execute_result"
    }
   ],
   "source": [
    "fruits.value_counts()"
   ]
  },
  {
   "cell_type": "markdown",
   "metadata": {},
   "source": [
    "### Most frequent fruit"
   ]
  },
  {
   "cell_type": "code",
   "execution_count": 57,
   "metadata": {},
   "outputs": [
    {
     "data": {
      "text/plain": [
       "kiwi    4\n",
       "dtype: int64"
      ]
     },
     "execution_count": 57,
     "metadata": {},
     "output_type": "execute_result"
    }
   ],
   "source": [
    "fruits.value_counts().sort_values(ascending=False).head(1)"
   ]
  },
  {
   "cell_type": "code",
   "execution_count": 138,
   "metadata": {},
   "outputs": [
    {
     "data": {
      "text/plain": [
       "'kiwi'"
      ]
     },
     "execution_count": 138,
     "metadata": {},
     "output_type": "execute_result"
    }
   ],
   "source": [
    "# OR...\n",
    "\n",
    "fruits.value_counts().index[0]"
   ]
  },
  {
   "cell_type": "code",
   "execution_count": 170,
   "metadata": {},
   "outputs": [
    {
     "data": {
      "text/plain": [
       "kiwi          4\n",
       "mango         2\n",
       "tomato        1\n",
       "gooseberry    1\n",
       "gala apple    1\n",
       "dtype: int64"
      ]
     },
     "execution_count": 170,
     "metadata": {},
     "output_type": "execute_result"
    }
   ],
   "source": [
    "fruits.value_counts().nlargest()"
   ]
  },
  {
   "cell_type": "markdown",
   "metadata": {},
   "source": [
    "### Least frequent fruits"
   ]
  },
  {
   "cell_type": "code",
   "execution_count": 58,
   "metadata": {},
   "outputs": [
    {
     "data": {
      "text/plain": [
       "tomato              1\n",
       "gooseberry          1\n",
       "gala apple          1\n",
       "blueberry           1\n",
       "papaya              1\n",
       "honeycrisp apple    1\n",
       "strawberry          1\n",
       "watermelon          1\n",
       "honeydew            1\n",
       "pineapple           1\n",
       "blackberry          1\n",
       "dtype: int64"
      ]
     },
     "execution_count": 58,
     "metadata": {},
     "output_type": "execute_result"
    }
   ],
   "source": [
    "fruits.value_counts().sort_values().head(11)"
   ]
  },
  {
   "cell_type": "code",
   "execution_count": 169,
   "metadata": {},
   "outputs": [
    {
     "data": {
      "text/plain": [
       "tomato              1\n",
       "gooseberry          1\n",
       "gala apple          1\n",
       "blueberry           1\n",
       "papaya              1\n",
       "honeycrisp apple    1\n",
       "strawberry          1\n",
       "watermelon          1\n",
       "honeydew            1\n",
       "pineapple           1\n",
       "blackberry          1\n",
       "dtype: int64"
      ]
     },
     "execution_count": 169,
     "metadata": {},
     "output_type": "execute_result"
    }
   ],
   "source": [
    "fruits.value_counts().nsmallest(keep='all')"
   ]
  },
  {
   "cell_type": "code",
   "execution_count": 140,
   "metadata": {},
   "outputs": [
    {
     "data": {
      "text/plain": [
       "'blackberry'"
      ]
     },
     "execution_count": 140,
     "metadata": {},
     "output_type": "execute_result"
    }
   ],
   "source": [
    "fruits.value_counts().index[-1]"
   ]
  },
  {
   "cell_type": "markdown",
   "metadata": {},
   "source": [
    "### Longest name in fruits"
   ]
  },
  {
   "cell_type": "code",
   "execution_count": 59,
   "metadata": {},
   "outputs": [
    {
     "data": {
      "text/plain": [
       "5    honeycrisp apple\n",
       "dtype: object"
      ]
     },
     "execution_count": 59,
     "metadata": {},
     "output_type": "execute_result"
    }
   ],
   "source": [
    "fruits[fruits.str.len() == fruits.str.len().max()]"
   ]
  },
  {
   "cell_type": "code",
   "execution_count": 141,
   "metadata": {},
   "outputs": [
    {
     "data": {
      "text/plain": [
       "'honeycrisp apple'"
      ]
     },
     "execution_count": 141,
     "metadata": {},
     "output_type": "execute_result"
    }
   ],
   "source": [
    "# Another cool way\n",
    "\n",
    "fruits[fruits.apply(len).argmax()]"
   ]
  },
  {
   "cell_type": "markdown",
   "metadata": {},
   "source": [
    "### Fruits with 5 or more letters in their names"
   ]
  },
  {
   "cell_type": "code",
   "execution_count": 142,
   "metadata": {},
   "outputs": [
    {
     "data": {
      "text/plain": [
       "1                mango\n",
       "2           strawberry\n",
       "3            pineapple\n",
       "4           gala apple\n",
       "5     honeycrisp apple\n",
       "6               tomato\n",
       "7           watermelon\n",
       "8             honeydew\n",
       "12               mango\n",
       "13           blueberry\n",
       "14          blackberry\n",
       "15          gooseberry\n",
       "16              papaya\n",
       "dtype: object"
      ]
     },
     "execution_count": 142,
     "metadata": {},
     "output_type": "execute_result"
    }
   ],
   "source": [
    "fruits[fruits.str.len() >= 5]"
   ]
  },
  {
   "cell_type": "markdown",
   "metadata": {},
   "source": [
    "### Capitalize all of the fruits"
   ]
  },
  {
   "cell_type": "code",
   "execution_count": 61,
   "metadata": {},
   "outputs": [
    {
     "data": {
      "text/plain": [
       "0                 Kiwi\n",
       "1                Mango\n",
       "2           Strawberry\n",
       "3            Pineapple\n",
       "4           Gala apple\n",
       "5     Honeycrisp apple\n",
       "6               Tomato\n",
       "7           Watermelon\n",
       "8             Honeydew\n",
       "9                 Kiwi\n",
       "10                Kiwi\n",
       "11                Kiwi\n",
       "12               Mango\n",
       "13           Blueberry\n",
       "14          Blackberry\n",
       "15          Gooseberry\n",
       "16              Papaya\n",
       "dtype: object"
      ]
     },
     "execution_count": 61,
     "metadata": {},
     "output_type": "execute_result"
    }
   ],
   "source": [
    "fruits.str.capitalize()"
   ]
  },
  {
   "cell_type": "code",
   "execution_count": 143,
   "metadata": {},
   "outputs": [
    {
     "data": {
      "text/plain": [
       "0                 Kiwi\n",
       "1                Mango\n",
       "2           Strawberry\n",
       "3            Pineapple\n",
       "4           Gala Apple\n",
       "5     Honeycrisp Apple\n",
       "6               Tomato\n",
       "7           Watermelon\n",
       "8             Honeydew\n",
       "9                 Kiwi\n",
       "10                Kiwi\n",
       "11                Kiwi\n",
       "12               Mango\n",
       "13           Blueberry\n",
       "14          Blackberry\n",
       "15          Gooseberry\n",
       "16              Papaya\n",
       "dtype: object"
      ]
     },
     "execution_count": 143,
     "metadata": {},
     "output_type": "execute_result"
    }
   ],
   "source": [
    "# OR...\n",
    "\n",
    "fruits.str.title()"
   ]
  },
  {
   "cell_type": "markdown",
   "metadata": {},
   "source": [
    "### Count the letter a in the fruits in the Series"
   ]
  },
  {
   "cell_type": "code",
   "execution_count": 62,
   "metadata": {},
   "outputs": [
    {
     "data": {
      "text/plain": [
       "0     0\n",
       "1     1\n",
       "2     1\n",
       "3     1\n",
       "4     3\n",
       "5     1\n",
       "6     1\n",
       "7     1\n",
       "8     0\n",
       "9     0\n",
       "10    0\n",
       "11    0\n",
       "12    1\n",
       "13    0\n",
       "14    1\n",
       "15    0\n",
       "16    3\n",
       "dtype: int64"
      ]
     },
     "execution_count": 62,
     "metadata": {},
     "output_type": "execute_result"
    }
   ],
   "source": [
    "fruits.str.count('a')"
   ]
  },
  {
   "cell_type": "markdown",
   "metadata": {},
   "source": [
    "#### total of letter a in all of the fruits"
   ]
  },
  {
   "cell_type": "code",
   "execution_count": 63,
   "metadata": {},
   "outputs": [
    {
     "data": {
      "text/plain": [
       "14"
      ]
     },
     "execution_count": 63,
     "metadata": {},
     "output_type": "execute_result"
    }
   ],
   "source": [
    "fruits.str.count('a').sum()"
   ]
  },
  {
   "cell_type": "markdown",
   "metadata": {},
   "source": [
    "### Output the number of vowels in each fruit"
   ]
  },
  {
   "cell_type": "code",
   "execution_count": null,
   "metadata": {},
   "outputs": [],
   "source": [
    "def is_vowel(x):\n",
    "    return x in 'aeiou'"
   ]
  },
  {
   "cell_type": "code",
   "execution_count": 112,
   "metadata": {},
   "outputs": [],
   "source": [
    "def count_vowel(string):\n",
    "    count = 0\n",
    "    for s in string:\n",
    "        if is_vowel(s):\n",
    "            count += 1\n",
    "    return count"
   ]
  },
  {
   "cell_type": "code",
   "execution_count": 113,
   "metadata": {},
   "outputs": [
    {
     "data": {
      "text/plain": [
       "0     2\n",
       "1     2\n",
       "2     2\n",
       "3     4\n",
       "4     4\n",
       "5     5\n",
       "6     3\n",
       "7     4\n",
       "8     3\n",
       "9     2\n",
       "10    2\n",
       "11    2\n",
       "12    2\n",
       "13    3\n",
       "14    2\n",
       "15    4\n",
       "16    3\n",
       "dtype: int64"
      ]
     },
     "execution_count": 113,
     "metadata": {},
     "output_type": "execute_result"
    }
   ],
   "source": [
    "fruits.apply(count_vowel)"
   ]
  },
  {
   "cell_type": "code",
   "execution_count": 173,
   "metadata": {},
   "outputs": [],
   "source": [
    "# OR...\n",
    "\n",
    "fruits = fruits.str.lower()\n",
    "\n",
    "vowels = (fruits.str.count(\"a\") \n",
    "     + fruits.str.count(\"e\") \n",
    "     + fruits.str.count(\"i\") \n",
    "     + fruits.str.count(\"o\") \n",
    "     + fruits.str.count(\"u\"))"
   ]
  },
  {
   "cell_type": "code",
   "execution_count": 172,
   "metadata": {},
   "outputs": [
    {
     "data": {
      "text/plain": [
       "0     2\n",
       "1     2\n",
       "2     2\n",
       "3     4\n",
       "4     4\n",
       "5     5\n",
       "6     3\n",
       "7     4\n",
       "8     3\n",
       "9     2\n",
       "10    2\n",
       "11    2\n",
       "12    2\n",
       "13    3\n",
       "14    2\n",
       "15    4\n",
       "16    3\n",
       "dtype: int64"
      ]
     },
     "execution_count": 172,
     "metadata": {},
     "output_type": "execute_result"
    }
   ],
   "source": [
    "fruits.str.count(r'[aeiou]')"
   ]
  },
  {
   "cell_type": "markdown",
   "metadata": {},
   "source": [
    "### Use the .apply method and a lambda function to find the fruit(s) containing two or more \"o\" letters in the name.\n",
    "\n",
    "- functions are first class citizens\n",
    "\n",
    "    - we can assign a function to a variable\n",
    "    - we can return a function from another function\n",
    "    - we can accept a function as an input to another function\n",
    "    \n",
    "- lambdas\n",
    "\n",
    "    - return implicitly"
   ]
  },
  {
   "cell_type": "code",
   "execution_count": 145,
   "metadata": {},
   "outputs": [
    {
     "data": {
      "text/plain": [
       "6         tomato\n",
       "15    gooseberry\n",
       "dtype: object"
      ]
     },
     "execution_count": 145,
     "metadata": {},
     "output_type": "execute_result"
    }
   ],
   "source": [
    "fruits[fruits.str.count('o') >= 2]"
   ]
  },
  {
   "cell_type": "code",
   "execution_count": 107,
   "metadata": {},
   "outputs": [
    {
     "data": {
      "text/plain": [
       "6         tomato\n",
       "15    gooseberry\n",
       "dtype: object"
      ]
     },
     "execution_count": 107,
     "metadata": {},
     "output_type": "execute_result"
    }
   ],
   "source": [
    "#                   def ___(row): \n",
    "#                       return row.lower().count('o') >= 2\n",
    "\n",
    "fruits[fruits.apply(lambda row: row.lower().count('o') >= 2)]"
   ]
  },
  {
   "cell_type": "markdown",
   "metadata": {},
   "source": [
    "### Write the code to get only the fruits containing \"berry\" in the name\n",
    "\n"
   ]
  },
  {
   "cell_type": "code",
   "execution_count": 69,
   "metadata": {},
   "outputs": [
    {
     "data": {
      "text/plain": [
       "2     strawberry\n",
       "13     blueberry\n",
       "14    blackberry\n",
       "15    gooseberry\n",
       "dtype: object"
      ]
     },
     "execution_count": 69,
     "metadata": {},
     "output_type": "execute_result"
    }
   ],
   "source": [
    "fruits[fruits.str.contains('berry')]"
   ]
  },
  {
   "cell_type": "markdown",
   "metadata": {},
   "source": [
    "### Write the code to get only the fruits containing \"apple\" in the name\n",
    "\n"
   ]
  },
  {
   "cell_type": "code",
   "execution_count": 70,
   "metadata": {},
   "outputs": [
    {
     "data": {
      "text/plain": [
       "3           pineapple\n",
       "4          gala apple\n",
       "5    honeycrisp apple\n",
       "dtype: object"
      ]
     },
     "execution_count": 70,
     "metadata": {},
     "output_type": "execute_result"
    }
   ],
   "source": [
    "fruits[fruits.str.contains('apple')]"
   ]
  },
  {
   "cell_type": "markdown",
   "metadata": {},
   "source": [
    "### Which fruit has the highest amount of vowels?\n",
    "\n"
   ]
  },
  {
   "cell_type": "code",
   "execution_count": 71,
   "metadata": {},
   "outputs": [
    {
     "data": {
      "text/plain": [
       "5    honeycrisp apple\n",
       "dtype: object"
      ]
     },
     "execution_count": 71,
     "metadata": {},
     "output_type": "execute_result"
    }
   ],
   "source": [
    "fruits[fruits.str.count(r'[aeiou]')].sort_index().tail(1)"
   ]
  },
  {
   "cell_type": "code",
   "execution_count": 146,
   "metadata": {},
   "outputs": [
    {
     "data": {
      "text/plain": [
       "'honeycrisp apple'"
      ]
     },
     "execution_count": 146,
     "metadata": {},
     "output_type": "execute_result"
    }
   ],
   "source": [
    "# OR...\n",
    "\n",
    "fruits[(fruits.str.count(\"a\") \n",
    "     + fruits.str.count(\"e\") \n",
    "     + fruits.str.count(\"i\") \n",
    "     + fruits.str.count(\"o\") \n",
    "     + fruits.str.count(\"u\")).argmax()]"
   ]
  },
  {
   "cell_type": "markdown",
   "metadata": {},
   "source": [
    "## Create a series of Exam Grades"
   ]
  },
  {
   "cell_type": "code",
   "execution_count": 72,
   "metadata": {},
   "outputs": [],
   "source": [
    "numbers = pd.Series([60, 86, 75, 62, 93, 71, 60, 83, 95, 78, 65, 72, 69, 81, 96, 80, 85, 92, 82, 78]\n",
    ")"
   ]
  },
  {
   "cell_type": "markdown",
   "metadata": {},
   "source": [
    "### Stats for Exam Grades"
   ]
  },
  {
   "cell_type": "code",
   "execution_count": 73,
   "metadata": {},
   "outputs": [
    {
     "data": {
      "text/plain": [
       "60"
      ]
     },
     "execution_count": 73,
     "metadata": {},
     "output_type": "execute_result"
    }
   ],
   "source": [
    "numbers.min()"
   ]
  },
  {
   "cell_type": "code",
   "execution_count": 74,
   "metadata": {},
   "outputs": [
    {
     "data": {
      "text/plain": [
       "96"
      ]
     },
     "execution_count": 74,
     "metadata": {},
     "output_type": "execute_result"
    }
   ],
   "source": [
    "numbers.max()"
   ]
  },
  {
   "cell_type": "code",
   "execution_count": 75,
   "metadata": {},
   "outputs": [
    {
     "data": {
      "text/plain": [
       "78.15"
      ]
     },
     "execution_count": 75,
     "metadata": {},
     "output_type": "execute_result"
    }
   ],
   "source": [
    "numbers.mean()"
   ]
  },
  {
   "cell_type": "code",
   "execution_count": 76,
   "metadata": {},
   "outputs": [
    {
     "data": {
      "text/plain": [
       "79.0"
      ]
     },
     "execution_count": 76,
     "metadata": {},
     "output_type": "execute_result"
    }
   ],
   "source": [
    "numbers.median()"
   ]
  },
  {
   "cell_type": "code",
   "execution_count": 163,
   "metadata": {},
   "outputs": [
    {
     "data": {
      "text/plain": [
       "min       60.00\n",
       "max       96.00\n",
       "mean      78.15\n",
       "median    79.00\n",
       "dtype: float64"
      ]
     },
     "execution_count": 163,
     "metadata": {},
     "output_type": "execute_result"
    }
   ],
   "source": [
    "# OR...\n",
    "\n",
    "stats = numbers.agg(['min', 'max', 'mean', 'median'])\n",
    "stats"
   ]
  },
  {
   "cell_type": "code",
   "execution_count": 164,
   "metadata": {},
   "outputs": [
    {
     "data": {
      "text/plain": [
       "60.0"
      ]
     },
     "execution_count": 164,
     "metadata": {},
     "output_type": "execute_result"
    }
   ],
   "source": [
    "stats['min']"
   ]
  },
  {
   "cell_type": "markdown",
   "metadata": {},
   "source": [
    "### Plot exam grades"
   ]
  },
  {
   "cell_type": "code",
   "execution_count": 165,
   "metadata": {},
   "outputs": [
    {
     "data": {
      "image/png": "[encoded data removed]",
      "text/plain": [
       "<Figure size 432x288 with 1 Axes>"
      ]
     },
     "metadata": {
      "needs_background": "light"
     },
     "output_type": "display_data"
    }
   ],
   "source": [
    "numbers.hist()\n",
    "plt.title('Exam Score')\n",
    "\n",
    "plt.show()"
   ]
  },
  {
   "cell_type": "markdown",
   "metadata": {},
   "source": [
    "## Create a Series from the following"
   ]
  },
  {
   "cell_type": "code",
   "execution_count": 149,
   "metadata": {},
   "outputs": [],
   "source": [
    "dollars = pd.Series(['$796,459.41', '$278.60', '$482,571.67', '$4,503,915.98', '$2,121,418.3', '$1,260,813.3', '$87,231.01', '$1,509,175.45', '$4,138,548.00', '$2,848,913.80', '$594,715.39', '$4,789,988.17', '$4,513,644.5', '$3,191,059.97', '$1,758,712.24', '$4,338,283.54', '$4,738,303.38', '$2,791,759.67', '$769,681.94', '$452,650.23'])"
   ]
  },
  {
   "cell_type": "markdown",
   "metadata": {},
   "source": [
    "### What is the dtype of the values?\n"
   ]
  },
  {
   "cell_type": "code",
   "execution_count": 150,
   "metadata": {},
   "outputs": [
    {
     "data": {
      "text/plain": [
       "dtype('O')"
      ]
     },
     "execution_count": 150,
     "metadata": {},
     "output_type": "execute_result"
    }
   ],
   "source": [
    "dollars.dtype"
   ]
  },
  {
   "cell_type": "markdown",
   "metadata": {},
   "source": [
    "### Use series operations to convert the series to a numeric data type.\n"
   ]
  },
  {
   "cell_type": "code",
   "execution_count": 151,
   "metadata": {},
   "outputs": [],
   "source": [
    "dollars = dollars.str.strip(r'\\$').str.replace(',', '').astype('float')"
   ]
  },
  {
   "cell_type": "code",
   "execution_count": 152,
   "metadata": {},
   "outputs": [
    {
     "data": {
      "text/plain": [
       "0      796459.41\n",
       "1         278.60\n",
       "2      482571.67\n",
       "3     4503915.98\n",
       "4     2121418.30\n",
       "5     1260813.30\n",
       "6       87231.01\n",
       "7     1509175.45\n",
       "8     4138548.00\n",
       "9     2848913.80\n",
       "10     594715.39\n",
       "11    4789988.17\n",
       "12    4513644.50\n",
       "13    3191059.97\n",
       "14    1758712.24\n",
       "15    4338283.54\n",
       "16    4738303.38\n",
       "17    2791759.67\n",
       "18     769681.94\n",
       "19     452650.23\n",
       "dtype: float64"
      ]
     },
     "execution_count": 152,
     "metadata": {},
     "output_type": "execute_result"
    }
   ],
   "source": [
    "dollars"
   ]
  },
  {
   "cell_type": "markdown",
   "metadata": {},
   "source": [
    "### What is the maximum value? The minimum?\n"
   ]
  },
  {
   "cell_type": "code",
   "execution_count": 153,
   "metadata": {},
   "outputs": [
    {
     "data": {
      "text/plain": [
       "4789988.17"
      ]
     },
     "execution_count": 153,
     "metadata": {},
     "output_type": "execute_result"
    }
   ],
   "source": [
    "dollars.max()"
   ]
  },
  {
   "cell_type": "code",
   "execution_count": 154,
   "metadata": {},
   "outputs": [
    {
     "data": {
      "text/plain": [
       "278.6"
      ]
     },
     "execution_count": 154,
     "metadata": {},
     "output_type": "execute_result"
    }
   ],
   "source": [
    "dollars.min()"
   ]
  },
  {
   "cell_type": "markdown",
   "metadata": {},
   "source": [
    "### Bin the data into 4 equally sized intervals and show how many values fall into each bin."
   ]
  },
  {
   "cell_type": "code",
   "execution_count": 182,
   "metadata": {},
   "outputs": [
    {
     "data": {
      "text/plain": [
       "(-4511.11, 1197705.993]       7\n",
       "(1197705.993, 2395133.385]    4\n",
       "(2395133.385, 3592560.778]    3\n",
       "(3592560.778, 4789988.17]     6\n",
       "dtype: int64"
      ]
     },
     "execution_count": 182,
     "metadata": {},
     "output_type": "execute_result"
    }
   ],
   "source": [
    "pd.cut(dollars, bins=4).value_counts().sort_index()"
   ]
  },
  {
   "cell_type": "markdown",
   "metadata": {},
   "source": [
    "### Plot a histogram of the data. Be sure to include a title and axis labels.\n"
   ]
  },
  {
   "cell_type": "code",
   "execution_count": 183,
   "metadata": {},
   "outputs": [
    {
     "data": {
      "image/png": "[encoded data removed]",
      "text/plain": [
       "<Figure size 432x288 with 1 Axes>"
      ]
     },
     "metadata": {
      "needs_background": "light"
     },
     "output_type": "display_data"
    }
   ],
   "source": [
    "pd.cut(dollars, bins=4).value_counts().hist()\n",
    "plt.title('Dollars in Bins')\n",
    "\n",
    "plt.show()"
   ]
  },
  {
   "cell_type": "code",
   "execution_count": 184,
   "metadata": {},
   "outputs": [
    {
     "data": {
      "image/png": "[encoded data removed]",
      "text/plain": [
       "<Figure size 432x288 with 1 Axes>"
      ]
     },
     "metadata": {
      "needs_background": "light"
     },
     "output_type": "display_data"
    }
   ],
   "source": [
    "plt.hist(dollars, bins=4)\n",
    "\n",
    "plt.title('Dollars in Bins')\n",
    "plt.ylabel('Frequency')\n",
    "plt.xlabel('Dollars')\n",
    "\n",
    "plt.show()"
   ]
  },
  {
   "cell_type": "markdown",
   "metadata": {},
   "source": [
    "### Convert each of the numbers above into a letter grade. For example, 86 should be a 'B' and 95 should be an 'A'.\n"
   ]
  },
  {
   "cell_type": "code",
   "execution_count": 86,
   "metadata": {},
   "outputs": [],
   "source": [
    "def bin_grades(n):\n",
    "    if n >= 90:\n",
    "        return '[90, 100]'\n",
    "    elif n >= 80:\n",
    "        return '[80, 90)'\n",
    "    elif n >= 70:\n",
    "        return '[70, 80)'\n",
    "    else:\n",
    "        return '[0, 70]'"
   ]
  },
  {
   "cell_type": "code",
   "execution_count": 87,
   "metadata": {},
   "outputs": [
    {
     "data": {
      "text/plain": [
       "[0, 70]      5\n",
       "[70, 80)     5\n",
       "[80, 90)     6\n",
       "[90, 100]    4\n",
       "dtype: int64"
      ]
     },
     "execution_count": 87,
     "metadata": {},
     "output_type": "execute_result"
    }
   ],
   "source": [
    "numbers.apply(bin_grades).value_counts().sort_index()"
   ]
  },
  {
   "cell_type": "code",
   "execution_count": 88,
   "metadata": {},
   "outputs": [],
   "source": [
    "def bin_letter_grades(n):\n",
    "    if n >= 90:\n",
    "        return 'A'\n",
    "    elif n >= 80:\n",
    "        return 'B'\n",
    "    elif n >= 70:\n",
    "        return 'C'\n",
    "    else:\n",
    "        return 'F'"
   ]
  },
  {
   "cell_type": "code",
   "execution_count": 89,
   "metadata": {},
   "outputs": [
    {
     "data": {
      "text/plain": [
       "A    4\n",
       "B    6\n",
       "C    5\n",
       "F    5\n",
       "dtype: int64"
      ]
     },
     "execution_count": 89,
     "metadata": {},
     "output_type": "execute_result"
    }
   ],
   "source": [
    "numbers.apply(bin_letter_grades).value_counts().sort_index()"
   ]
  },
  {
   "cell_type": "code",
   "execution_count": 121,
   "metadata": {},
   "outputs": [
    {
     "data": {
      "text/plain": [
       "100    1\n",
       "99     1\n",
       "97     1\n",
       "96     1\n",
       "90     1\n",
       "89     1\n",
       "87     1\n",
       "86     1\n",
       "85     1\n",
       "84     1\n",
       "82     2\n",
       "79     1\n",
       "76     1\n",
       "75     1\n",
       "73     1\n",
       "69     1\n",
       "66     1\n",
       "64     2\n",
       "dtype: int64"
      ]
     },
     "execution_count": 121,
     "metadata": {},
     "output_type": "execute_result"
    }
   ],
   "source": [
    "curved_grades = numbers + (100 - numbers.max())\n",
    "curved_grades.value_counts().sort_index(ascending=False)"
   ]
  },
  {
   "cell_type": "code",
   "execution_count": 131,
   "metadata": {},
   "outputs": [
    {
     "data": {
      "image/png": "[encoded data removed]",
      "text/plain": [
       "<Figure size 432x288 with 1 Axes>"
      ]
     },
     "metadata": {
      "needs_background": "light"
     },
     "output_type": "display_data"
    }
   ],
   "source": [
    "binned_grades = pd.cut(curved_grades, [0, 60, 70, 80, 90, 100], labels=[\"F\", \"D\", \"C\", \"B\", \"A\"])\n",
    "binned_grades.value_counts().sort_index(ascending=False).plot(kind='bar')\n",
    "\n",
    "plt.title('Exam Grades')\n",
    "plt.xticks(rotation=0)\n",
    "plt.show()\n"
   ]
  },
  {
   "cell_type": "markdown",
   "metadata": {},
   "source": [
    "## Create a Series from the following string"
   ]
  },
  {
   "cell_type": "code",
   "execution_count": 91,
   "metadata": {},
   "outputs": [],
   "source": [
    "lets = pd.Series(list('hnvidduckkqxwymbimkccexbkmqygkxoyndmcxnwqarhyffsjpsrabtjzsypmzadfavyrnndndvswreauxovncxtwzpwejilzjrmmbbgbyxvjtewqthafnbkqplarokkyydtubbmnexoypulzwfhqvckdpqtpoppzqrmcvhhpwgjwupgzhiofohawytlsiyecuproguy'))"
   ]
  },
  {
   "cell_type": "code",
   "execution_count": 92,
   "metadata": {},
   "outputs": [
    {
     "data": {
      "text/plain": [
       "0      h\n",
       "1      n\n",
       "2      v\n",
       "3      i\n",
       "4      d\n",
       "      ..\n",
       "195    r\n",
       "196    o\n",
       "197    g\n",
       "198    u\n",
       "199    y\n",
       "Length: 200, dtype: object"
      ]
     },
     "execution_count": 92,
     "metadata": {},
     "output_type": "execute_result"
    }
   ],
   "source": [
    "lets"
   ]
  },
  {
   "cell_type": "markdown",
   "metadata": {},
   "source": [
    "### What is the most frequently occuring letter? Least frequently occuring?\n"
   ]
  },
  {
   "cell_type": "code",
   "execution_count": 93,
   "metadata": {},
   "outputs": [
    {
     "data": {
      "text/plain": [
       "y    13\n",
       "dtype: int64"
      ]
     },
     "execution_count": 93,
     "metadata": {},
     "output_type": "execute_result"
    }
   ],
   "source": [
    "lets.value_counts().head(1)"
   ]
  },
  {
   "cell_type": "code",
   "execution_count": 167,
   "metadata": {},
   "outputs": [
    {
     "data": {
      "text/plain": [
       "'y'"
      ]
     },
     "execution_count": 167,
     "metadata": {},
     "output_type": "execute_result"
    }
   ],
   "source": [
    "# OR...\n",
    "\n",
    "lets.value_counts().index[0]"
   ]
  },
  {
   "cell_type": "code",
   "execution_count": 94,
   "metadata": {},
   "outputs": [
    {
     "data": {
      "text/plain": [
       "l    4\n",
       "dtype: int64"
      ]
     },
     "execution_count": 94,
     "metadata": {},
     "output_type": "execute_result"
    }
   ],
   "source": [
    "lets.value_counts().tail(1)"
   ]
  },
  {
   "cell_type": "code",
   "execution_count": 168,
   "metadata": {},
   "outputs": [
    {
     "data": {
      "text/plain": [
       "'l'"
      ]
     },
     "execution_count": 168,
     "metadata": {},
     "output_type": "execute_result"
    }
   ],
   "source": [
    "lets.value_counts().index[-1]"
   ]
  },
  {
   "cell_type": "markdown",
   "metadata": {},
   "source": [
    "### How many vowels are in the list?"
   ]
  },
  {
   "cell_type": "code",
   "execution_count": 95,
   "metadata": {},
   "outputs": [],
   "source": [
    "def is_vowel(x):\n",
    "    return x in 'aeiou'"
   ]
  },
  {
   "cell_type": "code",
   "execution_count": 96,
   "metadata": {},
   "outputs": [
    {
     "data": {
      "text/plain": [
       "34"
      ]
     },
     "execution_count": 96,
     "metadata": {},
     "output_type": "execute_result"
    }
   ],
   "source": [
    "lets.apply(is_vowel).sum()"
   ]
  },
  {
   "cell_type": "code",
   "execution_count": 97,
   "metadata": {},
   "outputs": [
    {
     "data": {
      "text/plain": [
       "34"
      ]
     },
     "execution_count": 97,
     "metadata": {},
     "output_type": "execute_result"
    }
   ],
   "source": [
    "lets.str.contains(r'[aeiou]').sum()"
   ]
  },
  {
   "cell_type": "code",
   "execution_count": 98,
   "metadata": {},
   "outputs": [],
   "source": [
    "def is_consonant(x):\n",
    "    return x not in 'aeiou'"
   ]
  },
  {
   "cell_type": "code",
   "execution_count": 99,
   "metadata": {},
   "outputs": [
    {
     "data": {
      "text/plain": [
       "166"
      ]
     },
     "execution_count": 99,
     "metadata": {},
     "output_type": "execute_result"
    }
   ],
   "source": [
    "lets.apply(is_consonant).sum()"
   ]
  },
  {
   "cell_type": "code",
   "execution_count": 186,
   "metadata": {},
   "outputs": [
    {
     "data": {
      "text/plain": [
       "166"
      ]
     },
     "execution_count": 186,
     "metadata": {},
     "output_type": "execute_result"
    }
   ],
   "source": [
    "lets.str.contains(r'[^aeiou]').sum()"
   ]
  },
  {
   "cell_type": "markdown",
   "metadata": {},
   "source": [
    "### Create a series that has all of the same letters, but uppercased"
   ]
  },
  {
   "cell_type": "code",
   "execution_count": 100,
   "metadata": {},
   "outputs": [
    {
     "data": {
      "text/plain": [
       "0      H\n",
       "1      N\n",
       "2      V\n",
       "3      I\n",
       "4      D\n",
       "      ..\n",
       "195    R\n",
       "196    O\n",
       "197    G\n",
       "198    U\n",
       "199    Y\n",
       "Length: 200, dtype: object"
      ]
     },
     "execution_count": 100,
     "metadata": {},
     "output_type": "execute_result"
    }
   ],
   "source": [
    "uppers = lets.str.upper()\n",
    "uppers"
   ]
  },
  {
   "cell_type": "code",
   "execution_count": null,
   "metadata": {},
   "outputs": [],
   "source": [
    "uppers.str. # tab will show you all of the string methods you can use."
   ]
  },
  {
   "cell_type": "markdown",
   "metadata": {},
   "source": [
    "### Create a bar plot of the frequencies of the 6 most frequently occuring letters."
   ]
  },
  {
   "cell_type": "code",
   "execution_count": 101,
   "metadata": {},
   "outputs": [
    {
     "data": {
      "image/png": "[encoded data removed]",
      "text/plain": [
       "<Figure size 432x288 with 1 Axes>"
      ]
     },
     "metadata": {
      "needs_background": "light"
     },
     "output_type": "display_data"
    }
   ],
   "source": [
    "lets.value_counts().head(6).plot(kind='bar')\n",
    "\n",
    "plt.title('6 Most Frequent Letters')\n",
    "plt.ylabel('Frequency')\n",
    "plt.xticks(rotation=0)\n",
    "plt.show()"
   ]
  },
  {
   "cell_type": "code",
   "execution_count": null,
   "metadata": {},
   "outputs": [],
   "source": []
  }
 ],
 "metadata": {
  "kernelspec": {
   "display_name": "Python 3",
   "language": "python",
   "name": "python3"
  },
  "language_info": {
   "codemirror_mode": {
    "name": "ipython",
    "version": 3
   },
   "file_extension": ".py",
   "mimetype": "text/x-python",
   "name": "python",
   "nbconvert_exporter": "python",
   "pygments_lexer": "ipython3",
   "version": "3.7.4"
  },
  "toc": {
   "base_numbering": 1,
   "nav_menu": {},
   "number_sections": true,
   "sideBar": true,
   "skip_h1_title": true,
   "title_cell": "Table of Contents",
   "title_sidebar": "Contents",
   "toc_cell": false,
   "toc_position": {},
   "toc_section_display": true,
   "toc_window_display": true
  }
 },
 "nbformat": 4,
 "nbformat_minor": 2
}
