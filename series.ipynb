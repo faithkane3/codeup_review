{
 "cells": [
  {
   "cell_type": "code",
   "execution_count": 1,
   "metadata": {},
   "outputs": [],
   "source": [
    "import pandas as pd\n",
    "import numpy as np\n",
    "\n",
    "import matplotlib.pyplot as plt\n",
    "%matplotlib inline\n",
    "\n",
    "from pydataset import data\n",
    "\n",
    "import warnings\n",
    "warnings.filterwarnings('ignore')"
   ]
  },
  {
   "cell_type": "code",
   "execution_count": null,
   "metadata": {},
   "outputs": [],
   "source": [
    "data()"
   ]
  },
  {
   "cell_type": "code",
   "execution_count": 2,
   "metadata": {},
   "outputs": [],
   "source": [
    "df = data('mpg')"
   ]
  },
  {
   "cell_type": "code",
   "execution_count": 3,
   "metadata": {},
   "outputs": [
    {
     "data": {
      "text/html": [
       "<div>\n",
       "<style scoped>\n",
       "    .dataframe tbody tr th:only-of-type {\n",
       "        vertical-align: middle;\n",
       "    }\n",
       "\n",
       "    .dataframe tbody tr th {\n",
       "        vertical-align: top;\n",
       "    }\n",
       "\n",
       "    .dataframe thead th {\n",
       "        text-align: right;\n",
       "    }\n",
       "</style>\n",
       "<table border=\"1\" class=\"dataframe\">\n",
       "  <thead>\n",
       "    <tr style=\"text-align: right;\">\n",
       "      <th></th>\n",
       "      <th>manufacturer</th>\n",
       "      <th>model</th>\n",
       "      <th>displ</th>\n",
       "      <th>year</th>\n",
       "      <th>cyl</th>\n",
       "      <th>trans</th>\n",
       "      <th>drv</th>\n",
       "      <th>cty</th>\n",
       "      <th>hwy</th>\n",
       "      <th>fl</th>\n",
       "      <th>class</th>\n",
       "    </tr>\n",
       "  </thead>\n",
       "  <tbody>\n",
       "    <tr>\n",
       "      <td>1</td>\n",
       "      <td>audi</td>\n",
       "      <td>a4</td>\n",
       "      <td>1.8</td>\n",
       "      <td>1999</td>\n",
       "      <td>4</td>\n",
       "      <td>auto(l5)</td>\n",
       "      <td>f</td>\n",
       "      <td>18</td>\n",
       "      <td>29</td>\n",
       "      <td>p</td>\n",
       "      <td>compact</td>\n",
       "    </tr>\n",
       "    <tr>\n",
       "      <td>2</td>\n",
       "      <td>audi</td>\n",
       "      <td>a4</td>\n",
       "      <td>1.8</td>\n",
       "      <td>1999</td>\n",
       "      <td>4</td>\n",
       "      <td>manual(m5)</td>\n",
       "      <td>f</td>\n",
       "      <td>21</td>\n",
       "      <td>29</td>\n",
       "      <td>p</td>\n",
       "      <td>compact</td>\n",
       "    </tr>\n",
       "    <tr>\n",
       "      <td>3</td>\n",
       "      <td>audi</td>\n",
       "      <td>a4</td>\n",
       "      <td>2.0</td>\n",
       "      <td>2008</td>\n",
       "      <td>4</td>\n",
       "      <td>manual(m6)</td>\n",
       "      <td>f</td>\n",
       "      <td>20</td>\n",
       "      <td>31</td>\n",
       "      <td>p</td>\n",
       "      <td>compact</td>\n",
       "    </tr>\n",
       "    <tr>\n",
       "      <td>4</td>\n",
       "      <td>audi</td>\n",
       "      <td>a4</td>\n",
       "      <td>2.0</td>\n",
       "      <td>2008</td>\n",
       "      <td>4</td>\n",
       "      <td>auto(av)</td>\n",
       "      <td>f</td>\n",
       "      <td>21</td>\n",
       "      <td>30</td>\n",
       "      <td>p</td>\n",
       "      <td>compact</td>\n",
       "    </tr>\n",
       "    <tr>\n",
       "      <td>5</td>\n",
       "      <td>audi</td>\n",
       "      <td>a4</td>\n",
       "      <td>2.8</td>\n",
       "      <td>1999</td>\n",
       "      <td>6</td>\n",
       "      <td>auto(l5)</td>\n",
       "      <td>f</td>\n",
       "      <td>16</td>\n",
       "      <td>26</td>\n",
       "      <td>p</td>\n",
       "      <td>compact</td>\n",
       "    </tr>\n",
       "  </tbody>\n",
       "</table>\n",
       "</div>"
      ],
      "text/plain": [
       "  manufacturer model  displ  year  cyl       trans drv  cty  hwy fl    class\n",
       "1         audi    a4    1.8  1999    4    auto(l5)   f   18   29  p  compact\n",
       "2         audi    a4    1.8  1999    4  manual(m5)   f   21   29  p  compact\n",
       "3         audi    a4    2.0  2008    4  manual(m6)   f   20   31  p  compact\n",
       "4         audi    a4    2.0  2008    4    auto(av)   f   21   30  p  compact\n",
       "5         audi    a4    2.8  1999    6    auto(l5)   f   16   26  p  compact"
      ]
     },
     "execution_count": 3,
     "metadata": {},
     "output_type": "execute_result"
    }
   ],
   "source": [
    "df.head()"
   ]
  },
  {
   "cell_type": "code",
   "execution_count": 16,
   "metadata": {},
   "outputs": [],
   "source": [
    "series = pd.Series([100, 43, 26, 17])"
   ]
  },
  {
   "cell_type": "code",
   "execution_count": 17,
   "metadata": {},
   "outputs": [
    {
     "data": {
      "text/plain": [
       "0    100\n",
       "1     43\n",
       "2     26\n",
       "3     17\n",
       "dtype: int64"
      ]
     },
     "execution_count": 17,
     "metadata": {},
     "output_type": "execute_result"
    }
   ],
   "source": [
    "series"
   ]
  },
  {
   "cell_type": "code",
   "execution_count": 19,
   "metadata": {},
   "outputs": [],
   "source": [
    "letters = pd.Series(np.random.choice(list('abcdefghijklmnopqrstuvwxyz'), 100))"
   ]
  },
  {
   "cell_type": "code",
   "execution_count": 20,
   "metadata": {},
   "outputs": [],
   "source": [
    "numbers = pd.Series(np.random.choice(np.arange(1, 101), 100))"
   ]
  },
  {
   "cell_type": "code",
   "execution_count": 23,
   "metadata": {},
   "outputs": [
    {
     "data": {
      "text/plain": [
       "RangeIndex(start=0, stop=100, step=1)"
      ]
     },
     "execution_count": 23,
     "metadata": {},
     "output_type": "execute_result"
    }
   ],
   "source": [
    "letters.index"
   ]
  },
  {
   "cell_type": "code",
   "execution_count": 24,
   "metadata": {},
   "outputs": [
    {
     "data": {
      "text/plain": [
       "array(['d', 'z', 'h', 'i', 'l', 'u', 'w', 'j', 'u', 'x', 'q', 'o', 'e',\n",
       "       'z', 'j', 'j', 'p', 'o', 'd', 't', 'i', 'd', 'z', 'n', 'v', 'v',\n",
       "       'q', 't', 'c', 'g', 'm', 'l', 'd', 'x', 't', 'n', 'h', 'n', 't',\n",
       "       'o', 'u', 'u', 'o', 'e', 'o', 'n', 'v', 'p', 'b', 'o', 'b', 'g',\n",
       "       'y', 'q', 'd', 'b', 't', 'j', 'l', 'o', 'q', 'w', 'b', 'f', 'j',\n",
       "       'c', 'y', 'i', 'c', 'g', 'l', 'u', 'j', 'l', 'x', 'g', 'n', 'p',\n",
       "       'k', 'o', 'u', 'r', 'b', 'n', 'e', 'e', 'w', 'h', 'y', 'h', 'k',\n",
       "       'q', 'p', 'u', 'u', 'y', 'x', 'i', 'k', 'a'], dtype=object)"
      ]
     },
     "execution_count": 24,
     "metadata": {},
     "output_type": "execute_result"
    }
   ],
   "source": [
    "letters.values"
   ]
  },
  {
   "cell_type": "code",
   "execution_count": 26,
   "metadata": {},
   "outputs": [
    {
     "data": {
      "text/plain": [
       "99    a\n",
       "dtype: object"
      ]
     },
     "execution_count": 26,
     "metadata": {},
     "output_type": "execute_result"
    }
   ],
   "source": [
    "letters[letters == 'a']"
   ]
  },
  {
   "cell_type": "code",
   "execution_count": 36,
   "metadata": {},
   "outputs": [
    {
     "data": {
      "text/plain": [
       "5     u\n",
       "8     u\n",
       "40    u\n",
       "41    u\n",
       "71    u\n",
       "80    u\n",
       "93    u\n",
       "94    u\n",
       "dtype: object"
      ]
     },
     "execution_count": 36,
     "metadata": {},
     "output_type": "execute_result"
    }
   ],
   "source": [
    " letters[letters == 'u']"
   ]
  },
  {
   "cell_type": "code",
   "execution_count": 32,
   "metadata": {
    "scrolled": true
   },
   "outputs": [
    {
     "data": {
      "text/plain": [
       "44     51\n",
       "46     52\n",
       "66     52\n",
       "93     53\n",
       "62     53\n",
       "71     55\n",
       "10     56\n",
       "78     59\n",
       "73     59\n",
       "27     60\n",
       "4      60\n",
       "19     64\n",
       "15     65\n",
       "3      66\n",
       "53     67\n",
       "87     67\n",
       "18     67\n",
       "49     68\n",
       "43     68\n",
       "22     68\n",
       "13     69\n",
       "81     69\n",
       "30     69\n",
       "84     72\n",
       "8      73\n",
       "33     74\n",
       "35     75\n",
       "24     78\n",
       "74     81\n",
       "75     83\n",
       "5      87\n",
       "12     87\n",
       "37     88\n",
       "23     88\n",
       "79     88\n",
       "21     88\n",
       "90     89\n",
       "25     89\n",
       "89     91\n",
       "98     94\n",
       "17     95\n",
       "61     95\n",
       "14     96\n",
       "99     97\n",
       "83    100\n",
       "dtype: int64"
      ]
     },
     "execution_count": 32,
     "metadata": {},
     "output_type": "execute_result"
    }
   ],
   "source": [
    "numbers[numbers > 50].sort_values()"
   ]
  },
  {
   "cell_type": "code",
   "execution_count": 34,
   "metadata": {},
   "outputs": [
    {
     "data": {
      "text/plain": [
       "45"
      ]
     },
     "execution_count": 34,
     "metadata": {},
     "output_type": "execute_result"
    }
   ],
   "source": [
    "numbers[numbers > 50].count()"
   ]
  },
  {
   "cell_type": "code",
   "execution_count": 37,
   "metadata": {},
   "outputs": [
    {
     "data": {
      "text/plain": [
       "4      60\n",
       "6      20\n",
       "9      35\n",
       "15     65\n",
       "16     25\n",
       "17     95\n",
       "27     60\n",
       "28     15\n",
       "29     15\n",
       "35     75\n",
       "39     40\n",
       "40     10\n",
       "52     25\n",
       "54     40\n",
       "61     95\n",
       "64     50\n",
       "71     55\n",
       "83    100\n",
       "88     20\n",
       "92     25\n",
       "dtype: int64"
      ]
     },
     "execution_count": 37,
     "metadata": {},
     "output_type": "execute_result"
    }
   ],
   "source": [
    "numbers[numbers % 5 == 0]"
   ]
  },
  {
   "cell_type": "code",
   "execution_count": 38,
   "metadata": {},
   "outputs": [
    {
     "data": {
      "text/plain": [
       "2     34\n",
       "11    24\n",
       "13    69\n",
       "19    64\n",
       "25    89\n",
       "30    69\n",
       "31    19\n",
       "32    24\n",
       "33    74\n",
       "41    44\n",
       "45    29\n",
       "47    49\n",
       "60    24\n",
       "63    19\n",
       "65    34\n",
       "73    59\n",
       "78    59\n",
       "81    69\n",
       "82     4\n",
       "90    89\n",
       "94    14\n",
       "95    44\n",
       "96    19\n",
       "98    94\n",
       "dtype: int64"
      ]
     },
     "execution_count": 38,
     "metadata": {},
     "output_type": "execute_result"
    }
   ],
   "source": [
    "numbers[~ numbers % 5 == 0]"
   ]
  },
  {
   "cell_type": "code",
   "execution_count": 44,
   "metadata": {},
   "outputs": [],
   "source": [
    "greater_than_50_filt = numbers > 50"
   ]
  },
  {
   "cell_type": "code",
   "execution_count": 45,
   "metadata": {},
   "outputs": [],
   "source": [
    "even_numbers_list = numbers % 2 == 0"
   ]
  },
  {
   "cell_type": "code",
   "execution_count": 46,
   "metadata": {},
   "outputs": [],
   "source": [
    "is_divisible_by_5 = numbers % 5 == 0"
   ]
  },
  {
   "cell_type": "code",
   "execution_count": 47,
   "metadata": {},
   "outputs": [
    {
     "data": {
      "text/plain": [
       "4      60\n",
       "27     60\n",
       "83    100\n",
       "dtype: int64"
      ]
     },
     "execution_count": 47,
     "metadata": {},
     "output_type": "execute_result"
    }
   ],
   "source": [
    "numbers[greater_than_50_filt & even_numbers_list & is_divisible_by_5]"
   ]
  },
  {
   "cell_type": "code",
   "execution_count": 48,
   "metadata": {},
   "outputs": [
    {
     "data": {
      "text/plain": [
       "6     20\n",
       "39    40\n",
       "40    10\n",
       "54    40\n",
       "64    50\n",
       "88    20\n",
       "dtype: int64"
      ]
     },
     "execution_count": 48,
     "metadata": {},
     "output_type": "execute_result"
    }
   ],
   "source": [
    "numbers[~ greater_than_50_filt & even_numbers_list & is_divisible_by_5]"
   ]
  },
  {
   "cell_type": "code",
   "execution_count": 53,
   "metadata": {},
   "outputs": [],
   "source": [
    "vowels = list('aeiou')"
   ]
  },
  {
   "cell_type": "code",
   "execution_count": 56,
   "metadata": {},
   "outputs": [
    {
     "data": {
      "text/plain": [
       "25"
      ]
     },
     "execution_count": 56,
     "metadata": {},
     "output_type": "execute_result"
    }
   ],
   "source": [
    "letters[letters.isin(vowels)].count()"
   ]
  },
  {
   "cell_type": "code",
   "execution_count": 57,
   "metadata": {},
   "outputs": [
    {
     "data": {
      "text/plain": [
       "(25,)"
      ]
     },
     "execution_count": 57,
     "metadata": {},
     "output_type": "execute_result"
    }
   ],
   "source": [
    "letters[letters.isin(vowels)].shape"
   ]
  },
  {
   "cell_type": "code",
   "execution_count": 58,
   "metadata": {},
   "outputs": [
    {
     "data": {
      "text/plain": [
       "25"
      ]
     },
     "execution_count": 58,
     "metadata": {},
     "output_type": "execute_result"
    }
   ],
   "source": [
    "letters[letters.isin(vowels)].size"
   ]
  },
  {
   "cell_type": "code",
   "execution_count": 63,
   "metadata": {},
   "outputs": [],
   "source": [
    "letter_values = letters[letters.isin(vowels)].value_counts()"
   ]
  },
  {
   "cell_type": "code",
   "execution_count": 64,
   "metadata": {},
   "outputs": [],
   "source": [
    "letter_percents = letters[letters.isin(vowels)].value_counts(normalize=True)"
   ]
  },
  {
   "cell_type": "code",
   "execution_count": 69,
   "metadata": {},
   "outputs": [],
   "source": [
    "letter_info = letter_values.to_frame(name = 'count').join(letter_percents.to_frame(name='frequency')) "
   ]
  },
  {
   "cell_type": "code",
   "execution_count": 70,
   "metadata": {},
   "outputs": [
    {
     "data": {
      "text/plain": [
       "pandas.core.frame.DataFrame"
      ]
     },
     "execution_count": 70,
     "metadata": {},
     "output_type": "execute_result"
    }
   ],
   "source": [
    "type(letter_info)"
   ]
  },
  {
   "cell_type": "code",
   "execution_count": 71,
   "metadata": {},
   "outputs": [
    {
     "data": {
      "text/html": [
       "<div>\n",
       "<style scoped>\n",
       "    .dataframe tbody tr th:only-of-type {\n",
       "        vertical-align: middle;\n",
       "    }\n",
       "\n",
       "    .dataframe tbody tr th {\n",
       "        vertical-align: top;\n",
       "    }\n",
       "\n",
       "    .dataframe thead th {\n",
       "        text-align: right;\n",
       "    }\n",
       "</style>\n",
       "<table border=\"1\" class=\"dataframe\">\n",
       "  <thead>\n",
       "    <tr style=\"text-align: right;\">\n",
       "      <th></th>\n",
       "      <th>count</th>\n",
       "      <th>frequency</th>\n",
       "    </tr>\n",
       "  </thead>\n",
       "  <tbody>\n",
       "    <tr>\n",
       "      <td>u</td>\n",
       "      <td>8</td>\n",
       "      <td>0.32</td>\n",
       "    </tr>\n",
       "    <tr>\n",
       "      <td>o</td>\n",
       "      <td>8</td>\n",
       "      <td>0.32</td>\n",
       "    </tr>\n",
       "    <tr>\n",
       "      <td>i</td>\n",
       "      <td>4</td>\n",
       "      <td>0.16</td>\n",
       "    </tr>\n",
       "    <tr>\n",
       "      <td>e</td>\n",
       "      <td>4</td>\n",
       "      <td>0.16</td>\n",
       "    </tr>\n",
       "    <tr>\n",
       "      <td>a</td>\n",
       "      <td>1</td>\n",
       "      <td>0.04</td>\n",
       "    </tr>\n",
       "  </tbody>\n",
       "</table>\n",
       "</div>"
      ],
      "text/plain": [
       "   count  frequency\n",
       "u      8       0.32\n",
       "o      8       0.32\n",
       "i      4       0.16\n",
       "e      4       0.16\n",
       "a      1       0.04"
      ]
     },
     "execution_count": 71,
     "metadata": {},
     "output_type": "execute_result"
    }
   ],
   "source": [
    "letter_info"
   ]
  },
  {
   "cell_type": "code",
   "execution_count": 72,
   "metadata": {},
   "outputs": [
    {
     "data": {
      "text/html": [
       "<div>\n",
       "<style scoped>\n",
       "    .dataframe tbody tr th:only-of-type {\n",
       "        vertical-align: middle;\n",
       "    }\n",
       "\n",
       "    .dataframe tbody tr th {\n",
       "        vertical-align: top;\n",
       "    }\n",
       "\n",
       "    .dataframe thead th {\n",
       "        text-align: right;\n",
       "    }\n",
       "</style>\n",
       "<table border=\"1\" class=\"dataframe\">\n",
       "  <thead>\n",
       "    <tr style=\"text-align: right;\">\n",
       "      <th></th>\n",
       "      <th>count</th>\n",
       "      <th>frequency</th>\n",
       "    </tr>\n",
       "  </thead>\n",
       "  <tbody>\n",
       "    <tr>\n",
       "      <td>u</td>\n",
       "      <td>8</td>\n",
       "      <td>0.32</td>\n",
       "    </tr>\n",
       "    <tr>\n",
       "      <td>o</td>\n",
       "      <td>8</td>\n",
       "      <td>0.32</td>\n",
       "    </tr>\n",
       "    <tr>\n",
       "      <td>i</td>\n",
       "      <td>4</td>\n",
       "      <td>0.16</td>\n",
       "    </tr>\n",
       "    <tr>\n",
       "      <td>e</td>\n",
       "      <td>4</td>\n",
       "      <td>0.16</td>\n",
       "    </tr>\n",
       "    <tr>\n",
       "      <td>a</td>\n",
       "      <td>1</td>\n",
       "      <td>0.04</td>\n",
       "    </tr>\n",
       "  </tbody>\n",
       "</table>\n",
       "</div>"
      ],
      "text/plain": [
       "   count  frequency\n",
       "u      8       0.32\n",
       "o      8       0.32\n",
       "i      4       0.16\n",
       "e      4       0.16\n",
       "a      1       0.04"
      ]
     },
     "execution_count": 72,
     "metadata": {},
     "output_type": "execute_result"
    }
   ],
   "source": [
    "pd.DataFrame({'count': letter_values,'frequency':letter_percents})"
   ]
  },
  {
   "cell_type": "code",
   "execution_count": 74,
   "metadata": {},
   "outputs": [],
   "source": [
    "num_summary = numbers.describe()"
   ]
  },
  {
   "cell_type": "code",
   "execution_count": 76,
   "metadata": {},
   "outputs": [
    {
     "data": {
      "text/plain": [
       "44.25"
      ]
     },
     "execution_count": 76,
     "metadata": {},
     "output_type": "execute_result"
    }
   ],
   "source": [
    "iqr = num_summary['75%'] - num_summary['25%']\n",
    "iqr"
   ]
  },
  {
   "cell_type": "markdown",
   "metadata": {},
   "source": [
    "## Functions"
   ]
  },
  {
   "cell_type": "code",
   "execution_count": 77,
   "metadata": {},
   "outputs": [],
   "source": [
    "def is_divisible_by_4(n):\n",
    "    if n % 4 == 0:\n",
    "        return 'Evenly divisible by 4!'\n",
    "    else:\n",
    "        return 'Not evenly divisible by 4 :('"
   ]
  },
  {
   "cell_type": "code",
   "execution_count": 78,
   "metadata": {},
   "outputs": [
    {
     "data": {
      "text/plain": [
       "'Evenly divisible by 4!'"
      ]
     },
     "execution_count": 78,
     "metadata": {},
     "output_type": "execute_result"
    }
   ],
   "source": [
    "is_divisible_by_4(4)"
   ]
  },
  {
   "cell_type": "code",
   "execution_count": 80,
   "metadata": {
    "scrolled": true
   },
   "outputs": [
    {
     "data": {
      "text/plain": [
       "0     Not evenly divisible by 4 :(\n",
       "1           Evenly divisible by 4!\n",
       "2     Not evenly divisible by 4 :(\n",
       "3     Not evenly divisible by 4 :(\n",
       "4           Evenly divisible by 4!\n",
       "5     Not evenly divisible by 4 :(\n",
       "6           Evenly divisible by 4!\n",
       "7     Not evenly divisible by 4 :(\n",
       "8     Not evenly divisible by 4 :(\n",
       "9     Not evenly divisible by 4 :(\n",
       "10          Evenly divisible by 4!\n",
       "11          Evenly divisible by 4!\n",
       "12    Not evenly divisible by 4 :(\n",
       "13    Not evenly divisible by 4 :(\n",
       "14          Evenly divisible by 4!\n",
       "15    Not evenly divisible by 4 :(\n",
       "16    Not evenly divisible by 4 :(\n",
       "17    Not evenly divisible by 4 :(\n",
       "18    Not evenly divisible by 4 :(\n",
       "19          Evenly divisible by 4!\n",
       "20    Not evenly divisible by 4 :(\n",
       "21          Evenly divisible by 4!\n",
       "22          Evenly divisible by 4!\n",
       "23          Evenly divisible by 4!\n",
       "24    Not evenly divisible by 4 :(\n",
       "25    Not evenly divisible by 4 :(\n",
       "26          Evenly divisible by 4!\n",
       "27          Evenly divisible by 4!\n",
       "28    Not evenly divisible by 4 :(\n",
       "29    Not evenly divisible by 4 :(\n",
       "30    Not evenly divisible by 4 :(\n",
       "31    Not evenly divisible by 4 :(\n",
       "32          Evenly divisible by 4!\n",
       "33    Not evenly divisible by 4 :(\n",
       "34    Not evenly divisible by 4 :(\n",
       "35    Not evenly divisible by 4 :(\n",
       "36    Not evenly divisible by 4 :(\n",
       "37          Evenly divisible by 4!\n",
       "38    Not evenly divisible by 4 :(\n",
       "39          Evenly divisible by 4!\n",
       "40    Not evenly divisible by 4 :(\n",
       "41          Evenly divisible by 4!\n",
       "42          Evenly divisible by 4!\n",
       "43          Evenly divisible by 4!\n",
       "44    Not evenly divisible by 4 :(\n",
       "45    Not evenly divisible by 4 :(\n",
       "46          Evenly divisible by 4!\n",
       "47    Not evenly divisible by 4 :(\n",
       "48    Not evenly divisible by 4 :(\n",
       "49          Evenly divisible by 4!\n",
       "50    Not evenly divisible by 4 :(\n",
       "51    Not evenly divisible by 4 :(\n",
       "52    Not evenly divisible by 4 :(\n",
       "53    Not evenly divisible by 4 :(\n",
       "54          Evenly divisible by 4!\n",
       "55    Not evenly divisible by 4 :(\n",
       "56    Not evenly divisible by 4 :(\n",
       "57    Not evenly divisible by 4 :(\n",
       "58    Not evenly divisible by 4 :(\n",
       "59    Not evenly divisible by 4 :(\n",
       "60          Evenly divisible by 4!\n",
       "61    Not evenly divisible by 4 :(\n",
       "62    Not evenly divisible by 4 :(\n",
       "63    Not evenly divisible by 4 :(\n",
       "64    Not evenly divisible by 4 :(\n",
       "65    Not evenly divisible by 4 :(\n",
       "66          Evenly divisible by 4!\n",
       "67          Evenly divisible by 4!\n",
       "68    Not evenly divisible by 4 :(\n",
       "69          Evenly divisible by 4!\n",
       "70          Evenly divisible by 4!\n",
       "71    Not evenly divisible by 4 :(\n",
       "72          Evenly divisible by 4!\n",
       "73    Not evenly divisible by 4 :(\n",
       "74    Not evenly divisible by 4 :(\n",
       "75    Not evenly divisible by 4 :(\n",
       "76    Not evenly divisible by 4 :(\n",
       "77    Not evenly divisible by 4 :(\n",
       "78    Not evenly divisible by 4 :(\n",
       "79          Evenly divisible by 4!\n",
       "80          Evenly divisible by 4!\n",
       "81    Not evenly divisible by 4 :(\n",
       "82          Evenly divisible by 4!\n",
       "83          Evenly divisible by 4!\n",
       "84          Evenly divisible by 4!\n",
       "85          Evenly divisible by 4!\n",
       "86    Not evenly divisible by 4 :(\n",
       "87    Not evenly divisible by 4 :(\n",
       "88          Evenly divisible by 4!\n",
       "89    Not evenly divisible by 4 :(\n",
       "90    Not evenly divisible by 4 :(\n",
       "91    Not evenly divisible by 4 :(\n",
       "92    Not evenly divisible by 4 :(\n",
       "93    Not evenly divisible by 4 :(\n",
       "94    Not evenly divisible by 4 :(\n",
       "95          Evenly divisible by 4!\n",
       "96    Not evenly divisible by 4 :(\n",
       "97    Not evenly divisible by 4 :(\n",
       "98    Not evenly divisible by 4 :(\n",
       "99    Not evenly divisible by 4 :(\n",
       "dtype: object"
      ]
     },
     "execution_count": 80,
     "metadata": {},
     "output_type": "execute_result"
    }
   ],
   "source": [
    "numbers.apply(is_divisible_by_4)"
   ]
  },
  {
   "cell_type": "code",
   "execution_count": 96,
   "metadata": {
    "scrolled": true
   },
   "outputs": [
    {
     "data": {
      "text/plain": [
       "<bound method IndexOpsMixin.value_counts of 0       6\n",
       "1       8\n",
       "2      34\n",
       "3      66\n",
       "4      60\n",
       "5      87\n",
       "6      20\n",
       "7      38\n",
       "8      73\n",
       "9      35\n",
       "10     56\n",
       "11     24\n",
       "12     87\n",
       "13     69\n",
       "14     96\n",
       "15     65\n",
       "16     25\n",
       "17     95\n",
       "18     67\n",
       "19     64\n",
       "20     11\n",
       "21     88\n",
       "22     68\n",
       "23     88\n",
       "24     78\n",
       "25     89\n",
       "26     28\n",
       "27     60\n",
       "28     15\n",
       "29     15\n",
       "30     69\n",
       "31     19\n",
       "32     24\n",
       "33     74\n",
       "34     23\n",
       "35     75\n",
       "36     31\n",
       "37     88\n",
       "38     27\n",
       "39     40\n",
       "40     10\n",
       "41     44\n",
       "42     28\n",
       "43     68\n",
       "44     51\n",
       "45     29\n",
       "46     52\n",
       "47     49\n",
       "48     13\n",
       "49     68\n",
       "50     38\n",
       "51     11\n",
       "52     25\n",
       "53     67\n",
       "54     40\n",
       "55     13\n",
       "56     23\n",
       "57     18\n",
       "58     26\n",
       "59     42\n",
       "60     24\n",
       "61     95\n",
       "62     53\n",
       "63     19\n",
       "64     50\n",
       "65     34\n",
       "66     52\n",
       "67     16\n",
       "68     47\n",
       "69     12\n",
       "70     32\n",
       "71     55\n",
       "72     32\n",
       "73     59\n",
       "74     81\n",
       "75     83\n",
       "76     17\n",
       "77     21\n",
       "78     59\n",
       "79     88\n",
       "80     28\n",
       "81     69\n",
       "82      4\n",
       "83    100\n",
       "84     72\n",
       "85     28\n",
       "86     31\n",
       "87     67\n",
       "88     20\n",
       "89     91\n",
       "90     89\n",
       "91     42\n",
       "92     25\n",
       "93     53\n",
       "94     14\n",
       "95     44\n",
       "96     19\n",
       "97     27\n",
       "98     94\n",
       "99     97\n",
       "dtype: int64>"
      ]
     },
     "execution_count": 96,
     "metadata": {},
     "output_type": "execute_result"
    }
   ],
   "source": [
    "numbers.value_counts"
   ]
  },
  {
   "cell_type": "code",
   "execution_count": 101,
   "metadata": {},
   "outputs": [],
   "source": [
    "def bin_numbers(n):\n",
    "    if n < 25:\n",
    "        return '[0, 25)'\n",
    "    elif n < 50:\n",
    "        return '[25, 50)'\n",
    "    elif n < 75:\n",
    "        return '[50, 75)'\n",
    "    else:\n",
    "        return '[75, 100]'"
   ]
  },
  {
   "cell_type": "code",
   "execution_count": 102,
   "metadata": {},
   "outputs": [
    {
     "data": {
      "text/plain": [
       "'[25, 50)'"
      ]
     },
     "execution_count": 102,
     "metadata": {},
     "output_type": "execute_result"
    }
   ],
   "source": [
    "bin_numbers(40)"
   ]
  },
  {
   "cell_type": "code",
   "execution_count": 103,
   "metadata": {
    "scrolled": true
   },
   "outputs": [
    {
     "data": {
      "text/plain": [
       "0       [0, 25)\n",
       "1       [0, 25)\n",
       "2      [25, 50)\n",
       "3      [50, 75)\n",
       "4      [50, 75)\n",
       "5     [75, 100]\n",
       "6       [0, 25)\n",
       "7      [25, 50)\n",
       "8      [50, 75)\n",
       "9      [25, 50)\n",
       "10     [50, 75)\n",
       "11      [0, 25)\n",
       "12    [75, 100]\n",
       "13     [50, 75)\n",
       "14    [75, 100]\n",
       "15     [50, 75)\n",
       "16     [25, 50)\n",
       "17    [75, 100]\n",
       "18     [50, 75)\n",
       "19     [50, 75)\n",
       "20      [0, 25)\n",
       "21    [75, 100]\n",
       "22     [50, 75)\n",
       "23    [75, 100]\n",
       "24    [75, 100]\n",
       "25    [75, 100]\n",
       "26     [25, 50)\n",
       "27     [50, 75)\n",
       "28      [0, 25)\n",
       "29      [0, 25)\n",
       "30     [50, 75)\n",
       "31      [0, 25)\n",
       "32      [0, 25)\n",
       "33     [50, 75)\n",
       "34      [0, 25)\n",
       "35    [75, 100]\n",
       "36     [25, 50)\n",
       "37    [75, 100]\n",
       "38     [25, 50)\n",
       "39     [25, 50)\n",
       "40      [0, 25)\n",
       "41     [25, 50)\n",
       "42     [25, 50)\n",
       "43     [50, 75)\n",
       "44     [50, 75)\n",
       "45     [25, 50)\n",
       "46     [50, 75)\n",
       "47     [25, 50)\n",
       "48      [0, 25)\n",
       "49     [50, 75)\n",
       "50     [25, 50)\n",
       "51      [0, 25)\n",
       "52     [25, 50)\n",
       "53     [50, 75)\n",
       "54     [25, 50)\n",
       "55      [0, 25)\n",
       "56      [0, 25)\n",
       "57      [0, 25)\n",
       "58     [25, 50)\n",
       "59     [25, 50)\n",
       "60      [0, 25)\n",
       "61    [75, 100]\n",
       "62     [50, 75)\n",
       "63      [0, 25)\n",
       "64     [50, 75)\n",
       "65     [25, 50)\n",
       "66     [50, 75)\n",
       "67      [0, 25)\n",
       "68     [25, 50)\n",
       "69      [0, 25)\n",
       "70     [25, 50)\n",
       "71     [50, 75)\n",
       "72     [25, 50)\n",
       "73     [50, 75)\n",
       "74    [75, 100]\n",
       "75    [75, 100]\n",
       "76      [0, 25)\n",
       "77      [0, 25)\n",
       "78     [50, 75)\n",
       "79    [75, 100]\n",
       "80     [25, 50)\n",
       "81     [50, 75)\n",
       "82      [0, 25)\n",
       "83    [75, 100]\n",
       "84     [50, 75)\n",
       "85     [25, 50)\n",
       "86     [25, 50)\n",
       "87     [50, 75)\n",
       "88      [0, 25)\n",
       "89    [75, 100]\n",
       "90    [75, 100]\n",
       "91     [25, 50)\n",
       "92     [25, 50)\n",
       "93     [50, 75)\n",
       "94      [0, 25)\n",
       "95     [25, 50)\n",
       "96      [0, 25)\n",
       "97     [25, 50)\n",
       "98    [75, 100]\n",
       "99    [75, 100]\n",
       "dtype: object"
      ]
     },
     "execution_count": 103,
     "metadata": {},
     "output_type": "execute_result"
    }
   ],
   "source": [
    "numbers.apply(bin_numbers)"
   ]
  },
  {
   "cell_type": "code",
   "execution_count": 107,
   "metadata": {},
   "outputs": [
    {
     "data": {
      "text/plain": [
       "[0, 25)      26\n",
       "[25, 50)     28\n",
       "[50, 75)     27\n",
       "[75, 100]    19\n",
       "dtype: int64"
      ]
     },
     "execution_count": 107,
     "metadata": {},
     "output_type": "execute_result"
    }
   ],
   "source": [
    "numbers.apply(bin_numbers).value_counts().sort_index()"
   ]
  },
  {
   "cell_type": "code",
   "execution_count": 106,
   "metadata": {},
   "outputs": [
    {
     "data": {
      "text/plain": [
       "pandas.core.series.Series"
      ]
     },
     "execution_count": 106,
     "metadata": {},
     "output_type": "execute_result"
    }
   ],
   "source": [
    "type(numbers.apply(bin_numbers).value_counts())"
   ]
  },
  {
   "cell_type": "code",
   "execution_count": null,
   "metadata": {},
   "outputs": [],
   "source": []
  },
  {
   "cell_type": "markdown",
   "metadata": {},
   "source": [
    "## Binning Data - turns numeric into categorical variable"
   ]
  },
  {
   "cell_type": "code",
   "execution_count": 105,
   "metadata": {},
   "outputs": [
    {
     "data": {
      "text/plain": [
       "(3.903, 28.0]    36\n",
       "(52.0, 76.0]     24\n",
       "(28.0, 52.0]     22\n",
       "(76.0, 100.0]    18\n",
       "dtype: int64"
      ]
     },
     "execution_count": 105,
     "metadata": {},
     "output_type": "execute_result"
    }
   ],
   "source": [
    "numbers.value_counts(bins=4)"
   ]
  },
  {
   "cell_type": "code",
   "execution_count": 131,
   "metadata": {},
   "outputs": [
    {
     "data": {
      "image/png": "[encoded data removed]",
      "text/plain": [
       "<Figure size 432x288 with 1 Axes>"
      ]
     },
     "metadata": {
      "needs_background": "light"
     },
     "output_type": "display_data"
    }
   ],
   "source": [
    "pd.cut(numbers, 4, labels=['very small', 'small', 'large', 'very large']).value_counts().sort_index().plot(kind='bar')\n",
    "plt.show()"
   ]
  },
  {
   "cell_type": "code",
   "execution_count": 116,
   "metadata": {},
   "outputs": [
    {
     "data": {
      "text/plain": [
       "(3.904, 16.0]    13\n",
       "(16.0, 28.0]     23\n",
       "(28.0, 40.0]     12\n",
       "(40.0, 52.0]     10\n",
       "(52.0, 64.0]      9\n",
       "(64.0, 76.0]     15\n",
       "(76.0, 88.0]      9\n",
       "(88.0, 100.0]     9\n",
       "dtype: int64"
      ]
     },
     "execution_count": 116,
     "metadata": {},
     "output_type": "execute_result"
    }
   ],
   "source": [
    "#  pd.cut() creates equal sized bins, but values not distributed equally\n",
    "\n",
    "pd.cut(numbers, 8).value_counts().sort_index()"
   ]
  },
  {
   "cell_type": "code",
   "execution_count": 117,
   "metadata": {},
   "outputs": [
    {
     "data": {
      "text/plain": [
       "(3.999, 16.375]    13\n",
       "(16.375, 24.0]     13\n",
       "(24.0, 31.0]       13\n",
       "(31.0, 43.0]       11\n",
       "(43.0, 58.625]     12\n",
       "(58.625, 68.25]    13\n",
       "(68.25, 87.625]    12\n",
       "(87.625, 100.0]    13\n",
       "dtype: int64"
      ]
     },
     "execution_count": 117,
     "metadata": {},
     "output_type": "execute_result"
    }
   ],
   "source": [
    "#  pd.qcut() distributes values equally throughout the bins\n",
    "\n",
    "pd.qcut(numbers, 8).value_counts().sort_index()"
   ]
  },
  {
   "cell_type": "markdown",
   "metadata": {},
   "source": [
    "## String Manipulations"
   ]
  },
  {
   "cell_type": "code",
   "execution_count": 121,
   "metadata": {
    "scrolled": true
   },
   "outputs": [
    {
     "data": {
      "text/plain": [
       "0     Not \n",
       "1     Even\n",
       "2     Not \n",
       "3     Not \n",
       "4     Even\n",
       "5     Not \n",
       "6     Even\n",
       "7     Not \n",
       "8     Not \n",
       "9     Not \n",
       "10    Even\n",
       "11    Even\n",
       "12    Not \n",
       "13    Not \n",
       "14    Even\n",
       "15    Not \n",
       "16    Not \n",
       "17    Not \n",
       "18    Not \n",
       "19    Even\n",
       "20    Not \n",
       "21    Even\n",
       "22    Even\n",
       "23    Even\n",
       "24    Not \n",
       "25    Not \n",
       "26    Even\n",
       "27    Even\n",
       "28    Not \n",
       "29    Not \n",
       "30    Not \n",
       "31    Not \n",
       "32    Even\n",
       "33    Not \n",
       "34    Not \n",
       "35    Not \n",
       "36    Not \n",
       "37    Even\n",
       "38    Not \n",
       "39    Even\n",
       "40    Not \n",
       "41    Even\n",
       "42    Even\n",
       "43    Even\n",
       "44    Not \n",
       "45    Not \n",
       "46    Even\n",
       "47    Not \n",
       "48    Not \n",
       "49    Even\n",
       "50    Not \n",
       "51    Not \n",
       "52    Not \n",
       "53    Not \n",
       "54    Even\n",
       "55    Not \n",
       "56    Not \n",
       "57    Not \n",
       "58    Not \n",
       "59    Not \n",
       "60    Even\n",
       "61    Not \n",
       "62    Not \n",
       "63    Not \n",
       "64    Not \n",
       "65    Not \n",
       "66    Even\n",
       "67    Even\n",
       "68    Not \n",
       "69    Even\n",
       "70    Even\n",
       "71    Not \n",
       "72    Even\n",
       "73    Not \n",
       "74    Not \n",
       "75    Not \n",
       "76    Not \n",
       "77    Not \n",
       "78    Not \n",
       "79    Even\n",
       "80    Even\n",
       "81    Not \n",
       "82    Even\n",
       "83    Even\n",
       "84    Even\n",
       "85    Even\n",
       "86    Not \n",
       "87    Not \n",
       "88    Even\n",
       "89    Not \n",
       "90    Not \n",
       "91    Not \n",
       "92    Not \n",
       "93    Not \n",
       "94    Not \n",
       "95    Even\n",
       "96    Not \n",
       "97    Not \n",
       "98    Not \n",
       "99    Not \n",
       "dtype: object"
      ]
     },
     "execution_count": 121,
     "metadata": {},
     "output_type": "execute_result"
    }
   ],
   "source": [
    "numbers.apply(is_divisible_by_4).str[:4]"
   ]
  },
  {
   "cell_type": "code",
   "execution_count": 122,
   "metadata": {
    "scrolled": true
   },
   "outputs": [
    {
     "data": {
      "text/plain": [
       "0     not evenly divisible by 4 :(\n",
       "1           evenly divisible by 4!\n",
       "2     not evenly divisible by 4 :(\n",
       "3     not evenly divisible by 4 :(\n",
       "4           evenly divisible by 4!\n",
       "5     not evenly divisible by 4 :(\n",
       "6           evenly divisible by 4!\n",
       "7     not evenly divisible by 4 :(\n",
       "8     not evenly divisible by 4 :(\n",
       "9     not evenly divisible by 4 :(\n",
       "10          evenly divisible by 4!\n",
       "11          evenly divisible by 4!\n",
       "12    not evenly divisible by 4 :(\n",
       "13    not evenly divisible by 4 :(\n",
       "14          evenly divisible by 4!\n",
       "15    not evenly divisible by 4 :(\n",
       "16    not evenly divisible by 4 :(\n",
       "17    not evenly divisible by 4 :(\n",
       "18    not evenly divisible by 4 :(\n",
       "19          evenly divisible by 4!\n",
       "20    not evenly divisible by 4 :(\n",
       "21          evenly divisible by 4!\n",
       "22          evenly divisible by 4!\n",
       "23          evenly divisible by 4!\n",
       "24    not evenly divisible by 4 :(\n",
       "25    not evenly divisible by 4 :(\n",
       "26          evenly divisible by 4!\n",
       "27          evenly divisible by 4!\n",
       "28    not evenly divisible by 4 :(\n",
       "29    not evenly divisible by 4 :(\n",
       "30    not evenly divisible by 4 :(\n",
       "31    not evenly divisible by 4 :(\n",
       "32          evenly divisible by 4!\n",
       "33    not evenly divisible by 4 :(\n",
       "34    not evenly divisible by 4 :(\n",
       "35    not evenly divisible by 4 :(\n",
       "36    not evenly divisible by 4 :(\n",
       "37          evenly divisible by 4!\n",
       "38    not evenly divisible by 4 :(\n",
       "39          evenly divisible by 4!\n",
       "40    not evenly divisible by 4 :(\n",
       "41          evenly divisible by 4!\n",
       "42          evenly divisible by 4!\n",
       "43          evenly divisible by 4!\n",
       "44    not evenly divisible by 4 :(\n",
       "45    not evenly divisible by 4 :(\n",
       "46          evenly divisible by 4!\n",
       "47    not evenly divisible by 4 :(\n",
       "48    not evenly divisible by 4 :(\n",
       "49          evenly divisible by 4!\n",
       "50    not evenly divisible by 4 :(\n",
       "51    not evenly divisible by 4 :(\n",
       "52    not evenly divisible by 4 :(\n",
       "53    not evenly divisible by 4 :(\n",
       "54          evenly divisible by 4!\n",
       "55    not evenly divisible by 4 :(\n",
       "56    not evenly divisible by 4 :(\n",
       "57    not evenly divisible by 4 :(\n",
       "58    not evenly divisible by 4 :(\n",
       "59    not evenly divisible by 4 :(\n",
       "60          evenly divisible by 4!\n",
       "61    not evenly divisible by 4 :(\n",
       "62    not evenly divisible by 4 :(\n",
       "63    not evenly divisible by 4 :(\n",
       "64    not evenly divisible by 4 :(\n",
       "65    not evenly divisible by 4 :(\n",
       "66          evenly divisible by 4!\n",
       "67          evenly divisible by 4!\n",
       "68    not evenly divisible by 4 :(\n",
       "69          evenly divisible by 4!\n",
       "70          evenly divisible by 4!\n",
       "71    not evenly divisible by 4 :(\n",
       "72          evenly divisible by 4!\n",
       "73    not evenly divisible by 4 :(\n",
       "74    not evenly divisible by 4 :(\n",
       "75    not evenly divisible by 4 :(\n",
       "76    not evenly divisible by 4 :(\n",
       "77    not evenly divisible by 4 :(\n",
       "78    not evenly divisible by 4 :(\n",
       "79          evenly divisible by 4!\n",
       "80          evenly divisible by 4!\n",
       "81    not evenly divisible by 4 :(\n",
       "82          evenly divisible by 4!\n",
       "83          evenly divisible by 4!\n",
       "84          evenly divisible by 4!\n",
       "85          evenly divisible by 4!\n",
       "86    not evenly divisible by 4 :(\n",
       "87    not evenly divisible by 4 :(\n",
       "88          evenly divisible by 4!\n",
       "89    not evenly divisible by 4 :(\n",
       "90    not evenly divisible by 4 :(\n",
       "91    not evenly divisible by 4 :(\n",
       "92    not evenly divisible by 4 :(\n",
       "93    not evenly divisible by 4 :(\n",
       "94    not evenly divisible by 4 :(\n",
       "95          evenly divisible by 4!\n",
       "96    not evenly divisible by 4 :(\n",
       "97    not evenly divisible by 4 :(\n",
       "98    not evenly divisible by 4 :(\n",
       "99    not evenly divisible by 4 :(\n",
       "dtype: object"
      ]
     },
     "execution_count": 122,
     "metadata": {},
     "output_type": "execute_result"
    }
   ],
   "source": [
    "numbers.apply(is_divisible_by_4).str.lower()"
   ]
  },
  {
   "cell_type": "markdown",
   "metadata": {},
   "source": [
    "## Plotting\n",
    "\n",
    "- gives each number by index using .plot()\n",
    "\n",
    "- you can use this quick plotting method on Series only"
   ]
  },
  {
   "cell_type": "code",
   "execution_count": 137,
   "metadata": {},
   "outputs": [
    {
     "data": {
      "image/png": "[encoded data removed]",
      "text/plain": [
       "<Figure size 432x288 with 1 Axes>"
      ]
     },
     "metadata": {
      "needs_background": "light"
     },
     "output_type": "display_data"
    }
   ],
   "source": [
    "numbers.plot()\n",
    "plt.title('Number by Index')\n",
    "\n",
    "plt.show()"
   ]
  },
  {
   "cell_type": "code",
   "execution_count": 129,
   "metadata": {},
   "outputs": [
    {
     "data": {
      "image/png": "[encoded data removed]",
      "text/plain": [
       "<Figure size 432x288 with 1 Axes>"
      ]
     },
     "metadata": {
      "needs_background": "light"
     },
     "output_type": "display_data"
    }
   ],
   "source": [
    "numbers.plot.hist()\n",
    "plt.title('Distribution of Numbers')\n",
    "\n",
    "plt.show()"
   ]
  },
  {
   "cell_type": "code",
   "execution_count": 138,
   "metadata": {},
   "outputs": [
    {
     "data": {
      "image/png": "[encoded data removed]",
      "text/plain": [
       "<Figure size 432x288 with 1 Axes>"
      ]
     },
     "metadata": {
      "needs_background": "light"
     },
     "output_type": "display_data"
    }
   ],
   "source": [
    "letters[letters.isin(vowels)].value_counts().plot(kind='bar')\n",
    "plt.xticks(rotation=0)\n",
    "plt.title('Frequency of Vowels')\n",
    "\n",
    "plt.show()"
   ]
  },
  {
   "cell_type": "code",
   "execution_count": null,
   "metadata": {},
   "outputs": [],
   "source": []
  }
 ],
 "metadata": {
  "kernelspec": {
   "display_name": "Python 3",
   "language": "python",
   "name": "python3"
  },
  "language_info": {
   "codemirror_mode": {
    "name": "ipython",
    "version": 3
   },
   "file_extension": ".py",
   "mimetype": "text/x-python",
   "name": "python",
   "nbconvert_exporter": "python",
   "pygments_lexer": "ipython3",
   "version": "3.7.4"
  },
  "toc": {
   "base_numbering": 1,
   "nav_menu": {},
   "number_sections": true,
   "sideBar": true,
   "skip_h1_title": true,
   "title_cell": "Table of Contents",
   "title_sidebar": "Contents",
   "toc_cell": false,
   "toc_position": {},
   "toc_section_display": true,
   "toc_window_display": false
  }
 },
 "nbformat": 4,
 "nbformat_minor": 2
}
