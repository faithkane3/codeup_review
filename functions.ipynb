{
 "cells": [
  {
   "cell_type": "markdown",
   "metadata": {},
   "source": [
    "\n",
    "1. Define a function named is_two. It should accept one input and return True if the passed input is either the number or the string 2, False otherwise.\n"
   ]
  },
  {
   "cell_type": "code",
   "execution_count": 2,
   "metadata": {},
   "outputs": [],
   "source": [
    "def is_two(x):\n",
    "    return x == 2 or x == '2'"
   ]
  },
  {
   "cell_type": "code",
   "execution_count": 122,
   "metadata": {},
   "outputs": [],
   "source": [
    "assert is_two('3') == False\n",
    "assert is_two('two') == False\n",
    "assert is_two(2) == True\n",
    "assert is_two('2') == True"
   ]
  },
  {
   "cell_type": "markdown",
   "metadata": {},
   "source": [
    "2. Define a function named is_vowel. It should return True if the passed string is a vowel, False otherwise.\n"
   ]
  },
  {
   "cell_type": "code",
   "execution_count": 197,
   "metadata": {},
   "outputs": [],
   "source": [
    "def is_vowel(c):\n",
    "    return len(c) == 1 and c.lower() in 'aeiou'"
   ]
  },
  {
   "cell_type": "code",
   "execution_count": 198,
   "metadata": {},
   "outputs": [],
   "source": [
    "assert is_vowel('b') == False\n",
    "assert is_vowel('B') == False\n",
    "assert is_vowel('a') == True\n",
    "assert is_vowel('A') == True\n",
    "assert is_vowel('ae') == False"
   ]
  },
  {
   "cell_type": "markdown",
   "metadata": {},
   "source": [
    "3. Define a function named is_consonant. It should return True if the passed string is a consonant, False otherwise. Use your is_vowel function to accomplish this."
   ]
  },
  {
   "cell_type": "code",
   "execution_count": 199,
   "metadata": {},
   "outputs": [],
   "source": [
    "def is_consonant(c):\n",
    "    while len(c) == 1 and c.lower() in 'abcdefghijklmnopqrstuvwxyz':\n",
    "        return not is_vowel(c)"
   ]
  },
  {
   "cell_type": "code",
   "execution_count": 200,
   "metadata": {},
   "outputs": [],
   "source": [
    "assert is_consonant('c') == True\n",
    "assert is_consonant('C') == True\n",
    "assert is_consonant('a') == False\n",
    "assert is_consonant('e') == False"
   ]
  },
  {
   "cell_type": "code",
   "execution_count": 201,
   "metadata": {},
   "outputs": [],
   "source": [
    "# or...\n",
    "\n",
    "def is_consonant(c):\n",
    "    while len(c) == 1 and c.isalpha():\n",
    "        return not is_vowel(c)"
   ]
  },
  {
   "cell_type": "code",
   "execution_count": 202,
   "metadata": {},
   "outputs": [],
   "source": [
    "assert is_consonant('c') == True\n",
    "assert is_consonant('C') == True\n",
    "assert is_consonant('a') == False\n",
    "assert is_consonant('e') == False"
   ]
  },
  {
   "cell_type": "markdown",
   "metadata": {},
   "source": [
    "4. Define a function that accepts a string that is a word. The function should capitalize the first letter of the word if the word starts with a consonant."
   ]
  },
  {
   "cell_type": "code",
   "execution_count": 203,
   "metadata": {},
   "outputs": [],
   "source": [
    "def capitalize_word(word):\n",
    "    if type(word) == str:\n",
    "        first = word[0]\n",
    "        if is_consonant(first):\n",
    "            return word.capitalize()\n",
    "    return False"
   ]
  },
  {
   "cell_type": "code",
   "execution_count": 204,
   "metadata": {},
   "outputs": [],
   "source": [
    "assert capitalize_word('happy') == 'Happy'\n",
    "assert capitalize_word('Happy') == 'Happy'\n",
    "assert capitalize_word(2) == False\n",
    "assert capitalize_word('two') == 'Two'\n",
    "assert capitalize_word('alpha') == False"
   ]
  },
  {
   "cell_type": "markdown",
   "metadata": {},
   "source": [
    "5. Define a function named calculate_tip. It should accept a tip percentage (a number between 0 and 1) and the bill total, and return the amount to tip."
   ]
  },
  {
   "cell_type": "code",
   "execution_count": 205,
   "metadata": {},
   "outputs": [],
   "source": [
    "def calculate_tip(percent, total):\n",
    "    if percent >= 0 and percent <= 1:\n",
    "        amount_to_tip = total * percent\n",
    "        return amount_to_tip"
   ]
  },
  {
   "cell_type": "code",
   "execution_count": 206,
   "metadata": {},
   "outputs": [],
   "source": [
    "assert calculate_tip(.15, 20) == 3.0\n",
    "assert calculate_tip(.2, 20) == 4.0\n",
    "assert calculate_tip(.1, 20) == 2.0"
   ]
  },
  {
   "cell_type": "markdown",
   "metadata": {},
   "source": [
    "6. Define a function named apply_discount. It should accept a original price, and a discount percentage, and return the price after the discount is applied."
   ]
  },
  {
   "cell_type": "code",
   "execution_count": 207,
   "metadata": {},
   "outputs": [],
   "source": [
    "def apply_discount(price, percent):\n",
    "    discount_amount = price - (price * percent)\n",
    "    return discount_amount"
   ]
  },
  {
   "cell_type": "code",
   "execution_count": 208,
   "metadata": {},
   "outputs": [
    {
     "data": {
      "text/plain": [
       "45.0"
      ]
     },
     "execution_count": 208,
     "metadata": {},
     "output_type": "execute_result"
    }
   ],
   "source": [
    "apply_discount(50, .10)"
   ]
  },
  {
   "cell_type": "code",
   "execution_count": 209,
   "metadata": {},
   "outputs": [],
   "source": [
    "assert apply_discount(50, .10) == 45.0\n",
    "assert apply_discount(50, .20) == 40.0\n",
    "assert apply_discount(50, .25) == 37.50"
   ]
  },
  {
   "cell_type": "markdown",
   "metadata": {},
   "source": [
    "7. Define a function named handle_commas. It should accept a string that is a number that contains commas in it as input, and return a number as output."
   ]
  },
  {
   "cell_type": "code",
   "execution_count": 210,
   "metadata": {},
   "outputs": [],
   "source": [
    "def handle_commas(string):\n",
    "    string = string.replace(',', '')\n",
    "    num = int(string)\n",
    "    return num"
   ]
  },
  {
   "cell_type": "code",
   "execution_count": 211,
   "metadata": {},
   "outputs": [
    {
     "data": {
      "text/plain": [
       "3000"
      ]
     },
     "execution_count": 211,
     "metadata": {},
     "output_type": "execute_result"
    }
   ],
   "source": [
    "handle_commas('3,000')"
   ]
  },
  {
   "cell_type": "markdown",
   "metadata": {},
   "source": [
    "8. Define a function named get_letter_grade. It should accept a number and return the letter grade associated with that number (A-F)."
   ]
  },
  {
   "cell_type": "code",
   "execution_count": 212,
   "metadata": {},
   "outputs": [],
   "source": [
    "def get_letter_grade(number):\n",
    "    if number >= 90:\n",
    "        return 'A'\n",
    "    if number >= 80:\n",
    "        return 'B'\n",
    "    if number >= 70:\n",
    "        return 'C'\n",
    "    if number >= 60:\n",
    "        return 'D'\n",
    "    else:\n",
    "        return 'F'"
   ]
  },
  {
   "cell_type": "code",
   "execution_count": 213,
   "metadata": {},
   "outputs": [
    {
     "data": {
      "text/plain": [
       "'F'"
      ]
     },
     "execution_count": 213,
     "metadata": {},
     "output_type": "execute_result"
    }
   ],
   "source": [
    "get_letter_grade(51)"
   ]
  },
  {
   "cell_type": "markdown",
   "metadata": {},
   "source": [
    "9. Define a function named remove_vowels that accepts a string and returns a string with all the vowels removed."
   ]
  },
  {
   "cell_type": "code",
   "execution_count": 232,
   "metadata": {},
   "outputs": [],
   "source": [
    "def remove_vowels(word):\n",
    "    for letter in word:\n",
    "        if is_vowel(letter):\n",
    "            word = word.replace(letter, '')\n",
    "    return word"
   ]
  },
  {
   "cell_type": "code",
   "execution_count": 234,
   "metadata": {},
   "outputs": [],
   "source": [
    "assert remove_vowels('hello') == 'hll'\n",
    "assert remove_vowels('Curie') == 'Cr'\n",
    "assert remove_vowels('aaa') == ''\n",
    "assert remove_vowels('hll') == 'hll'"
   ]
  },
  {
   "cell_type": "code",
   "execution_count": 235,
   "metadata": {},
   "outputs": [],
   "source": [
    "# OR...\n",
    "\n",
    "def remove_vowels(word):\n",
    "    return ''.join([c for c in word if not is_vowel(c)])"
   ]
  },
  {
   "cell_type": "code",
   "execution_count": 236,
   "metadata": {},
   "outputs": [],
   "source": [
    "assert remove_vowels('hello') == 'hll'\n",
    "assert remove_vowels('Curie') == 'Cr'\n",
    "assert remove_vowels('aaa') == ''\n",
    "assert remove_vowels('hll') == 'hll'"
   ]
  },
  {
   "cell_type": "code",
   "execution_count": null,
   "metadata": {},
   "outputs": [],
   "source": []
  }
 ],
 "metadata": {
  "kernelspec": {
   "display_name": "Python 3",
   "language": "python",
   "name": "python3"
  },
  "language_info": {
   "codemirror_mode": {
    "name": "ipython",
    "version": 3
   },
   "file_extension": ".py",
   "mimetype": "text/x-python",
   "name": "python",
   "nbconvert_exporter": "python",
   "pygments_lexer": "ipython3",
   "version": "3.7.3"
  },
  "toc": {
   "base_numbering": 1,
   "nav_menu": {},
   "number_sections": true,
   "sideBar": true,
   "skip_h1_title": false,
   "title_cell": "Table of Contents",
   "title_sidebar": "Contents",
   "toc_cell": false,
   "toc_position": {},
   "toc_section_display": true,
   "toc_window_display": false
  }
 },
 "nbformat": 4,
 "nbformat_minor": 2
}
