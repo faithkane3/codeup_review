{
 "cells": [
  {
   "cell_type": "code",
   "execution_count": 13,
   "metadata": {},
   "outputs": [],
   "source": [
    "from time import sleep as wait"
   ]
  },
  {
   "cell_type": "code",
   "execution_count": 14,
   "metadata": {},
   "outputs": [
    {
     "name": "stdout",
     "output_type": "stream",
     "text": [
      "All done!\n"
     ]
    }
   ],
   "source": [
    "wait(2)\n",
    "print('All done!')"
   ]
  },
  {
   "cell_type": "code",
   "execution_count": 375,
   "metadata": {},
   "outputs": [],
   "source": [
    "import itertools as it\n",
    "import operator"
   ]
  },
  {
   "cell_type": "markdown",
   "metadata": {},
   "source": [
    "# accumulate()\n",
    "`it.accumulate(iterable[, func])`"
   ]
  },
  {
   "cell_type": "code",
   "execution_count": 376,
   "metadata": {},
   "outputs": [
    {
     "name": "stdout",
     "output_type": "stream",
     "text": [
      "1\n",
      "2\n",
      "6\n",
      "24\n",
      "120\n"
     ]
    }
   ],
   "source": [
    "# running product\n",
    "\n",
    "data = [1, 2, 3, 4, 5]\n",
    "\n",
    "result = it.accumulate(data, operator.mul)\n",
    "\n",
    "for each in result:\n",
    "    print(each)"
   ]
  },
  {
   "cell_type": "code",
   "execution_count": 377,
   "metadata": {},
   "outputs": [
    {
     "name": "stdout",
     "output_type": "stream",
     "text": [
      "1\n",
      "2\n",
      "3\n",
      "4\n",
      "5\n"
     ]
    }
   ],
   "source": [
    "# running max\n",
    "\n",
    "result = it.accumulate(data, max)\n",
    "for each in result:\n",
    "    print(each)"
   ]
  },
  {
   "cell_type": "code",
   "execution_count": 378,
   "metadata": {},
   "outputs": [
    {
     "name": "stdout",
     "output_type": "stream",
     "text": [
      "5\n",
      "5\n",
      "6\n",
      "6\n",
      "6\n",
      "9\n",
      "9\n"
     ]
    }
   ],
   "source": [
    "# running max\n",
    "\n",
    "data = [5, 2, 6, 4, 5, 9, 1]\n",
    "\n",
    "result = it.accumulate(data, max)\n",
    "for each in result:\n",
    "    print(each)"
   ]
  },
  {
   "cell_type": "code",
   "execution_count": 379,
   "metadata": {},
   "outputs": [
    {
     "name": "stdout",
     "output_type": "stream",
     "text": [
      "5\n",
      "7\n",
      "13\n",
      "17\n",
      "22\n",
      "31\n",
      "32\n"
     ]
    }
   ],
   "source": [
    "# running total\n",
    "\n",
    "data = [5, 2, 6, 4, 5, 9, 1]\n",
    "result = it.accumulate(data)\n",
    "for each in result:\n",
    "    print(each)"
   ]
  },
  {
   "cell_type": "markdown",
   "metadata": {},
   "source": [
    "# Combinations\n",
    "\n",
    "`it.combinations(iterable, r)`\n"
   ]
  },
  {
   "cell_type": "code",
   "execution_count": 380,
   "metadata": {},
   "outputs": [
    {
     "name": "stdout",
     "output_type": "stream",
     "text": [
      "('circle', 'triangle')\n",
      "('circle', 'square')\n",
      "('triangle', 'square')\n"
     ]
    }
   ],
   "source": [
    "shapes = ['circle', 'triangle', 'square']\n",
    "\n",
    "result = it.combinations(shapes, 2)\n",
    "\n",
    "for each in result:\n",
    "    print(each)"
   ]
  },
  {
   "cell_type": "code",
   "execution_count": 381,
   "metadata": {},
   "outputs": [
    {
     "name": "stdout",
     "output_type": "stream",
     "text": [
      "('circle', 'triangle', 'square')\n"
     ]
    }
   ],
   "source": [
    "shapes = ['circle', 'triangle', 'square']\n",
    "\n",
    "result = it.combinations(shapes, 3)\n",
    "for each in result:\n",
    "    print(each)"
   ]
  },
  {
   "cell_type": "markdown",
   "metadata": {},
   "source": [
    "# Combinations with Replacement\n",
    "`it.combinations_with_replacement(iterable, r)`"
   ]
  },
  {
   "cell_type": "code",
   "execution_count": 382,
   "metadata": {},
   "outputs": [
    {
     "name": "stdout",
     "output_type": "stream",
     "text": [
      "('circle', 'circle')\n",
      "('circle', 'triangle')\n",
      "('circle', 'square')\n",
      "('triangle', 'triangle')\n",
      "('triangle', 'square')\n",
      "('square', 'square')\n"
     ]
    }
   ],
   "source": [
    "shapes = ['circle', 'triangle', 'square']\n",
    "\n",
    "result = it.combinations_with_replacement(shapes, 2)\n",
    "\n",
    "for each in result:\n",
    "    print(each)"
   ]
  },
  {
   "cell_type": "markdown",
   "metadata": {},
   "source": [
    "# Count\n",
    "`it.count(start=0, step=1)`"
   ]
  },
  {
   "cell_type": "code",
   "execution_count": 383,
   "metadata": {},
   "outputs": [
    {
     "name": "stdout",
     "output_type": "stream",
     "text": [
      "10\n",
      "13\n",
      "16\n",
      "19\n",
      "22\n"
     ]
    }
   ],
   "source": [
    "for i in it.count(10,3):\n",
    "    print(i)\n",
    "    if i > 20:\n",
    "        break"
   ]
  },
  {
   "cell_type": "markdown",
   "metadata": {},
   "source": [
    "# Cycle\n",
    "`it.cycle(iterable)`"
   ]
  },
  {
   "cell_type": "code",
   "execution_count": 384,
   "metadata": {},
   "outputs": [],
   "source": [
    "# this will loop forever\n",
    "\n",
    "colors = ['red', 'orange', 'yellow', 'green', 'blue', 'violet']\n",
    "\n",
    "# for color in it.cycle(colors):\n",
    "#     print(color)"
   ]
  },
  {
   "cell_type": "markdown",
   "metadata": {},
   "source": [
    "# Chain\n",
    "`it.chain(*iterables)`"
   ]
  },
  {
   "cell_type": "code",
   "execution_count": 385,
   "metadata": {},
   "outputs": [
    {
     "name": "stdout",
     "output_type": "stream",
     "text": [
      "red\n",
      "orange\n",
      "yellow\n",
      "green\n",
      "blue\n",
      "circle\n",
      "triangle\n",
      "square\n",
      "pentagon\n"
     ]
    }
   ],
   "source": [
    "colors = ['red', 'orange', 'yellow', 'green', 'blue']\n",
    "shapes = ['circle', 'triangle', 'square', 'pentagon']\n",
    "\n",
    "result = it.chain(colors, shapes)\n",
    "\n",
    "for each in result:\n",
    "    print(each)"
   ]
  },
  {
   "cell_type": "markdown",
   "metadata": {},
   "source": [
    "# Compress\n",
    "`it.compress(data, selectors)`"
   ]
  },
  {
   "cell_type": "code",
   "execution_count": 386,
   "metadata": {},
   "outputs": [
    {
     "name": "stdout",
     "output_type": "stream",
     "text": [
      "circle\n",
      "square\n"
     ]
    }
   ],
   "source": [
    "shapes = ['circle', 'triangle', 'square', 'pentagon']\n",
    "selections = [True, False, True, False]\n",
    "\n",
    "result = it.compress(shapes, selections)\n",
    "\n",
    "for each in result:\n",
    "    print(each)"
   ]
  },
  {
   "cell_type": "markdown",
   "metadata": {},
   "source": [
    "# Dropwhile\n",
    "`it.dropwhile(predicate, iterable)`"
   ]
  },
  {
   "cell_type": "code",
   "execution_count": 387,
   "metadata": {},
   "outputs": [
    {
     "name": "stdout",
     "output_type": "stream",
     "text": [
      "5\n",
      "6\n",
      "7\n",
      "8\n",
      "9\n",
      "10\n",
      "1\n"
     ]
    }
   ],
   "source": [
    "# once it encounters an item that is not < 5, it returns the rest\n",
    "\n",
    "data = [1, 2, 3, 4, 5, 6, 7, 8, 9, 10, 1]\n",
    "result = it.dropwhile(lambda x: x<5, data)\n",
    "\n",
    "for each in result:\n",
    "    print(each)"
   ]
  },
  {
   "cell_type": "markdown",
   "metadata": {},
   "source": [
    "# filterfalse\n",
    "`it.filterfalse(predicate, iterable)`"
   ]
  },
  {
   "cell_type": "code",
   "execution_count": 388,
   "metadata": {},
   "outputs": [
    {
     "name": "stdout",
     "output_type": "stream",
     "text": [
      "5\n",
      "6\n",
      "7\n",
      "8\n",
      "9\n",
      "10\n"
     ]
    }
   ],
   "source": [
    "# this filters elements from iterable that return False, takes care of that 1\n",
    "\n",
    "data = [1, 2, 3, 4, 5, 6, 7, 8, 9, 10]\n",
    "result = it.filterfalse(lambda x: x<5, data)\n",
    "\n",
    "for each in result:\n",
    "    print(each)"
   ]
  },
  {
   "cell_type": "markdown",
   "metadata": {},
   "source": [
    "# Groupby\n",
    "`it.groupby(iterable, key=None)`"
   ]
  },
  {
   "cell_type": "code",
   "execution_count": 389,
   "metadata": {},
   "outputs": [
    {
     "name": "stdout",
     "output_type": "stream",
     "text": [
      "autobot\n",
      "[{'name': 'blaster', 'faction': 'autobot'}]\n",
      "decepticon\n",
      "[{'name': 'galvatron', 'faction': 'decepticon'}]\n",
      "autobot\n",
      "[{'name': 'jazz', 'faction': 'autobot'}, {'name': 'metroplex', 'faction': 'autobot'}]\n",
      "decepticon\n",
      "[{'name': 'megatron', 'faction': 'decepticon'}, {'name': 'starcream', 'faction': 'decepticon'}]\n"
     ]
    }
   ],
   "source": [
    "bots = [{\n",
    "    'name': 'blaster',\n",
    "    'faction': 'autobot'\n",
    "}, {\n",
    "    'name': 'galvatron',\n",
    "    'faction': 'decepticon'\n",
    "}, {\n",
    "    'name': 'jazz',\n",
    "    'faction': 'autobot'\n",
    "}, {\n",
    "    'name': 'metroplex',\n",
    "    'faction': 'autobot'\n",
    "}, {\n",
    "    'name': 'megatron',\n",
    "    'faction': 'decepticon'\n",
    "}, {\n",
    "    'name': 'starcream',\n",
    "    'faction': 'decepticon'\n",
    "}]\n",
    "\n",
    "for key, group in it.groupby(bots, key=lambda x: x['faction']):\n",
    "    print(key)\n",
    "    print(list(group))"
   ]
  },
  {
   "cell_type": "markdown",
   "metadata": {},
   "source": [
    "# Exercises\n",
    "\n",
    "For the following exercises, read about and use the it module from the standard library to help you solve the problem.\n",
    "\n",
    "> 1. How many different ways can you combine the letters from \"abc\" with the numbers 1, 2, and 3?\n",
    "\n",
    "> 2. How many different ways can you combine two of the letters from \"abcd\"?"
   ]
  },
  {
   "cell_type": "code",
   "execution_count": 390,
   "metadata": {},
   "outputs": [],
   "source": [
    "list1 = ['a', 'b', 'c']\n",
    "list2 = [1, 2, 3]"
   ]
  },
  {
   "cell_type": "code",
   "execution_count": 391,
   "metadata": {},
   "outputs": [
    {
     "data": {
      "text/plain": [
       "[('a', 1),\n",
       " ('a', 2),\n",
       " ('a', 3),\n",
       " ('b', 1),\n",
       " ('b', 2),\n",
       " ('b', 3),\n",
       " ('c', 1),\n",
       " ('c', 2),\n",
       " ('c', 3)]"
      ]
     },
     "execution_count": 391,
     "metadata": {},
     "output_type": "execute_result"
    }
   ],
   "source": [
    "c = list(it.product(list1, list2))\n",
    "c"
   ]
  },
  {
   "cell_type": "code",
   "execution_count": 392,
   "metadata": {},
   "outputs": [],
   "source": [
    "letters = ['a', 'b', 'c', 'd']"
   ]
  },
  {
   "cell_type": "code",
   "execution_count": 393,
   "metadata": {},
   "outputs": [
    {
     "name": "stdout",
     "output_type": "stream",
     "text": [
      "('a', 'a')\n",
      "('a', 'b')\n",
      "('a', 'c')\n",
      "('a', 'd')\n",
      "('b', 'b')\n",
      "('b', 'c')\n",
      "('b', 'd')\n",
      "('c', 'c')\n",
      "('c', 'd')\n",
      "('d', 'd')\n"
     ]
    }
   ],
   "source": [
    "result = it.combinations_with_replacement(letters, 2)\n",
    "\n",
    "for each in result:\n",
    "    print(each)"
   ]
  },
  {
   "cell_type": "markdown",
   "metadata": {},
   "source": [
    "> Save this file as profiles.json inside of your exercises directory. Use the load function from the json module to open this file, it will produce a list of dictionaries. Using this data, write some code that calculates and outputs the following information:"
   ]
  },
  {
   "cell_type": "code",
   "execution_count": 394,
   "metadata": {},
   "outputs": [],
   "source": [
    "import json\n",
    "\n",
    "profiles = json.load(open(\"profiles.json\"))"
   ]
  },
  {
   "cell_type": "code",
   "execution_count": 395,
   "metadata": {},
   "outputs": [
    {
     "data": {
      "text/plain": [
       "list"
      ]
     },
     "execution_count": 395,
     "metadata": {},
     "output_type": "execute_result"
    }
   ],
   "source": [
    "type(profiles)"
   ]
  },
  {
   "cell_type": "code",
   "execution_count": 396,
   "metadata": {},
   "outputs": [
    {
     "data": {
      "text/plain": [
       "dict_keys(['_id', 'index', 'guid', 'isActive', 'balance', 'picture', 'age', 'eyeColor', 'name', 'gender', 'company', 'email', 'phone', 'address', 'about', 'registered', 'latitude', 'longitude', 'tags', 'friends', 'greeting', 'favoriteFruit'])"
      ]
     },
     "execution_count": 396,
     "metadata": {},
     "output_type": "execute_result"
    }
   ],
   "source": [
    "profiles[0].keys()"
   ]
  },
  {
   "cell_type": "code",
   "execution_count": 397,
   "metadata": {},
   "outputs": [
    {
     "data": {
      "text/plain": [
       "dict_values(['54e23c3e46ab53a440b580e8', 0, '9962b468-ef3e-4993-b677-617469bc3008', False, '$2,097.02', 'http://placehold.it/32x32', 39, 'blue', 'Hebert Estes', 'male', 'ANDRYX', 'hebertestes@andryx.com', '+1 (866) 456-2268', '121 Emmons Avenue, Klondike, Kentucky, 5975', 'Sit cillum deserunt irure laboris tempor fugiat laboris. Amet commodo amet est incididunt. Dolore qui fugiat cillum pariatur dolore excepteur elit ipsum.\\r\\n', '2014-11-10T01:44:03 +06:00', -80.157843, 161.93016, ['sit', 'occaecat', 'non', 'ea', 'sit', 'laboris', 'exercitation'], [{'id': 0, 'name': 'Tanisha Leonard'}, {'id': 1, 'name': 'Dennis Wilson'}, {'id': 2, 'name': 'Lupe Howe'}], 'Hello, Hebert Estes! You have 4 unread messages.', 'strawberry'])"
      ]
     },
     "execution_count": 397,
     "metadata": {},
     "output_type": "execute_result"
    }
   ],
   "source": [
    "profiles[0].values()"
   ]
  },
  {
   "cell_type": "code",
   "execution_count": 398,
   "metadata": {},
   "outputs": [
    {
     "data": {
      "text/plain": [
       "False"
      ]
     },
     "execution_count": 398,
     "metadata": {},
     "output_type": "execute_result"
    }
   ],
   "source": [
    "profiles[0]['isActive']"
   ]
  },
  {
   "cell_type": "markdown",
   "metadata": {},
   "source": [
    "## Total number of users"
   ]
  },
  {
   "cell_type": "code",
   "execution_count": 399,
   "metadata": {},
   "outputs": [
    {
     "name": "stdout",
     "output_type": "stream",
     "text": [
      "There are 19 users in the profiles list.\n"
     ]
    }
   ],
   "source": [
    "print(f'There are {len(profiles)} users in the profiles list.')"
   ]
  },
  {
   "cell_type": "markdown",
   "metadata": {},
   "source": [
    "## Total number of active users"
   ]
  },
  {
   "cell_type": "code",
   "execution_count": 407,
   "metadata": {},
   "outputs": [
    {
     "name": "stdout",
     "output_type": "stream",
     "text": [
      "9\n"
     ]
    }
   ],
   "source": [
    "active_users = []\n",
    "for user in profiles:\n",
    "    if user['isActive']:\n",
    "        active_users.append(user)\n",
    "print(len(active_users))"
   ]
  },
  {
   "cell_type": "code",
   "execution_count": 410,
   "metadata": {},
   "outputs": [
    {
     "data": {
      "text/plain": [
       "9"
      ]
     },
     "execution_count": 410,
     "metadata": {},
     "output_type": "execute_result"
    }
   ],
   "source": [
    "len([profile for profile in profiles if profile['isActive']])"
   ]
  },
  {
   "cell_type": "code",
   "execution_count": 401,
   "metadata": {},
   "outputs": [
    {
     "name": "stdout",
     "output_type": "stream",
     "text": [
      "There are 9 in the profiles list.\n"
     ]
    }
   ],
   "source": [
    "print(f'There are {len(active_users)} in the profiles list.')"
   ]
  },
  {
   "cell_type": "markdown",
   "metadata": {},
   "source": [
    "## Total number of inactive users"
   ]
  },
  {
   "cell_type": "code",
   "execution_count": 408,
   "metadata": {},
   "outputs": [
    {
     "name": "stdout",
     "output_type": "stream",
     "text": [
      "10\n"
     ]
    }
   ],
   "source": [
    "inactive_users = []\n",
    "for user in profiles:\n",
    "    if not user['isActive']:\n",
    "        inactive_users.append(user)\n",
    "print(len(inactive_users))"
   ]
  },
  {
   "cell_type": "code",
   "execution_count": 411,
   "metadata": {},
   "outputs": [
    {
     "data": {
      "text/plain": [
       "10"
      ]
     },
     "execution_count": 411,
     "metadata": {},
     "output_type": "execute_result"
    }
   ],
   "source": [
    "len([profile for profile in profiles if not profile['isActive']])"
   ]
  },
  {
   "cell_type": "code",
   "execution_count": 403,
   "metadata": {},
   "outputs": [
    {
     "name": "stdout",
     "output_type": "stream",
     "text": [
      "There are 10 in the profiles list.\n"
     ]
    }
   ],
   "source": [
    "print(f'There are {len(inactive_users)} in the profiles list.')"
   ]
  },
  {
   "cell_type": "markdown",
   "metadata": {},
   "source": [
    "## Grand total of balances for all users"
   ]
  },
  {
   "cell_type": "code",
   "execution_count": 404,
   "metadata": {},
   "outputs": [
    {
     "name": "stdout",
     "output_type": "stream",
     "text": [
      "$2,097.02\n",
      "$3,654.02\n",
      "$1,536.02\n",
      "$3,919.64\n",
      "$3,681.39\n",
      "$1,694.42\n",
      "$1,214.10\n",
      "$2,930.31\n",
      "$1,944.15\n",
      "$2,839.22\n",
      "$2,467.31\n",
      "$3,304.99\n",
      "$3,844.42\n",
      "$3,594.99\n",
      "$2,940.24\n",
      "$3,062.41\n",
      "$3,067.82\n",
      "$2,646.76\n",
      "$2,227.79\n"
     ]
    }
   ],
   "source": [
    "for user in profiles:\n",
    "    print(user['balance'])"
   ]
  },
  {
   "cell_type": "code",
   "execution_count": 412,
   "metadata": {},
   "outputs": [
    {
     "name": "stdout",
     "output_type": "stream",
     "text": [
      "The total balance of all of the users is $52667.02.\n"
     ]
    }
   ],
   "source": [
    "total_balance = []\n",
    "for user in profiles:\n",
    "    balance = user['balance']\n",
    "    balance = balance.replace('$', '').replace(',', '')\n",
    "    balance = float(balance)\n",
    "    total_balance.append(balance)\n",
    "\n",
    "print(f'The total balance of all of the users is ${sum(total_balance)}.')"
   ]
  },
  {
   "cell_type": "code",
   "execution_count": 414,
   "metadata": {},
   "outputs": [],
   "source": [
    "def get_profile_balance(profile):\n",
    "    return float(profile['balance'].replace('$', '').replace(',', ''))"
   ]
  },
  {
   "cell_type": "code",
   "execution_count": 415,
   "metadata": {},
   "outputs": [
    {
     "data": {
      "text/plain": [
       "52667.02"
      ]
     },
     "execution_count": 415,
     "metadata": {},
     "output_type": "execute_result"
    }
   ],
   "source": [
    "sum([get_profile_balance(profile) for profile in profiles])"
   ]
  },
  {
   "cell_type": "code",
   "execution_count": 406,
   "metadata": {},
   "outputs": [
    {
     "name": "stdout",
     "output_type": "stream",
     "text": [
      "The grand total of user balances is $52667.02.\n"
     ]
    }
   ],
   "source": [
    "# running_total\n",
    "\n",
    "total_balance = []\n",
    "for user in profiles:\n",
    "    balance = user['balance']\n",
    "    balance = balance.replace('$', '')\n",
    "    balance = balance.replace(',', '')\n",
    "    balance = float(balance)\n",
    "    total_balance.append(balance)\n",
    "print(f'The grand total of user balances is ${sum(total_balance)}.')\n",
    "\n",
    "# result = it.accumulate(total_balance)\n",
    "# for total in result:\n",
    "#     print(sutotal)\n",
    "#     print()"
   ]
  },
  {
   "cell_type": "markdown",
   "metadata": {},
   "source": [
    "## Average balance per user"
   ]
  },
  {
   "cell_type": "code",
   "execution_count": 142,
   "metadata": {},
   "outputs": [
    {
     "name": "stdout",
     "output_type": "stream",
     "text": [
      "The average of user balances is $2771.95.\n"
     ]
    }
   ],
   "source": [
    "total_balance = []\n",
    "for user in profiles:\n",
    "    balance = user['balance']\n",
    "    balance = balance.replace('$', '')\n",
    "    balance = balance.replace(',', '')\n",
    "    balance = float(balance)\n",
    "    total_balance.append(balance)\n",
    "print(f'The average of user balances is ${round(sum(total_balance) / len(total_balance),2)}.')\n"
   ]
  },
  {
   "cell_type": "markdown",
   "metadata": {},
   "source": [
    "## User with the lowest balance"
   ]
  },
  {
   "cell_type": "code",
   "execution_count": 154,
   "metadata": {},
   "outputs": [],
   "source": [
    "total_balance = []\n",
    "for user in profiles:\n",
    "    balance = user['balance']\n",
    "    balance = balance.replace('$', '')\n",
    "    balance = balance.replace(',', '')\n",
    "    balance = float(balance)\n",
    "    total_balance.append(balance)\n",
    "    min_balance = (min(total_balance))\n",
    "    for user in profiles:\n",
    "        if user['balance'] ==  min_balance:\n",
    "            print(user)"
   ]
  },
  {
   "cell_type": "markdown",
   "metadata": {},
   "source": [
    "## User with the highest balance"
   ]
  },
  {
   "cell_type": "code",
   "execution_count": null,
   "metadata": {},
   "outputs": [],
   "source": []
  },
  {
   "cell_type": "markdown",
   "metadata": {},
   "source": [
    "## Most common favorite fruit"
   ]
  },
  {
   "cell_type": "code",
   "execution_count": 161,
   "metadata": {},
   "outputs": [
    {
     "name": "stdout",
     "output_type": "stream",
     "text": [
      "The most common favorite fruit amongst the users is: strawberry\n"
     ]
    }
   ],
   "source": [
    "favorite_fruit = []\n",
    "for user in profiles:\n",
    "    fruit = user['favoriteFruit']\n",
    "    favorite_fruit.append(fruit)\n",
    "\n",
    "def most_frequent(List): \n",
    "    return max(set(List), key = List.count) \n",
    "\n",
    "print(f'The most common favorite fruit amongst the users is: {most_frequent(favorite_fruit)}') "
   ]
  },
  {
   "cell_type": "markdown",
   "metadata": {},
   "source": [
    "## Least common favorite fruit"
   ]
  },
  {
   "cell_type": "code",
   "execution_count": 162,
   "metadata": {},
   "outputs": [
    {
     "name": "stdout",
     "output_type": "stream",
     "text": [
      "The least common favorite fruit amongst the users is: apple\n"
     ]
    }
   ],
   "source": [
    "favorite_fruit = []\n",
    "for user in profiles:\n",
    "    fruit = user['favoriteFruit']\n",
    "    favorite_fruit.append(fruit)\n",
    "\n",
    "def most_frequent(List): \n",
    "    return min(set(List), key = List.count) \n",
    "\n",
    "print(f'The least common favorite fruit amongst the users is: {most_frequent(favorite_fruit)}') "
   ]
  },
  {
   "cell_type": "markdown",
   "metadata": {},
   "source": [
    "## Total number of unread messages for all users"
   ]
  },
  {
   "cell_type": "code",
   "execution_count": 373,
   "metadata": {},
   "outputs": [
    {
     "name": "stdout",
     "output_type": "stream",
     "text": [
      "210\n"
     ]
    }
   ],
   "source": [
    "import re\n",
    "nums = []\n",
    "for user in profiles:\n",
    "    greeting = (user['greeting'])\n",
    "    lst = re.findall('\\d+', greeting)\n",
    "    nums.append(''.join(lst))\n",
    "nums = map(int, nums)\n",
    "print(sum(list(nums)))"
   ]
  },
  {
   "cell_type": "markdown",
   "metadata": {},
   "source": [
    "# Using Pandas!!!"
   ]
  },
  {
   "cell_type": "code",
   "execution_count": 189,
   "metadata": {},
   "outputs": [],
   "source": [
    "import pandas as pd"
   ]
  },
  {
   "cell_type": "code",
   "execution_count": 187,
   "metadata": {},
   "outputs": [],
   "source": [
    "data = json.load(open(\"profiles.json\"))"
   ]
  },
  {
   "cell_type": "code",
   "execution_count": 191,
   "metadata": {},
   "outputs": [],
   "source": [
    "df = pd.DataFrame(data)"
   ]
  },
  {
   "cell_type": "code",
   "execution_count": 193,
   "metadata": {},
   "outputs": [
    {
     "data": {
      "text/html": [
       "<div>\n",
       "<style scoped>\n",
       "    .dataframe tbody tr th:only-of-type {\n",
       "        vertical-align: middle;\n",
       "    }\n",
       "\n",
       "    .dataframe tbody tr th {\n",
       "        vertical-align: top;\n",
       "    }\n",
       "\n",
       "    .dataframe thead th {\n",
       "        text-align: right;\n",
       "    }\n",
       "</style>\n",
       "<table border=\"1\" class=\"dataframe\">\n",
       "  <thead>\n",
       "    <tr style=\"text-align: right;\">\n",
       "      <th></th>\n",
       "      <th>_id</th>\n",
       "      <th>about</th>\n",
       "      <th>address</th>\n",
       "      <th>age</th>\n",
       "      <th>balance</th>\n",
       "      <th>company</th>\n",
       "      <th>email</th>\n",
       "      <th>eyeColor</th>\n",
       "      <th>favoriteFruit</th>\n",
       "      <th>friends</th>\n",
       "      <th>...</th>\n",
       "      <th>guid</th>\n",
       "      <th>index</th>\n",
       "      <th>isActive</th>\n",
       "      <th>latitude</th>\n",
       "      <th>longitude</th>\n",
       "      <th>name</th>\n",
       "      <th>phone</th>\n",
       "      <th>picture</th>\n",
       "      <th>registered</th>\n",
       "      <th>tags</th>\n",
       "    </tr>\n",
       "  </thead>\n",
       "  <tbody>\n",
       "    <tr>\n",
       "      <th>0</th>\n",
       "      <td>54e23c3e46ab53a440b580e8</td>\n",
       "      <td>Sit cillum deserunt irure laboris tempor fugia...</td>\n",
       "      <td>121 Emmons Avenue, Klondike, Kentucky, 5975</td>\n",
       "      <td>39</td>\n",
       "      <td>$2,097.02</td>\n",
       "      <td>ANDRYX</td>\n",
       "      <td>hebertestes@andryx.com</td>\n",
       "      <td>blue</td>\n",
       "      <td>strawberry</td>\n",
       "      <td>[{'id': 0, 'name': 'Tanisha Leonard'}, {'id': ...</td>\n",
       "      <td>...</td>\n",
       "      <td>9962b468-ef3e-4993-b677-617469bc3008</td>\n",
       "      <td>0</td>\n",
       "      <td>False</td>\n",
       "      <td>-80.157843</td>\n",
       "      <td>161.93016</td>\n",
       "      <td>Hebert Estes</td>\n",
       "      <td>+1 (866) 456-2268</td>\n",
       "      <td>http://placehold.it/32x32</td>\n",
       "      <td>2014-11-10T01:44:03 +06:00</td>\n",
       "      <td>[sit, occaecat, non, ea, sit, laboris, exercit...</td>\n",
       "    </tr>\n",
       "  </tbody>\n",
       "</table>\n",
       "<p>1 rows × 22 columns</p>\n",
       "</div>"
      ],
      "text/plain": [
       "                        _id  \\\n",
       "0  54e23c3e46ab53a440b580e8   \n",
       "\n",
       "                                               about  \\\n",
       "0  Sit cillum deserunt irure laboris tempor fugia...   \n",
       "\n",
       "                                       address  age    balance company  \\\n",
       "0  121 Emmons Avenue, Klondike, Kentucky, 5975   39  $2,097.02  ANDRYX   \n",
       "\n",
       "                    email eyeColor favoriteFruit  \\\n",
       "0  hebertestes@andryx.com     blue    strawberry   \n",
       "\n",
       "                                             friends  ...  \\\n",
       "0  [{'id': 0, 'name': 'Tanisha Leonard'}, {'id': ...  ...   \n",
       "\n",
       "                                   guid index isActive   latitude  longitude  \\\n",
       "0  9962b468-ef3e-4993-b677-617469bc3008     0    False -80.157843  161.93016   \n",
       "\n",
       "           name              phone                    picture  \\\n",
       "0  Hebert Estes  +1 (866) 456-2268  http://placehold.it/32x32   \n",
       "\n",
       "                   registered  \\\n",
       "0  2014-11-10T01:44:03 +06:00   \n",
       "\n",
       "                                                tags  \n",
       "0  [sit, occaecat, non, ea, sit, laboris, exercit...  \n",
       "\n",
       "[1 rows x 22 columns]"
      ]
     },
     "execution_count": 193,
     "metadata": {},
     "output_type": "execute_result"
    }
   ],
   "source": [
    "df.head(1)"
   ]
  },
  {
   "cell_type": "code",
   "execution_count": 194,
   "metadata": {},
   "outputs": [
    {
     "data": {
      "text/plain": [
       "Index(['_id', 'about', 'address', 'age', 'balance', 'company', 'email',\n",
       "       'eyeColor', 'favoriteFruit', 'friends', 'gender', 'greeting', 'guid',\n",
       "       'index', 'isActive', 'latitude', 'longitude', 'name', 'phone',\n",
       "       'picture', 'registered', 'tags'],\n",
       "      dtype='object')"
      ]
     },
     "execution_count": 194,
     "metadata": {},
     "output_type": "execute_result"
    }
   ],
   "source": [
    "df.columns"
   ]
  },
  {
   "cell_type": "code",
   "execution_count": 197,
   "metadata": {},
   "outputs": [],
   "source": [
    "df.columns = ['id', 'about', 'address', 'age', 'balance', 'company', 'email',\n",
    "       'eye_color', 'favorite_fruit', 'friends', 'gender', 'greeting', 'guid',\n",
    "       'index', 'is_active', 'latitude', 'longitude', 'name', 'phone',\n",
    "       'picture', 'registered', 'tags']"
   ]
  },
  {
   "cell_type": "code",
   "execution_count": 198,
   "metadata": {},
   "outputs": [
    {
     "data": {
      "text/html": [
       "<div>\n",
       "<style scoped>\n",
       "    .dataframe tbody tr th:only-of-type {\n",
       "        vertical-align: middle;\n",
       "    }\n",
       "\n",
       "    .dataframe tbody tr th {\n",
       "        vertical-align: top;\n",
       "    }\n",
       "\n",
       "    .dataframe thead th {\n",
       "        text-align: right;\n",
       "    }\n",
       "</style>\n",
       "<table border=\"1\" class=\"dataframe\">\n",
       "  <thead>\n",
       "    <tr style=\"text-align: right;\">\n",
       "      <th></th>\n",
       "      <th>id</th>\n",
       "      <th>about</th>\n",
       "      <th>address</th>\n",
       "      <th>age</th>\n",
       "      <th>balance</th>\n",
       "      <th>company</th>\n",
       "      <th>email</th>\n",
       "      <th>eye_color</th>\n",
       "      <th>favorite_fruit</th>\n",
       "      <th>friends</th>\n",
       "      <th>...</th>\n",
       "      <th>guid</th>\n",
       "      <th>index</th>\n",
       "      <th>is_active</th>\n",
       "      <th>latitude</th>\n",
       "      <th>longitude</th>\n",
       "      <th>name</th>\n",
       "      <th>phone</th>\n",
       "      <th>picture</th>\n",
       "      <th>registered</th>\n",
       "      <th>tags</th>\n",
       "    </tr>\n",
       "  </thead>\n",
       "  <tbody>\n",
       "    <tr>\n",
       "      <th>0</th>\n",
       "      <td>54e23c3e46ab53a440b580e8</td>\n",
       "      <td>Sit cillum deserunt irure laboris tempor fugia...</td>\n",
       "      <td>121 Emmons Avenue, Klondike, Kentucky, 5975</td>\n",
       "      <td>39</td>\n",
       "      <td>$2,097.02</td>\n",
       "      <td>ANDRYX</td>\n",
       "      <td>hebertestes@andryx.com</td>\n",
       "      <td>blue</td>\n",
       "      <td>strawberry</td>\n",
       "      <td>[{'id': 0, 'name': 'Tanisha Leonard'}, {'id': ...</td>\n",
       "      <td>...</td>\n",
       "      <td>9962b468-ef3e-4993-b677-617469bc3008</td>\n",
       "      <td>0</td>\n",
       "      <td>False</td>\n",
       "      <td>-80.157843</td>\n",
       "      <td>161.93016</td>\n",
       "      <td>Hebert Estes</td>\n",
       "      <td>+1 (866) 456-2268</td>\n",
       "      <td>http://placehold.it/32x32</td>\n",
       "      <td>2014-11-10T01:44:03 +06:00</td>\n",
       "      <td>[sit, occaecat, non, ea, sit, laboris, exercit...</td>\n",
       "    </tr>\n",
       "  </tbody>\n",
       "</table>\n",
       "<p>1 rows × 22 columns</p>\n",
       "</div>"
      ],
      "text/plain": [
       "                         id  \\\n",
       "0  54e23c3e46ab53a440b580e8   \n",
       "\n",
       "                                               about  \\\n",
       "0  Sit cillum deserunt irure laboris tempor fugia...   \n",
       "\n",
       "                                       address  age    balance company  \\\n",
       "0  121 Emmons Avenue, Klondike, Kentucky, 5975   39  $2,097.02  ANDRYX   \n",
       "\n",
       "                    email eye_color favorite_fruit  \\\n",
       "0  hebertestes@andryx.com      blue     strawberry   \n",
       "\n",
       "                                             friends  ...  \\\n",
       "0  [{'id': 0, 'name': 'Tanisha Leonard'}, {'id': ...  ...   \n",
       "\n",
       "                                   guid index is_active   latitude  longitude  \\\n",
       "0  9962b468-ef3e-4993-b677-617469bc3008     0     False -80.157843  161.93016   \n",
       "\n",
       "           name              phone                    picture  \\\n",
       "0  Hebert Estes  +1 (866) 456-2268  http://placehold.it/32x32   \n",
       "\n",
       "                   registered  \\\n",
       "0  2014-11-10T01:44:03 +06:00   \n",
       "\n",
       "                                                tags  \n",
       "0  [sit, occaecat, non, ea, sit, laboris, exercit...  \n",
       "\n",
       "[1 rows x 22 columns]"
      ]
     },
     "execution_count": 198,
     "metadata": {},
     "output_type": "execute_result"
    }
   ],
   "source": [
    "df.head(1)"
   ]
  },
  {
   "cell_type": "code",
   "execution_count": 200,
   "metadata": {},
   "outputs": [
    {
     "name": "stdout",
     "output_type": "stream",
     "text": [
      "The total number of users in the dataframe is 19.\n"
     ]
    }
   ],
   "source": [
    "print(f'The total number of users in the dataframe is {len(df)}.')"
   ]
  },
  {
   "cell_type": "code",
   "execution_count": 207,
   "metadata": {},
   "outputs": [
    {
     "name": "stdout",
     "output_type": "stream",
     "text": [
      "The number of active users in the dataframe is 9.\n"
     ]
    }
   ],
   "source": [
    "print(f'The number of active users in the dataframe is {(df.is_active == True).sum()}.')"
   ]
  },
  {
   "cell_type": "code",
   "execution_count": 208,
   "metadata": {},
   "outputs": [
    {
     "name": "stdout",
     "output_type": "stream",
     "text": [
      "The number of inactive users in the dataframe is 10.\n"
     ]
    }
   ],
   "source": [
    "print(f'The number of inactive users in the dataframe is {(df.is_active == False).sum()}.')"
   ]
  },
  {
   "cell_type": "code",
   "execution_count": 230,
   "metadata": {},
   "outputs": [],
   "source": [
    "df.balance = df.balance.str.replace('$', '').str.replace(',','').astype(float)"
   ]
  },
  {
   "cell_type": "code",
   "execution_count": 234,
   "metadata": {},
   "outputs": [
    {
     "name": "stdout",
     "output_type": "stream",
     "text": [
      "The total balance of the users is $52667.02.\n"
     ]
    }
   ],
   "source": [
    "print(f'The total balance of the users is ${df.balance.sum()}.')"
   ]
  },
  {
   "cell_type": "code",
   "execution_count": 237,
   "metadata": {},
   "outputs": [
    {
     "name": "stdout",
     "output_type": "stream",
     "text": [
      "The average balance per user is $2771.95.\n"
     ]
    }
   ],
   "source": [
    "print(f'The average balance per user is ${round(df.balance.mean(), 2)}.')"
   ]
  },
  {
   "cell_type": "markdown",
   "metadata": {},
   "source": [
    "- The user with the lowest balance."
   ]
  },
  {
   "cell_type": "code",
   "execution_count": 240,
   "metadata": {},
   "outputs": [
    {
     "data": {
      "text/html": [
       "<div>\n",
       "<style scoped>\n",
       "    .dataframe tbody tr th:only-of-type {\n",
       "        vertical-align: middle;\n",
       "    }\n",
       "\n",
       "    .dataframe tbody tr th {\n",
       "        vertical-align: top;\n",
       "    }\n",
       "\n",
       "    .dataframe thead th {\n",
       "        text-align: right;\n",
       "    }\n",
       "</style>\n",
       "<table border=\"1\" class=\"dataframe\">\n",
       "  <thead>\n",
       "    <tr style=\"text-align: right;\">\n",
       "      <th></th>\n",
       "      <th>id</th>\n",
       "      <th>about</th>\n",
       "      <th>address</th>\n",
       "      <th>age</th>\n",
       "      <th>balance</th>\n",
       "      <th>company</th>\n",
       "      <th>email</th>\n",
       "      <th>eye_color</th>\n",
       "      <th>favorite_fruit</th>\n",
       "      <th>friends</th>\n",
       "      <th>...</th>\n",
       "      <th>guid</th>\n",
       "      <th>index</th>\n",
       "      <th>is_active</th>\n",
       "      <th>latitude</th>\n",
       "      <th>longitude</th>\n",
       "      <th>name</th>\n",
       "      <th>phone</th>\n",
       "      <th>picture</th>\n",
       "      <th>registered</th>\n",
       "      <th>tags</th>\n",
       "    </tr>\n",
       "  </thead>\n",
       "  <tbody>\n",
       "    <tr>\n",
       "      <th>6</th>\n",
       "      <td>54e23c3e0fd8074c2ca52667</td>\n",
       "      <td>Minim consequat anim ad et tempor et pariatur ...</td>\n",
       "      <td>569 Oakland Place, Beyerville, Puerto Rico, 2395</td>\n",
       "      <td>35</td>\n",
       "      <td>1214.1</td>\n",
       "      <td>TERSANKI</td>\n",
       "      <td>averyflynn@tersanki.com</td>\n",
       "      <td>green</td>\n",
       "      <td>banana</td>\n",
       "      <td>[{'id': 0, 'name': 'Ball Henson'}, {'id': 1, '...</td>\n",
       "      <td>...</td>\n",
       "      <td>af8d9a03-fde9-4039-b20c-c4708d4cfc3c</td>\n",
       "      <td>6</td>\n",
       "      <td>False</td>\n",
       "      <td>-89.879409</td>\n",
       "      <td>143.441709</td>\n",
       "      <td>Avery Flynn</td>\n",
       "      <td>+1 (966) 404-2471</td>\n",
       "      <td>http://placehold.it/32x32</td>\n",
       "      <td>2014-04-13T10:25:03 +05:00</td>\n",
       "      <td>[quis, esse, Lorem, minim, nostrud, voluptate,...</td>\n",
       "    </tr>\n",
       "  </tbody>\n",
       "</table>\n",
       "<p>1 rows × 22 columns</p>\n",
       "</div>"
      ],
      "text/plain": [
       "                         id  \\\n",
       "6  54e23c3e0fd8074c2ca52667   \n",
       "\n",
       "                                               about  \\\n",
       "6  Minim consequat anim ad et tempor et pariatur ...   \n",
       "\n",
       "                                            address  age  balance   company  \\\n",
       "6  569 Oakland Place, Beyerville, Puerto Rico, 2395   35   1214.1  TERSANKI   \n",
       "\n",
       "                     email eye_color favorite_fruit  \\\n",
       "6  averyflynn@tersanki.com     green         banana   \n",
       "\n",
       "                                             friends  ...  \\\n",
       "6  [{'id': 0, 'name': 'Ball Henson'}, {'id': 1, '...  ...   \n",
       "\n",
       "                                   guid index is_active   latitude  \\\n",
       "6  af8d9a03-fde9-4039-b20c-c4708d4cfc3c     6     False -89.879409   \n",
       "\n",
       "    longitude         name              phone                    picture  \\\n",
       "6  143.441709  Avery Flynn  +1 (966) 404-2471  http://placehold.it/32x32   \n",
       "\n",
       "                   registered  \\\n",
       "6  2014-04-13T10:25:03 +05:00   \n",
       "\n",
       "                                                tags  \n",
       "6  [quis, esse, Lorem, minim, nostrud, voluptate,...  \n",
       "\n",
       "[1 rows x 22 columns]"
      ]
     },
     "execution_count": 240,
     "metadata": {},
     "output_type": "execute_result"
    }
   ],
   "source": [
    "df[df.balance == df.balance.min()]"
   ]
  },
  {
   "cell_type": "markdown",
   "metadata": {},
   "source": [
    "- The user with the highest balance"
   ]
  },
  {
   "cell_type": "code",
   "execution_count": 241,
   "metadata": {},
   "outputs": [
    {
     "data": {
      "text/html": [
       "<div>\n",
       "<style scoped>\n",
       "    .dataframe tbody tr th:only-of-type {\n",
       "        vertical-align: middle;\n",
       "    }\n",
       "\n",
       "    .dataframe tbody tr th {\n",
       "        vertical-align: top;\n",
       "    }\n",
       "\n",
       "    .dataframe thead th {\n",
       "        text-align: right;\n",
       "    }\n",
       "</style>\n",
       "<table border=\"1\" class=\"dataframe\">\n",
       "  <thead>\n",
       "    <tr style=\"text-align: right;\">\n",
       "      <th></th>\n",
       "      <th>id</th>\n",
       "      <th>about</th>\n",
       "      <th>address</th>\n",
       "      <th>age</th>\n",
       "      <th>balance</th>\n",
       "      <th>company</th>\n",
       "      <th>email</th>\n",
       "      <th>eye_color</th>\n",
       "      <th>favorite_fruit</th>\n",
       "      <th>friends</th>\n",
       "      <th>...</th>\n",
       "      <th>guid</th>\n",
       "      <th>index</th>\n",
       "      <th>is_active</th>\n",
       "      <th>latitude</th>\n",
       "      <th>longitude</th>\n",
       "      <th>name</th>\n",
       "      <th>phone</th>\n",
       "      <th>picture</th>\n",
       "      <th>registered</th>\n",
       "      <th>tags</th>\n",
       "    </tr>\n",
       "  </thead>\n",
       "  <tbody>\n",
       "    <tr>\n",
       "      <th>3</th>\n",
       "      <td>54e23c3e54e4094147a3b1da</td>\n",
       "      <td>Aliqua sunt exercitation quis cupidatat fugiat...</td>\n",
       "      <td>518 Randolph Street, Whitestone, Arizona, 8189</td>\n",
       "      <td>20</td>\n",
       "      <td>3919.64</td>\n",
       "      <td>INRT</td>\n",
       "      <td>fayhammond@inrt.com</td>\n",
       "      <td>green</td>\n",
       "      <td>banana</td>\n",
       "      <td>[{'id': 0, 'name': 'Dudley Booker'}, {'id': 1,...</td>\n",
       "      <td>...</td>\n",
       "      <td>69eb3454-8acc-46f1-a636-c6df00dfb542</td>\n",
       "      <td>3</td>\n",
       "      <td>False</td>\n",
       "      <td>33.825844</td>\n",
       "      <td>-65.969538</td>\n",
       "      <td>Fay Hammond</td>\n",
       "      <td>+1 (922) 429-2592</td>\n",
       "      <td>http://placehold.it/32x32</td>\n",
       "      <td>2015-01-30T08:05:38 +06:00</td>\n",
       "      <td>[aliqua, esse, sint, pariatur, commodo, do, anim]</td>\n",
       "    </tr>\n",
       "  </tbody>\n",
       "</table>\n",
       "<p>1 rows × 22 columns</p>\n",
       "</div>"
      ],
      "text/plain": [
       "                         id  \\\n",
       "3  54e23c3e54e4094147a3b1da   \n",
       "\n",
       "                                               about  \\\n",
       "3  Aliqua sunt exercitation quis cupidatat fugiat...   \n",
       "\n",
       "                                          address  age  balance company  \\\n",
       "3  518 Randolph Street, Whitestone, Arizona, 8189   20  3919.64    INRT   \n",
       "\n",
       "                 email eye_color favorite_fruit  \\\n",
       "3  fayhammond@inrt.com     green         banana   \n",
       "\n",
       "                                             friends  ...  \\\n",
       "3  [{'id': 0, 'name': 'Dudley Booker'}, {'id': 1,...  ...   \n",
       "\n",
       "                                   guid index is_active   latitude  longitude  \\\n",
       "3  69eb3454-8acc-46f1-a636-c6df00dfb542     3     False  33.825844 -65.969538   \n",
       "\n",
       "          name              phone                    picture  \\\n",
       "3  Fay Hammond  +1 (922) 429-2592  http://placehold.it/32x32   \n",
       "\n",
       "                   registered  \\\n",
       "3  2015-01-30T08:05:38 +06:00   \n",
       "\n",
       "                                                tags  \n",
       "3  [aliqua, esse, sint, pariatur, commodo, do, anim]  \n",
       "\n",
       "[1 rows x 22 columns]"
      ]
     },
     "execution_count": 241,
     "metadata": {},
     "output_type": "execute_result"
    }
   ],
   "source": [
    "df[df.balance == df.balance.max()]"
   ]
  },
  {
   "cell_type": "code",
   "execution_count": 251,
   "metadata": {},
   "outputs": [
    {
     "data": {
      "text/plain": [
       "strawberry    9\n",
       "banana        6\n",
       "apple         4\n",
       "Name: favorite_fruit, dtype: int64"
      ]
     },
     "execution_count": 251,
     "metadata": {},
     "output_type": "execute_result"
    }
   ],
   "source": [
    "df['favorite_fruit'].value_counts()"
   ]
  },
  {
   "cell_type": "code",
   "execution_count": 253,
   "metadata": {},
   "outputs": [
    {
     "name": "stdout",
     "output_type": "stream",
     "text": [
      "The most common fruit of the users is: strawberry\n"
     ]
    }
   ],
   "source": [
    "print('The most common fruit of the users is: ' + df.favorite_fruit.value_counts().idxmax())"
   ]
  },
  {
   "cell_type": "code",
   "execution_count": 254,
   "metadata": {},
   "outputs": [
    {
     "name": "stdout",
     "output_type": "stream",
     "text": [
      "The least common fruit of the users is: apple\n"
     ]
    }
   ],
   "source": [
    "print('The least common fruit of the users is: ' + df.favorite_fruit.value_counts().idxmin())"
   ]
  },
  {
   "cell_type": "markdown",
   "metadata": {},
   "source": [
    "- How many total unread messages do the users have?"
   ]
  },
  {
   "cell_type": "code",
   "execution_count": 261,
   "metadata": {},
   "outputs": [],
   "source": [
    "messages = (df['greeting'].str.extract('(\\d+)').astype(int)).sum()"
   ]
  },
  {
   "cell_type": "code",
   "execution_count": 267,
   "metadata": {},
   "outputs": [
    {
     "data": {
      "text/plain": [
       "0    210\n",
       "dtype: int64"
      ]
     },
     "execution_count": 267,
     "metadata": {},
     "output_type": "execute_result"
    }
   ],
   "source": [
    "messages"
   ]
  },
  {
   "cell_type": "code",
   "execution_count": 335,
   "metadata": {},
   "outputs": [
    {
     "data": {
      "text/plain": [
       "0      Hello, Hebert Estes! You have 4 unread messages.\n",
       "1     Hello, Allison Wynn! You have 19 unread messages.\n",
       "2      Hello, Jacobs Floyd! You have 5 unread messages.\n",
       "3      Hello, Fay Hammond! You have 10 unread messages.\n",
       "4     Hello, Chasity Marsh! You have 9 unread messages.\n",
       "5     Hello, Camacho Cortez! You have 19 unread mess...\n",
       "6      Hello, Avery Flynn! You have 13 unread messages.\n",
       "7     Hello, Michael Cash! You have 17 unread messages.\n",
       "8     Hello, Madeleine Bray! You have 2 unread messa...\n",
       "9     Hello, Corine French! You have 18 unread messa...\n",
       "10    Hello, Trudy Cummings! You have 2 unread messa...\n",
       "11     Hello, Peggy Mayer! You have 13 unread messages.\n",
       "12      Hello, Chan Hurley! You have 7 unread messages.\n",
       "13       Hello, Diaz Pena! You have 13 unread messages.\n",
       "14    Hello, Heath Castaneda! You have 12 unread mes...\n",
       "15    Hello, Greer Blankenship! You have 7 unread me...\n",
       "16    Hello, Coffey Hayes! You have 19 unread messages.\n",
       "17     Hello, Leanne Hurst! You have 5 unread messages.\n",
       "18    Hello, Ewing Larson! You have 16 unread messages.\n",
       "Name: greeting, dtype: object"
      ]
     },
     "execution_count": 335,
     "metadata": {},
     "output_type": "execute_result"
    }
   ],
   "source": [
    "df.greeting"
   ]
  },
  {
   "cell_type": "code",
   "execution_count": null,
   "metadata": {},
   "outputs": [],
   "source": []
  }
 ],
 "metadata": {
  "kernelspec": {
   "display_name": "Python 3",
   "language": "python",
   "name": "python3"
  },
  "language_info": {
   "codemirror_mode": {
    "name": "ipython",
    "version": 3
   },
   "file_extension": ".py",
   "mimetype": "text/x-python",
   "name": "python",
   "nbconvert_exporter": "python",
   "pygments_lexer": "ipython3",
   "version": "3.7.3"
  },
  "toc": {
   "base_numbering": 1,
   "nav_menu": {},
   "number_sections": true,
   "sideBar": true,
   "skip_h1_title": false,
   "title_cell": "Table of Contents",
   "title_sidebar": "Contents",
   "toc_cell": false,
   "toc_position": {},
   "toc_section_display": true,
   "toc_window_display": false
  }
 },
 "nbformat": 4,
 "nbformat_minor": 2
}
